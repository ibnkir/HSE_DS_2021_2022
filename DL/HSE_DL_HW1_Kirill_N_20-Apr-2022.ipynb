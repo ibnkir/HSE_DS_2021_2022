{
 "cells": [
  {
   "cell_type": "markdown",
   "metadata": {
    "executionInfo": {
     "elapsed": 29694,
     "status": "ok",
     "timestamp": 1648827239106,
     "user": {
      "displayName": "иван иванов",
      "userId": "02926776193083975428"
     },
     "user_tz": -180
    },
    "id": "TBoUsyK_8SKP",
    "outputId": "c9883e88-a691-489d-c45c-e029255e3277"
   },
   "source": [
    "## ВШЭ, ФКН, Программа "Специалист по DS" (2021/2022), Курс \"Deep Learning\".\n",
    "### ДЗ №1: Простейшие нейронные сети на PyTorch.\n",
    "#### *Выполнил: Кирилл Н., 20.04.2022 г.*"
   ]
  },
  {
   "cell_type": "markdown",
   "metadata": {},
   "source": [
    "__Задание:__ Нужно обучить нейронную сеть, точность классификация должна быть не меньше __60%__. Как это можно получить:\n",
    "1. Посмотрите на данные, характеристики.\n",
    "2. Попробуйте менять гиперпараметры сети.\n",
    "3. Обратите внимание на саму архитектуру сети.\n",
    "4. Сделайте подсчет точности на валидационной выборке, не использую `torchmetrics`."
   ]
  },
  {
   "cell_type": "code",
   "execution_count": 1,
   "metadata": {
    "colab": {
     "base_uri": "https://localhost:8080/"
    },
    "executionInfo": {
     "elapsed": 4311,
     "status": "ok",
     "timestamp": 1650427961418,
     "user": {
      "displayName": "Kirill N.",
      "userId": "16481738826806641256"
     },
     "user_tz": -180
    },
    "id": "gzf_MDOKH0uo",
    "outputId": "6442a7c0-6f67-4a2e-be18-9c0701568048"
   },
   "outputs": [],
   "source": [
    "# from google.colab import drive\n",
    "# drive.mount('/content/gdrive')\n",
    "\n",
    "# Detect if we are in Google Colaboratory\n",
    "try:\n",
    "    import google.colab\n",
    "    IN_COLAB = True\n",
    "except ImportError:\n",
    "    IN_COLAB = False\n",
    "\n",
    "from pathlib import Path\n",
    "# Determine the locations of auxiliary libraries and datasets.\n",
    "if IN_COLAB:\n",
    "    google.colab.drive.mount(\"/content/drive\")\n",
    "    \n",
    "    ROOT = Path(\"/content/drive/My Drive/HSE_DL_2022/Homework/\")\n",
    "    \n",
    "    assert ROOT.is_dir(), \"Have you forgotten to 'Add a shortcut to Drive'?\"\n",
    "    \n",
    "    import sys\n",
    "    sys.path.append(str(ROOT))\n",
    "else:\n",
    "    ROOT = Path(\".\")"
   ]
  },
  {
   "cell_type": "markdown",
   "metadata": {
    "id": "UnUP5-766JzB"
   },
   "source": [
    "Чтобы установить библиотеку PyTorch, отправляйтесь в консоль и пропишите \n",
    "\n",
    "```\n",
    "Для Windows без GPU\n",
    "pip install torch==1.6.0+cpu torchvision==0.7.0+cpu -f https://download.pytorch.org/whl/torch_stable.html\n",
    "\n",
    "Для Windows c GPU\n",
    "pip install torch==1.6.0+cu101 torchvision==0.7.0+cu101 -f https://download.pytorch.org/whl/torch_stable.html\n",
    "\n",
    "Для Linux без GPU\n",
    "pip install torch==1.6.0+cpu torchvision==0.7.0+cpu -f https://download.pytorch.org/whl/torch_stable.html\n",
    "\n",
    "Для Linux c GPU\n",
    "pip install torch==1.6.0+cu101 torchvision==0.7.0+cu101 -f https://download.pytorch.org/whl/torch_stable.html\n",
    "\n",
    "Для Mac\n",
    "pip install torch torchvision\n",
    "\n",
    "pip install pytorch-lightning\n",
    "```"
   ]
  },
  {
   "cell_type": "code",
   "execution_count": null,
   "metadata": {
    "id": "F4lmyxC0H0uw",
    "outputId": "8c4c3ede-0007-499e-98b9-c489159d6e3d"
   },
   "outputs": [
    {
     "name": "stdout",
     "output_type": "stream",
     "text": [
      "Looking in links: https://download.pytorch.org/whl/torch_stable.html\n",
      "Collecting torch==1.6.0+cpu\n",
      "  Downloading https://download.pytorch.org/whl/cpu/torch-1.6.0%2Bcpu-cp38-cp38-win_amd64.whl (167.7 MB)\n",
      "Collecting torchvision==0.7.0+cpu\n",
      "  Downloading https://download.pytorch.org/whl/cpu/torchvision-0.7.0%2Bcpu-cp38-cp38-win_amd64.whl (362 kB)\n",
      "Requirement already satisfied: future in c:\\programdata\\anaconda3\\lib\\site-packages (from torch==1.6.0+cpu) (0.18.2)\n",
      "Requirement already satisfied: numpy in c:\\programdata\\anaconda3\\lib\\site-packages (from torch==1.6.0+cpu) (1.19.2)\n",
      "Requirement already satisfied: pillow>=4.1.1 in c:\\programdata\\anaconda3\\lib\\site-packages (from torchvision==0.7.0+cpu) (8.0.1)\n",
      "Installing collected packages: torch, torchvision\n",
      "Successfully installed torch-1.6.0+cpu torchvision-0.7.0+cpu\n"
     ]
    }
   ],
   "source": [
    "# !pip install torch==1.6.0+cpu torchvision==0.7.0+cpu -f https://download.pytorch.org/whl/torch_stable.html"
   ]
  },
  {
   "cell_type": "code",
   "execution_count": 2,
   "metadata": {
    "executionInfo": {
     "elapsed": 321,
     "status": "ok",
     "timestamp": 1650427215858,
     "user": {
      "displayName": "Kirill N.",
      "userId": "16481738826806641256"
     },
     "user_tz": -180
    },
    "id": "IlJBTZB-6JzF"
   },
   "outputs": [],
   "source": [
    "import warnings\n",
    "warnings.filterwarnings(\"ignore\")"
   ]
  },
  {
   "cell_type": "code",
   "execution_count": 3,
   "metadata": {
    "colab": {
     "base_uri": "https://localhost:8080/"
    },
    "executionInfo": {
     "elapsed": 7276,
     "status": "ok",
     "timestamp": 1650427224756,
     "user": {
      "displayName": "Kirill N.",
      "userId": "16481738826806641256"
     },
     "user_tz": -180
    },
    "id": "l_uvoVq96JzH",
    "outputId": "1e544196-2acb-4150-b8a6-5fbe1f40ba57"
   },
   "outputs": [
    {
     "name": "stdout",
     "output_type": "stream",
     "text": [
      "1.6.0+cpu\n"
     ]
    }
   ],
   "source": [
    "# Подгружаем pytorch \n",
    "import torch\n",
    "\n",
    "print(torch.__version__)"
   ]
  },
  {
   "cell_type": "code",
   "execution_count": 4,
   "metadata": {
    "executionInfo": {
     "elapsed": 868,
     "status": "ok",
     "timestamp": 1650427229102,
     "user": {
      "displayName": "Kirill N.",
      "userId": "16481738826806641256"
     },
     "user_tz": -180
    },
    "id": "TZ_nW1Pf6JzJ"
   },
   "outputs": [],
   "source": [
    "import numpy as np\n",
    "import pandas as pd\n",
    "\n",
    "import seaborn as sns\n",
    "import matplotlib.pyplot as plt\n",
    "plt.style.use('ggplot')\n",
    "\n",
    "from sklearn.model_selection import train_test_split\n",
    "from sklearn.metrics import accuracy_score # Для расчета точности на baselines models\n",
    "from sklearn.metrics import log_loss\n",
    "\n",
    "%matplotlib inline"
   ]
  },
  {
   "cell_type": "markdown",
   "metadata": {
    "id": "1Pejg3fm6JzJ"
   },
   "source": [
    "### Получение и предобработка исходных данных\n",
    "Ежегодно около 7.6 миллионов бедных животных в США оказываются в приютах. Часть из них находит себе новую семью, часть возвращается к старому (бывает, что питомец потерялся и его нашли на улице), а часть погибает. Ужегодно усыпляется около 2.7 млн. собак и кошек.  \n",
    "Используя датасет с входной информацией (цвет, пол, возраст и т.п.) из одного из приютов, мы попытаемся спрогнозировать что произойдёт с новыми животными, которые попадут в этот приют. Данные, используемые в тетрадке уже были предварительно обработаны и приведены в удобную для построения моделей форму. "
   ]
  },
  {
   "cell_type": "code",
   "execution_count": 5,
   "metadata": {
    "colab": {
     "base_uri": "https://localhost:8080/",
     "height": 317
    },
    "executionInfo": {
     "elapsed": 373,
     "status": "ok",
     "timestamp": 1650429080845,
     "user": {
      "displayName": "Kirill N.",
      "userId": "16481738826806641256"
     },
     "user_tz": -180
    },
    "id": "VnAi3Sdo6JzK",
    "outputId": "86f7f6ad-e7fa-4568-fead-b444b3a1fc92"
   },
   "outputs": [
    {
     "name": "stdout",
     "output_type": "stream",
     "text": [
      "(26729, 37)\n"
     ]
    },
    {
     "data": {
      "text/html": [
       "<div>\n",
       "<style scoped>\n",
       "    .dataframe tbody tr th:only-of-type {\n",
       "        vertical-align: middle;\n",
       "    }\n",
       "\n",
       "    .dataframe tbody tr th {\n",
       "        vertical-align: top;\n",
       "    }\n",
       "\n",
       "    .dataframe thead th {\n",
       "        text-align: right;\n",
       "    }\n",
       "</style>\n",
       "<table border=\"1\" class=\"dataframe\">\n",
       "  <thead>\n",
       "    <tr style=\"text-align: right;\">\n",
       "      <th></th>\n",
       "      <th>IsDog</th>\n",
       "      <th>Age</th>\n",
       "      <th>HasName</th>\n",
       "      <th>NameLength</th>\n",
       "      <th>NameFreq</th>\n",
       "      <th>MixColor</th>\n",
       "      <th>ColorFreqAsIs</th>\n",
       "      <th>ColorFreqBase</th>\n",
       "      <th>TabbyColor</th>\n",
       "      <th>MixBreed</th>\n",
       "      <th>...</th>\n",
       "      <th>SexStatus_Flawed</th>\n",
       "      <th>SexStatus_Intact</th>\n",
       "      <th>SexStatus_Unknown</th>\n",
       "      <th>Weekday_0</th>\n",
       "      <th>Weekday_1</th>\n",
       "      <th>Weekday_2</th>\n",
       "      <th>Weekday_3</th>\n",
       "      <th>Weekday_4</th>\n",
       "      <th>Weekday_5</th>\n",
       "      <th>Weekday_6</th>\n",
       "    </tr>\n",
       "  </thead>\n",
       "  <tbody>\n",
       "    <tr>\n",
       "      <th>0</th>\n",
       "      <td>1</td>\n",
       "      <td>365.0</td>\n",
       "      <td>1</td>\n",
       "      <td>7</td>\n",
       "      <td>0.000157</td>\n",
       "      <td>1</td>\n",
       "      <td>0.032919</td>\n",
       "      <td>0.463624</td>\n",
       "      <td>0</td>\n",
       "      <td>1</td>\n",
       "      <td>...</td>\n",
       "      <td>1</td>\n",
       "      <td>0</td>\n",
       "      <td>0</td>\n",
       "      <td>0</td>\n",
       "      <td>0</td>\n",
       "      <td>1</td>\n",
       "      <td>0</td>\n",
       "      <td>0</td>\n",
       "      <td>0</td>\n",
       "      <td>0</td>\n",
       "    </tr>\n",
       "    <tr>\n",
       "      <th>1</th>\n",
       "      <td>0</td>\n",
       "      <td>365.0</td>\n",
       "      <td>1</td>\n",
       "      <td>5</td>\n",
       "      <td>0.000655</td>\n",
       "      <td>0</td>\n",
       "      <td>0.008092</td>\n",
       "      <td>0.015005</td>\n",
       "      <td>1</td>\n",
       "      <td>1</td>\n",
       "      <td>...</td>\n",
       "      <td>1</td>\n",
       "      <td>0</td>\n",
       "      <td>0</td>\n",
       "      <td>0</td>\n",
       "      <td>0</td>\n",
       "      <td>0</td>\n",
       "      <td>0</td>\n",
       "      <td>0</td>\n",
       "      <td>0</td>\n",
       "      <td>1</td>\n",
       "    </tr>\n",
       "    <tr>\n",
       "      <th>2</th>\n",
       "      <td>1</td>\n",
       "      <td>730.0</td>\n",
       "      <td>1</td>\n",
       "      <td>6</td>\n",
       "      <td>0.000052</td>\n",
       "      <td>1</td>\n",
       "      <td>0.026293</td>\n",
       "      <td>0.357521</td>\n",
       "      <td>0</td>\n",
       "      <td>1</td>\n",
       "      <td>...</td>\n",
       "      <td>1</td>\n",
       "      <td>0</td>\n",
       "      <td>0</td>\n",
       "      <td>0</td>\n",
       "      <td>0</td>\n",
       "      <td>0</td>\n",
       "      <td>0</td>\n",
       "      <td>0</td>\n",
       "      <td>1</td>\n",
       "      <td>0</td>\n",
       "    </tr>\n",
       "    <tr>\n",
       "      <th>3</th>\n",
       "      <td>0</td>\n",
       "      <td>21.0</td>\n",
       "      <td>0</td>\n",
       "      <td>7</td>\n",
       "      <td>0.285871</td>\n",
       "      <td>0</td>\n",
       "      <td>0.000471</td>\n",
       "      <td>0.058418</td>\n",
       "      <td>0</td>\n",
       "      <td>1</td>\n",
       "      <td>...</td>\n",
       "      <td>0</td>\n",
       "      <td>1</td>\n",
       "      <td>0</td>\n",
       "      <td>0</td>\n",
       "      <td>0</td>\n",
       "      <td>0</td>\n",
       "      <td>0</td>\n",
       "      <td>1</td>\n",
       "      <td>0</td>\n",
       "      <td>0</td>\n",
       "    </tr>\n",
       "    <tr>\n",
       "      <th>4</th>\n",
       "      <td>1</td>\n",
       "      <td>730.0</td>\n",
       "      <td>0</td>\n",
       "      <td>7</td>\n",
       "      <td>0.285871</td>\n",
       "      <td>0</td>\n",
       "      <td>0.023831</td>\n",
       "      <td>0.075353</td>\n",
       "      <td>0</td>\n",
       "      <td>0</td>\n",
       "      <td>...</td>\n",
       "      <td>1</td>\n",
       "      <td>0</td>\n",
       "      <td>0</td>\n",
       "      <td>0</td>\n",
       "      <td>0</td>\n",
       "      <td>0</td>\n",
       "      <td>0</td>\n",
       "      <td>1</td>\n",
       "      <td>0</td>\n",
       "      <td>0</td>\n",
       "    </tr>\n",
       "  </tbody>\n",
       "</table>\n",
       "<p>5 rows × 37 columns</p>\n",
       "</div>"
      ],
      "text/plain": [
       "   IsDog    Age  HasName  NameLength  NameFreq  MixColor  ColorFreqAsIs  \\\n",
       "0      1  365.0        1           7  0.000157         1       0.032919   \n",
       "1      0  365.0        1           5  0.000655         0       0.008092   \n",
       "2      1  730.0        1           6  0.000052         1       0.026293   \n",
       "3      0   21.0        0           7  0.285871         0       0.000471   \n",
       "4      1  730.0        0           7  0.285871         0       0.023831   \n",
       "\n",
       "   ColorFreqBase  TabbyColor  MixBreed  ...  SexStatus_Flawed  \\\n",
       "0       0.463624           0         1  ...                 1   \n",
       "1       0.015005           1         1  ...                 1   \n",
       "2       0.357521           0         1  ...                 1   \n",
       "3       0.058418           0         1  ...                 0   \n",
       "4       0.075353           0         0  ...                 1   \n",
       "\n",
       "   SexStatus_Intact  SexStatus_Unknown  Weekday_0  Weekday_1  Weekday_2  \\\n",
       "0                 0                  0          0          0          1   \n",
       "1                 0                  0          0          0          0   \n",
       "2                 0                  0          0          0          0   \n",
       "3                 1                  0          0          0          0   \n",
       "4                 0                  0          0          0          0   \n",
       "\n",
       "   Weekday_3  Weekday_4  Weekday_5  Weekday_6  \n",
       "0          0          0          0          0  \n",
       "1          0          0          0          1  \n",
       "2          0          0          1          0  \n",
       "3          0          1          0          0  \n",
       "4          0          1          0          0  \n",
       "\n",
       "[5 rows x 37 columns]"
      ]
     },
     "execution_count": 5,
     "metadata": {},
     "output_type": "execute_result"
    }
   ],
   "source": [
    "X = pd.read_csv(f'{ROOT}/data/X_cat.csv', sep = '\\t', index_col=0)\n",
    "target = pd.read_csv(f'{ROOT}/data/y_cat.csv', sep = '\\t', index_col=0, names=['status'])\n",
    "\n",
    "print(X.shape)\n",
    "X.head()"
   ]
  },
  {
   "cell_type": "code",
   "execution_count": 6,
   "metadata": {
    "colab": {
     "base_uri": "https://localhost:8080/",
     "height": 423
    },
    "executionInfo": {
     "elapsed": 451,
     "status": "ok",
     "timestamp": 1650429111880,
     "user": {
      "displayName": "Kirill N.",
      "userId": "16481738826806641256"
     },
     "user_tz": -180
    },
    "id": "vFXBngtO6JzK",
    "outputId": "dc938589-21b5-43bb-b6a6-06da7ed31afc"
   },
   "outputs": [
    {
     "data": {
      "text/html": [
       "<div>\n",
       "<style scoped>\n",
       "    .dataframe tbody tr th:only-of-type {\n",
       "        vertical-align: middle;\n",
       "    }\n",
       "\n",
       "    .dataframe tbody tr th {\n",
       "        vertical-align: top;\n",
       "    }\n",
       "\n",
       "    .dataframe thead th {\n",
       "        text-align: right;\n",
       "    }\n",
       "</style>\n",
       "<table border=\"1\" class=\"dataframe\">\n",
       "  <thead>\n",
       "    <tr style=\"text-align: right;\">\n",
       "      <th></th>\n",
       "      <th>status</th>\n",
       "    </tr>\n",
       "  </thead>\n",
       "  <tbody>\n",
       "    <tr>\n",
       "      <th>0</th>\n",
       "      <td>Return_to_owner</td>\n",
       "    </tr>\n",
       "    <tr>\n",
       "      <th>1</th>\n",
       "      <td>Euthanasia</td>\n",
       "    </tr>\n",
       "    <tr>\n",
       "      <th>2</th>\n",
       "      <td>Adoption</td>\n",
       "    </tr>\n",
       "    <tr>\n",
       "      <th>3</th>\n",
       "      <td>Transfer</td>\n",
       "    </tr>\n",
       "    <tr>\n",
       "      <th>4</th>\n",
       "      <td>Transfer</td>\n",
       "    </tr>\n",
       "  </tbody>\n",
       "</table>\n",
       "</div>"
      ],
      "text/plain": [
       "            status\n",
       "0  Return_to_owner\n",
       "1       Euthanasia\n",
       "2         Adoption\n",
       "3         Transfer\n",
       "4         Transfer"
      ]
     },
     "execution_count": 6,
     "metadata": {},
     "output_type": "execute_result"
    }
   ],
   "source": [
    "target.head()"
   ]
  },
  {
   "cell_type": "code",
   "execution_count": 7,
   "metadata": {
    "colab": {
     "base_uri": "https://localhost:8080/"
    },
    "executionInfo": {
     "elapsed": 449,
     "status": "ok",
     "timestamp": 1650429115567,
     "user": {
      "displayName": "Kirill N.",
      "userId": "16481738826806641256"
     },
     "user_tz": -180
    },
    "id": "IREfWzCF6JzL",
    "outputId": "539184a1-ae31-44f8-cdb2-e5cb6f55e18e"
   },
   "outputs": [
    {
     "data": {
      "text/plain": [
       "Adoption           10769\n",
       "Transfer            9422\n",
       "Return_to_owner     4786\n",
       "Euthanasia          1555\n",
       "Died                 197\n",
       "Name: status, dtype: int64"
      ]
     },
     "execution_count": 7,
     "metadata": {},
     "output_type": "execute_result"
    }
   ],
   "source": [
    "target.status.value_counts()"
   ]
  },
  {
   "cell_type": "markdown",
   "metadata": {
    "id": "kM6D53s-6JzM"
   },
   "source": [
    "Видим, что классы несбалансированы. Попробуем оставит четыре класса и объединить класс умерших животных с классом животных, которых усыпили. "
   ]
  },
  {
   "cell_type": "code",
   "execution_count": 8,
   "metadata": {
    "executionInfo": {
     "elapsed": 4,
     "status": "ok",
     "timestamp": 1650429118429,
     "user": {
      "displayName": "Kirill N.",
      "userId": "16481738826806641256"
     },
     "user_tz": -180
    },
    "id": "eDubyVG96JzM"
   },
   "outputs": [],
   "source": [
    "target[target == 'Died'] = 'Euthanasia'"
   ]
  },
  {
   "cell_type": "code",
   "execution_count": 9,
   "metadata": {
    "colab": {
     "base_uri": "https://localhost:8080/"
    },
    "executionInfo": {
     "elapsed": 10,
     "status": "ok",
     "timestamp": 1650429121101,
     "user": {
      "displayName": "Kirill N.",
      "userId": "16481738826806641256"
     },
     "user_tz": -180
    },
    "id": "h2Oje0qZ6JzN",
    "outputId": "c95b7b58-1d39-4e9a-cedf-bead24abad3a"
   },
   "outputs": [
    {
     "data": {
      "text/plain": [
       "array([2, 1, 0, ..., 0, 3, 3])"
      ]
     },
     "execution_count": 9,
     "metadata": {},
     "output_type": "execute_result"
    }
   ],
   "source": [
    "# Кодируем классы\n",
    "\n",
    "from sklearn.preprocessing import LabelEncoder\n",
    "le = LabelEncoder()\n",
    "y = le.fit_transform(target)\n",
    "y"
   ]
  },
  {
   "cell_type": "code",
   "execution_count": 10,
   "metadata": {
    "colab": {
     "base_uri": "https://localhost:8080/"
    },
    "executionInfo": {
     "elapsed": 519,
     "status": "ok",
     "timestamp": 1650429126012,
     "user": {
      "displayName": "Kirill N.",
      "userId": "16481738826806641256"
     },
     "user_tz": -180
    },
    "id": "MD6UTyPr6JzP",
    "outputId": "a4957295-573d-44f7-b9b6-8a0489420b25"
   },
   "outputs": [
    {
     "name": "stdout",
     "output_type": "stream",
     "text": [
      "(21383, 37)\n",
      "(5346, 37)\n"
     ]
    }
   ],
   "source": [
    "# Разбиваем выборку на тренировочную и тестовую\n",
    "\n",
    "X_train, X_test, y_train, y_test = train_test_split(X, y, test_size=0.2, stratify = y, random_state = 42)\n",
    "\n",
    "print(X_train.shape)\n",
    "print(X_test.shape)"
   ]
  },
  {
   "cell_type": "code",
   "execution_count": 11,
   "metadata": {},
   "outputs": [],
   "source": [
    "# Масштабируем входные признаки\n",
    "\n",
    "from sklearn.preprocessing import StandardScaler\n",
    "ss = StandardScaler()\n",
    "\n",
    "X_train = ss.fit_transform(X_train)\n",
    "X_test = ss.transform(X_test)"
   ]
  },
  {
   "cell_type": "markdown",
   "metadata": {
    "id": "v0d4gsJu6JzP"
   },
   "source": [
    "Построим какие-нибудь простые прогнозы, чтобы было с чем сравнить. \n",
    "### Константный прогноз "
   ]
  },
  {
   "cell_type": "code",
   "execution_count": 12,
   "metadata": {
    "colab": {
     "base_uri": "https://localhost:8080/"
    },
    "executionInfo": {
     "elapsed": 399,
     "status": "ok",
     "timestamp": 1650429131228,
     "user": {
      "displayName": "Kirill N.",
      "userId": "16481738826806641256"
     },
     "user_tz": -180
    },
    "id": "Y7gEIrqd6JzQ",
    "outputId": "a8f672a0-8702-46d2-cb1d-92de8e9b3ff5"
   },
   "outputs": [
    {
     "data": {
      "text/plain": [
       "array([0.40289015, 0.0655661 , 0.17906748, 0.35247627])"
      ]
     },
     "execution_count": 12,
     "metadata": {},
     "output_type": "execute_result"
    }
   ],
   "source": [
    "proba = np.array(pd.Series(y_train).value_counts(normalize=True).sort_index().tolist())\n",
    "proba"
   ]
  },
  {
   "cell_type": "code",
   "execution_count": 13,
   "metadata": {
    "colab": {
     "base_uri": "https://localhost:8080/"
    },
    "executionInfo": {
     "elapsed": 8,
     "status": "ok",
     "timestamp": 1650429133028,
     "user": {
      "displayName": "Kirill N.",
      "userId": "16481738826806641256"
     },
     "user_tz": -180
    },
    "id": "SAxFZ0O16JzQ",
    "outputId": "7dd828ec-f4c5-4e3e-b42f-bf22310a99d1"
   },
   "outputs": [
    {
     "data": {
      "text/plain": [
       "array([[0.40289015, 0.0655661 , 0.17906748, 0.35247627],\n",
       "       [0.40289015, 0.0655661 , 0.17906748, 0.35247627],\n",
       "       [0.40289015, 0.0655661 , 0.17906748, 0.35247627],\n",
       "       ...,\n",
       "       [0.40289015, 0.0655661 , 0.17906748, 0.35247627],\n",
       "       [0.40289015, 0.0655661 , 0.17906748, 0.35247627],\n",
       "       [0.40289015, 0.0655661 , 0.17906748, 0.35247627]])"
      ]
     },
     "execution_count": 13,
     "metadata": {},
     "output_type": "execute_result"
    }
   ],
   "source": [
    "pred_proba = np.tile(proba, X_test.shape[0]).reshape(X_test.shape[0], 4)\n",
    "pred_proba"
   ]
  },
  {
   "cell_type": "code",
   "execution_count": 14,
   "metadata": {
    "colab": {
     "base_uri": "https://localhost:8080/"
    },
    "executionInfo": {
     "elapsed": 468,
     "status": "ok",
     "timestamp": 1650429134867,
     "user": {
      "displayName": "Kirill N.",
      "userId": "16481738826806641256"
     },
     "user_tz": -180
    },
    "id": "NOsPgDih6JzR",
    "outputId": "4d259ad0-e3ce-4221-8f69-2cc2c93fadcb"
   },
   "outputs": [
    {
     "name": "stdout",
     "output_type": "stream",
     "text": [
      "Loss: 1.2203\n",
      "Accuracy: 40.2918%\n"
     ]
    }
   ],
   "source": [
    "loss = log_loss(y_test, pred_proba)\n",
    "print(f\"Loss: {loss:.4f}\")\n",
    "\n",
    "pred_classes = pred_proba.argmax(axis=1)\n",
    "print(f\"Accuracy: {accuracy_score(y_test, pred_classes)*100:.4f}%\")"
   ]
  },
  {
   "cell_type": "markdown",
   "metadata": {
    "id": "NXJ1gaep6JzR"
   },
   "source": [
    "### Логистическая регрессия"
   ]
  },
  {
   "cell_type": "code",
   "execution_count": 15,
   "metadata": {
    "colab": {
     "base_uri": "https://localhost:8080/"
    },
    "executionInfo": {
     "elapsed": 1849,
     "status": "ok",
     "timestamp": 1650429138703,
     "user": {
      "displayName": "Kirill N.",
      "userId": "16481738826806641256"
     },
     "user_tz": -180
    },
    "id": "ab6j_dAY6JzR",
    "outputId": "f51cf933-e201-4d80-b5fd-52ab35ec42e7"
   },
   "outputs": [
    {
     "name": "stdout",
     "output_type": "stream",
     "text": [
      "Прогнозные вероятности:\n",
      "\n",
      "[[0.54217195 0.02498543 0.05994571 0.3728969 ]\n",
      " [0.52995017 0.03421098 0.28951121 0.14632765]\n",
      " [0.2283931  0.03902219 0.10238836 0.63019635]\n",
      " ...\n",
      " [0.7257164  0.00264271 0.20210507 0.06953583]\n",
      " [0.50441461 0.04477891 0.00538189 0.44542459]\n",
      " [0.7752769  0.00360413 0.13963752 0.08148146]]\n"
     ]
    }
   ],
   "source": [
    "from sklearn.linear_model import LogisticRegression\n",
    "\n",
    "logreg = LogisticRegression()\n",
    "logreg.fit(X_train, y_train)\n",
    "pred_proba = logreg.predict_proba(X_test)\n",
    "\n",
    "print(\"Прогнозные вероятности:\\n\")\n",
    "print(pred_proba)"
   ]
  },
  {
   "cell_type": "code",
   "execution_count": 16,
   "metadata": {},
   "outputs": [
    {
     "name": "stdout",
     "output_type": "stream",
     "text": [
      "Loss: 0.8797\n",
      "Accuracy: 64.0853%\n"
     ]
    }
   ],
   "source": [
    "loss = log_loss(y_test, pred_proba)\n",
    "print(f\"Loss: {loss:.4f}\")\n",
    "\n",
    "pred_classes = pred_proba.argmax(axis=1)\n",
    "print(f\"Accuracy: {accuracy_score(y_test, pred_classes)*100:.4f}%\")"
   ]
  },
  {
   "cell_type": "markdown",
   "metadata": {
    "id": "ahhGgtfR6JzS"
   },
   "source": [
    "### Случайный лес "
   ]
  },
  {
   "cell_type": "code",
   "execution_count": 17,
   "metadata": {
    "colab": {
     "base_uri": "https://localhost:8080/"
    },
    "executionInfo": {
     "elapsed": 34252,
     "status": "ok",
     "timestamp": 1650429174389,
     "user": {
      "displayName": "Kirill N.",
      "userId": "16481738826806641256"
     },
     "user_tz": -180
    },
    "id": "_a9fsnLz6JzT",
    "outputId": "40794967-13b0-48f5-9c82-a479afeaa932",
    "scrolled": true
   },
   "outputs": [
    {
     "name": "stdout",
     "output_type": "stream",
     "text": [
      "Прогнозные вероятности:\n",
      "\n",
      "[[0.854 0.009 0.018 0.119]\n",
      " [0.362 0.057 0.257 0.324]\n",
      " [0.511 0.21  0.061 0.218]\n",
      " ...\n",
      " [0.238 0.004 0.268 0.49 ]\n",
      " [0.804 0.019 0.026 0.151]\n",
      " [0.833 0.003 0.109 0.055]]\n"
     ]
    }
   ],
   "source": [
    "from sklearn.ensemble import RandomForestClassifier\n",
    "\n",
    "rf = RandomForestClassifier(n_estimators=1000, n_jobs=-1)\n",
    "rf.fit(X_train, y_train)\n",
    "pred_proba = rf.predict_proba(X_test)\n",
    "\n",
    "print(\"Прогнозные вероятности:\\n\")\n",
    "print(pred_proba)"
   ]
  },
  {
   "cell_type": "code",
   "execution_count": 18,
   "metadata": {},
   "outputs": [
    {
     "name": "stdout",
     "output_type": "stream",
     "text": [
      "Loss: 0.7618\n",
      "Accuracy: 69.1919%\n"
     ]
    }
   ],
   "source": [
    "loss = log_loss(y_test, pred_proba)\n",
    "print(f\"Loss: {loss:.4f}\")\n",
    "\n",
    "pred_classes = pred_proba.argmax(axis=1)\n",
    "print(f\"Accuracy: {accuracy_score(y_test, pred_classes)*100:.4f}%\")"
   ]
  },
  {
   "cell_type": "markdown",
   "metadata": {
    "id": "a8TNgd296JzT"
   },
   "source": [
    "### Простейшая нейронная сеть"
   ]
  },
  {
   "cell_type": "code",
   "execution_count": 19,
   "metadata": {
    "executionInfo": {
     "elapsed": 405,
     "status": "ok",
     "timestamp": 1650429188883,
     "user": {
      "displayName": "Kirill N.",
      "userId": "16481738826806641256"
     },
     "user_tz": -180
    },
    "id": "n4zl9uuz6JzU"
   },
   "outputs": [],
   "source": [
    "INPUT_SIZE = 37\n",
    "HIDDEN_SIZE = 50 #25\n",
    "OUTPUT_SIZE = 4\n",
    "LEARNING_RATE = 1e-3\n",
    "EPOCHS = 150 #105\n",
    "BATCH_SIZE = 128"
   ]
  },
  {
   "cell_type": "code",
   "execution_count": 24,
   "metadata": {
    "colab": {
     "base_uri": "https://localhost:8080/"
    },
    "executionInfo": {
     "elapsed": 7913,
     "status": "ok",
     "timestamp": 1650427319909,
     "user": {
      "displayName": "Kirill N.",
      "userId": "16481738826806641256"
     },
     "user_tz": -180
    },
    "id": "o0fCVysZBaIf",
    "outputId": "30b98e3a-2fda-405b-e5a4-bb36a00c6983"
   },
   "outputs": [
    {
     "name": "stdout",
     "output_type": "stream",
     "text": [
      "Collecting torchmetrics\n",
      "  Downloading torchmetrics-0.8.0-py3-none-any.whl (408 kB)\n",
      "\u001b[?25l\r",
      "\u001b[K     |▉                               | 10 kB 18.2 MB/s eta 0:00:01\r",
      "\u001b[K     |█▋                              | 20 kB 21.6 MB/s eta 0:00:01\r",
      "\u001b[K     |██▍                             | 30 kB 24.6 MB/s eta 0:00:01\r",
      "\u001b[K     |███▏                            | 40 kB 14.2 MB/s eta 0:00:01\r",
      "\u001b[K     |████                            | 51 kB 11.5 MB/s eta 0:00:01\r",
      "\u001b[K     |████▉                           | 61 kB 13.2 MB/s eta 0:00:01\r",
      "\u001b[K     |█████▋                          | 71 kB 12.7 MB/s eta 0:00:01\r",
      "\u001b[K     |██████▍                         | 81 kB 13.8 MB/s eta 0:00:01\r",
      "\u001b[K     |███████▏                        | 92 kB 15.0 MB/s eta 0:00:01\r",
      "\u001b[K     |████████                        | 102 kB 14.9 MB/s eta 0:00:01\r",
      "\u001b[K     |████████▉                       | 112 kB 14.9 MB/s eta 0:00:01\r",
      "\u001b[K     |█████████▋                      | 122 kB 14.9 MB/s eta 0:00:01\r",
      "\u001b[K     |██████████▍                     | 133 kB 14.9 MB/s eta 0:00:01\r",
      "\u001b[K     |███████████▎                    | 143 kB 14.9 MB/s eta 0:00:01\r",
      "\u001b[K     |████████████                    | 153 kB 14.9 MB/s eta 0:00:01\r",
      "\u001b[K     |████████████▉                   | 163 kB 14.9 MB/s eta 0:00:01\r",
      "\u001b[K     |█████████████▋                  | 174 kB 14.9 MB/s eta 0:00:01\r",
      "\u001b[K     |██████████████▍                 | 184 kB 14.9 MB/s eta 0:00:01\r",
      "\u001b[K     |███████████████▎                | 194 kB 14.9 MB/s eta 0:00:01\r",
      "\u001b[K     |████████████████                | 204 kB 14.9 MB/s eta 0:00:01\r",
      "\u001b[K     |████████████████▉               | 215 kB 14.9 MB/s eta 0:00:01\r",
      "\u001b[K     |█████████████████▋              | 225 kB 14.9 MB/s eta 0:00:01\r",
      "\u001b[K     |██████████████████▍             | 235 kB 14.9 MB/s eta 0:00:01\r",
      "\u001b[K     |███████████████████▎            | 245 kB 14.9 MB/s eta 0:00:01\r",
      "\u001b[K     |████████████████████            | 256 kB 14.9 MB/s eta 0:00:01\r",
      "\u001b[K     |████████████████████▉           | 266 kB 14.9 MB/s eta 0:00:01\r",
      "\u001b[K     |█████████████████████▋          | 276 kB 14.9 MB/s eta 0:00:01\r",
      "\u001b[K     |██████████████████████▌         | 286 kB 14.9 MB/s eta 0:00:01\r",
      "\u001b[K     |███████████████████████▎        | 296 kB 14.9 MB/s eta 0:00:01\r",
      "\u001b[K     |████████████████████████        | 307 kB 14.9 MB/s eta 0:00:01\r",
      "\u001b[K     |████████████████████████▉       | 317 kB 14.9 MB/s eta 0:00:01\r",
      "\u001b[K     |█████████████████████████▋      | 327 kB 14.9 MB/s eta 0:00:01\r",
      "\u001b[K     |██████████████████████████▌     | 337 kB 14.9 MB/s eta 0:00:01\r",
      "\u001b[K     |███████████████████████████▎    | 348 kB 14.9 MB/s eta 0:00:01\r",
      "\u001b[K     |████████████████████████████    | 358 kB 14.9 MB/s eta 0:00:01\r",
      "\u001b[K     |████████████████████████████▉   | 368 kB 14.9 MB/s eta 0:00:01\r",
      "\u001b[K     |█████████████████████████████▊  | 378 kB 14.9 MB/s eta 0:00:01\r",
      "\u001b[K     |██████████████████████████████▌ | 389 kB 14.9 MB/s eta 0:00:01\r",
      "\u001b[K     |███████████████████████████████▎| 399 kB 14.9 MB/s eta 0:00:01\r",
      "\u001b[K     |████████████████████████████████| 408 kB 14.9 MB/s \n",
      "\u001b[?25hRequirement already satisfied: numpy>=1.17.2 in /usr/local/lib/python3.7/dist-packages (from torchmetrics) (1.21.6)\n",
      "Requirement already satisfied: torch>=1.3.1 in /usr/local/lib/python3.7/dist-packages (from torchmetrics) (1.10.0+cu111)\n",
      "Requirement already satisfied: packaging in /usr/local/lib/python3.7/dist-packages (from torchmetrics) (21.3)\n",
      "Collecting pyDeprecate==0.3.*\n",
      "  Downloading pyDeprecate-0.3.2-py3-none-any.whl (10 kB)\n",
      "Requirement already satisfied: typing-extensions in /usr/local/lib/python3.7/dist-packages (from torch>=1.3.1->torchmetrics) (4.1.1)\n",
      "Requirement already satisfied: pyparsing!=3.0.5,>=2.0.2 in /usr/local/lib/python3.7/dist-packages (from packaging->torchmetrics) (3.0.8)\n",
      "Installing collected packages: pyDeprecate, torchmetrics\n",
      "Successfully installed pyDeprecate-0.3.2 torchmetrics-0.8.0\n"
     ]
    }
   ],
   "source": [
    "# !pip install torchmetrics"
   ]
  },
  {
   "cell_type": "code",
   "execution_count": 20,
   "metadata": {
    "executionInfo": {
     "elapsed": 415,
     "status": "ok",
     "timestamp": 1650429193796,
     "user": {
      "displayName": "Kirill N.",
      "userId": "16481738826806641256"
     },
     "user_tz": -180
    },
    "id": "cOcCDlVZ6Jze"
   },
   "outputs": [],
   "source": [
    "import torch.nn as nn # Содержит функции для реалзации архитектуры нейронных сетей\n",
    "import torch.nn.functional as F # Содержит различные функции активации и не только\n",
    "import torch.optim as optim\n",
    "import torch.utils.data as data_utils\n",
    "\n",
    "#from torchmetrics import Accuracy"
   ]
  },
  {
   "cell_type": "markdown",
   "metadata": {
    "id": "7rYf64bW6Jzf"
   },
   "source": [
    "Для того чтобы подавать данные в нейронную сеть, создадим `DataLoader`, который предоставляет гибкий API для работы с входными данными."
   ]
  },
  {
   "cell_type": "code",
   "execution_count": 21,
   "metadata": {
    "executionInfo": {
     "elapsed": 5,
     "status": "ok",
     "timestamp": 1650429211483,
     "user": {
      "displayName": "Kirill N.",
      "userId": "16481738826806641256"
     },
     "user_tz": -180
    },
    "id": "v8RaCCBv6Jzg"
   },
   "outputs": [],
   "source": [
    "def create_data_loader(X_train, y_train, X_test, y_test):\n",
    "    train_tensor = data_utils.TensorDataset(torch.tensor(X_train.astype(np.float32)), torch.tensor(y_train))\n",
    "    train_loader = data_utils.DataLoader(dataset=train_tensor,\n",
    "                                         batch_size=BATCH_SIZE,\n",
    "                                         shuffle=True)\n",
    "\n",
    "    test_tensor = data_utils.TensorDataset(torch.tensor(X_test.astype(np.float32)), torch.tensor(y_test))\n",
    "    test_loader = data_utils.DataLoader(dataset=test_tensor,\n",
    "                                        batch_size=BATCH_SIZE,\n",
    "                                        shuffle=False)\n",
    "    return train_loader, test_loader"
   ]
  },
  {
   "cell_type": "code",
   "execution_count": 22,
   "metadata": {
    "executionInfo": {
     "elapsed": 413,
     "status": "ok",
     "timestamp": 1650427341387,
     "user": {
      "displayName": "Kirill N.",
      "userId": "16481738826806641256"
     },
     "user_tz": -180
    },
    "id": "Ju0UJHiW6Jzg"
   },
   "outputs": [],
   "source": [
    "train_loader, test_loader = create_data_loader(X_train, y_train, X_test, y_test)"
   ]
  },
  {
   "cell_type": "markdown",
   "metadata": {
    "id": "KBfDZ2U46Jzh"
   },
   "source": [
    "Архитектуру нейронной сети в PyTorch можно описать нескольками способами. Сейчас предлагается сделать это используя `Sequential`.\n",
    "`Sequential` -- это последовательный способ объявления каждой компоненты архитектуры нейронной сети. Функция `Linear` представляет собой полносвязный слой, где присутствуют обучаемая матрица и обучаемый баес."
   ]
  },
  {
   "cell_type": "code",
   "execution_count": 23,
   "metadata": {
    "executionInfo": {
     "elapsed": 355,
     "status": "ok",
     "timestamp": 1650429217900,
     "user": {
      "displayName": "Kirill N.",
      "userId": "16481738826806641256"
     },
     "user_tz": -180
    },
    "id": "OVAm1ZfD6Jzh"
   },
   "outputs": [],
   "source": [
    "# Задаем двуслойную нейронную сеть с линейной функцией активации на каждом скрытом слое и Softmax на выходе\n",
    "\n",
    "def build_model():\n",
    "    model = nn.Sequential(  \n",
    "        # Добавляем в нашу модель первый слой из 25 нейронов\n",
    "        nn.Linear(in_features=INPUT_SIZE, out_features=HIDDEN_SIZE),\n",
    "        #nn.Sigmoid(),\n",
    "        \n",
    "        # Добавляем ещё один слой из 25 нейронов\n",
    "        nn.Linear(in_features=HIDDEN_SIZE, out_features=HIDDEN_SIZE),\n",
    "        #nn.Sigmoid(),\n",
    "        \n",
    "        # Выходной вектор на количество классов, получаем с помощью такого же линейного приеобразования,\n",
    "        # как и предыдущие слои, но уже на нужное количество выходных нейронов (т.е. классов)\n",
    "        nn.Linear(in_features=HIDDEN_SIZE, out_features=OUTPUT_SIZE),\n",
    "        nn.Softmax()\n",
    "    )\n",
    "\n",
    "    return model"
   ]
  },
  {
   "cell_type": "code",
   "execution_count": 24,
   "metadata": {
    "executionInfo": {
     "elapsed": 348,
     "status": "ok",
     "timestamp": 1650429221566,
     "user": {
      "displayName": "Kirill N.",
      "userId": "16481738826806641256"
     },
     "user_tz": -180
    },
    "id": "axI039kI6Jzh"
   },
   "outputs": [],
   "source": [
    "model = build_model()"
   ]
  },
  {
   "cell_type": "code",
   "execution_count": 25,
   "metadata": {
    "colab": {
     "base_uri": "https://localhost:8080/"
    },
    "executionInfo": {
     "elapsed": 7,
     "status": "ok",
     "timestamp": 1650429223340,
     "user": {
      "displayName": "Kirill N.",
      "userId": "16481738826806641256"
     },
     "user_tz": -180
    },
    "id": "QW1EI0EY6Jzh",
    "outputId": "ac13a14b-3e46-4c0c-91c2-f126fffccc36"
   },
   "outputs": [
    {
     "name": "stdout",
     "output_type": "stream",
     "text": [
      "Sequential(\n",
      "  (0): Linear(in_features=37, out_features=50, bias=True)\n",
      "  (1): Linear(in_features=50, out_features=50, bias=True)\n",
      "  (2): Linear(in_features=50, out_features=4, bias=True)\n",
      "  (3): Softmax(dim=None)\n",
      ")\n"
     ]
    }
   ],
   "source": [
    "print(model)"
   ]
  },
  {
   "cell_type": "markdown",
   "metadata": {
    "id": "GMmYRLN_6Jzi"
   },
   "source": [
    "Обратите внимание, что последняя функция в в архитектуре сети -- это `Softmax`. Напомним, что `Softamx` используется для задачи классификации, чтобы получить значение увернности сети по каждому классу. Получается вектор на заданное количество классов, где наибольшее значение в какой-либо координате говорит о том, что сеть считает данный класс наиболее подходящим для данного наблюдения."
   ]
  },
  {
   "cell_type": "markdown",
   "metadata": {
    "id": "wDkmZ7jJ6Jzi"
   },
   "source": [
    "Перед тем как обучать нашу нейросеть, нужно задать параметры обучения. \n",
    "- Во-первых, метод оптимизации. \n",
    "- Во-вторых, функцию потерь. \n",
    "- В-третьих, парочку метрик, на которые нам хотелось бы смотреть в процессе обучения.  "
   ]
  },
  {
   "cell_type": "code",
   "execution_count": 26,
   "metadata": {
    "executionInfo": {
     "elapsed": 476,
     "status": "ok",
     "timestamp": 1650429227476,
     "user": {
      "displayName": "Kirill N.",
      "userId": "16481738826806641256"
     },
     "user_tz": -180
    },
    "id": "J6tFlM4I6Jzi"
   },
   "outputs": [],
   "source": [
    "criterion = nn.CrossEntropyLoss()\n",
    "#accuracy = Accuracy()\n",
    "optimizer = optim.SGD(model.parameters(), lr=LEARNING_RATE)"
   ]
  },
  {
   "cell_type": "markdown",
   "metadata": {
    "id": "UEThm8GG6Jzj"
   },
   "source": [
    "Создадим массивы, куда будем складывать значение целевой функции на обучающей и валиационной выборках, а также точность."
   ]
  },
  {
   "cell_type": "markdown",
   "metadata": {
    "id": "LDM5FIID6Jzj"
   },
   "source": [
    "Ниже представлен код __обучения__ сети. Нужно обратить внимание на несколько моментов:\n",
    "1. Обучение ведется в течение нескольких эпох -- что значит несколько проходов по выборке.\n",
    "2. `train_loader` позволяет итеративно проходится по выборке и на каждой итерации получать батч заранее заданного размера.\n",
    "3. На каждом шаге обнуляем градиенты `optimizer.zero_grad()`, чтобы не накапливать их, тем самым неккоректно обновлять веса.\n",
    "4. Вызывать явно `loss.backward()` для вычисления градиентов.\n",
    "5. Вызывать явно `optimizer.step()` для обновления весов."
   ]
  },
  {
   "cell_type": "code",
   "execution_count": 27,
   "metadata": {
    "executionInfo": {
     "elapsed": 321,
     "status": "ok",
     "timestamp": 1650429231921,
     "user": {
      "displayName": "Kirill N.",
      "userId": "16481738826806641256"
     },
     "user_tz": -180
    },
    "id": "lelztung6Jzj"
   },
   "outputs": [],
   "source": [
    "step = 0\n",
    "train_loss = []\n",
    "train_acc = []\n",
    "valid_loss = []\n",
    "valid_acc = []\n",
    "\n",
    "def run_train(model, optimizer, criterion, scheduler=None):\n",
    "    step = 0\n",
    "    \n",
    "    model.train()\n",
    "    for epoch in range(EPOCHS):\n",
    "        running_loss = []\n",
    "        running_acc = []\n",
    "        for features, label in train_loader:\n",
    "            # Reset gradients\n",
    "            optimizer.zero_grad()\n",
    "\n",
    "            output = model(features)\n",
    "            # Calculate error and backpropagate\n",
    "            loss = criterion(output, label.long())\n",
    "            loss.backward()\n",
    "            #acc = accuracy(output, label).item()\n",
    "            acc = (output.argmax(dim=1)==label).float().sum() / len(label)\n",
    "\n",
    "            # Update weights with gradients\n",
    "            optimizer.step()\n",
    "\n",
    "            running_loss.append(loss.item())\n",
    "            running_acc.append(acc)\n",
    "\n",
    "            step += 1\n",
    "\n",
    "        train_loss.append(np.mean(running_loss))\n",
    "        train_acc.append(np.mean(running_acc))\n",
    "        if epoch % 20 == 0:\n",
    "            print('EPOCH %d : train_loss: %f' % (epoch, train_loss[-1]))\n",
    "\n",
    "        model.eval()\n",
    "        # Run validation\n",
    "        running_loss = []\n",
    "        running_acc = []\n",
    "        with torch.no_grad():\n",
    "            for features, label in test_loader:\n",
    "                output = model(features)\n",
    "\n",
    "                # Calculate error and backpropagate\n",
    "                loss = criterion(output, label.long())\n",
    "                #acc = accuracy(output, label).item()\n",
    "                acc = (output.argmax(dim=1)==label).float().sum() / len(label)\n",
    "\n",
    "                running_loss.append(loss.item())\n",
    "                running_acc.append(acc)\n",
    "\n",
    "        valid_loss.append(np.mean(running_loss))\n",
    "        valid_acc.append(np.mean(running_acc))\n",
    "        if epoch % 20 == 0:\n",
    "            print('EPOCH %d : valid_loss: %f' % (epoch, valid_loss[-1]), (valid_acc[-1]))\n",
    "        \n",
    "    return train_loss, train_acc, valid_loss, valid_acc"
   ]
  },
  {
   "cell_type": "code",
   "execution_count": 28,
   "metadata": {
    "colab": {
     "base_uri": "https://localhost:8080/"
    },
    "executionInfo": {
     "elapsed": 57691,
     "status": "ok",
     "timestamp": 1650429303598,
     "user": {
      "displayName": "Kirill N.",
      "userId": "16481738826806641256"
     },
     "user_tz": -180
    },
    "id": "gTqfdcRY6Jzj",
    "outputId": "d26d95a8-8473-4744-bf1a-6a45a41a1eee"
   },
   "outputs": [
    {
     "name": "stdout",
     "output_type": "stream",
     "text": [
      "EPOCH 0 : train_loss: 1.369814\n",
      "EPOCH 0 : valid_loss: 1.368563 0.35462978\n",
      "EPOCH 20 : train_loss: 1.260802\n",
      "EPOCH 20 : valid_loss: 1.261534 0.5609398\n",
      "EPOCH 40 : train_loss: 1.176348\n",
      "EPOCH 40 : valid_loss: 1.179096 0.59974414\n",
      "EPOCH 60 : train_loss: 1.140184\n",
      "EPOCH 60 : valid_loss: 1.143849 0.6105329\n",
      "EPOCH 80 : train_loss: 1.125269\n",
      "EPOCH 80 : valid_loss: 1.128615 0.617271\n",
      "EPOCH 100 : train_loss: 1.116751\n",
      "EPOCH 100 : valid_loss: 1.119762 0.62389535\n",
      "EPOCH 120 : train_loss: 1.111119\n",
      "EPOCH 120 : valid_loss: 1.113814 0.6247115\n",
      "EPOCH 140 : train_loss: 1.106961\n",
      "EPOCH 140 : valid_loss: 1.109648 0.62997675\n"
     ]
    }
   ],
   "source": [
    "train_loss, train_acc, valid_loss, valid_acc = run_train(model, optimizer=optimizer, criterion=criterion)"
   ]
  },
  {
   "cell_type": "markdown",
   "metadata": {
    "id": "Ev7BrhOX6Jzj"
   },
   "source": [
    " Посмотрим на динамику ошибки и значение точности нашей модели во времени."
   ]
  },
  {
   "cell_type": "code",
   "execution_count": 29,
   "metadata": {
    "colab": {
     "base_uri": "https://localhost:8080/",
     "height": 283
    },
    "executionInfo": {
     "elapsed": 375,
     "status": "ok",
     "timestamp": 1650429340448,
     "user": {
      "displayName": "Kirill N.",
      "userId": "16481738826806641256"
     },
     "user_tz": -180
    },
    "id": "0V_eO-086Jzk",
    "outputId": "30e22cdc-e5f6-479f-897d-4a83b0af8ec4"
   },
   "outputs": [
    {
     "data": {
      "text/plain": [
       "<matplotlib.legend.Legend at 0x282b5d45ac0>"
      ]
     },
     "execution_count": 29,
     "metadata": {},
     "output_type": "execute_result"
    },
    {
     "data": {
      "image/png": "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\n",
      "text/plain": [
       "<Figure size 432x288 with 1 Axes>"
      ]
     },
     "metadata": {
      "needs_background": "light"
     },
     "output_type": "display_data"
    }
   ],
   "source": [
    "start = 1\n",
    "plt.plot(train_loss[start:])\n",
    "plt.legend('Train loss')"
   ]
  },
  {
   "cell_type": "code",
   "execution_count": 30,
   "metadata": {
    "colab": {
     "base_uri": "https://localhost:8080/",
     "height": 283
    },
    "executionInfo": {
     "elapsed": 17,
     "status": "ok",
     "timestamp": 1650429343861,
     "user": {
      "displayName": "Kirill N.",
      "userId": "16481738826806641256"
     },
     "user_tz": -180
    },
    "id": "OBXnGZcw6Jzk",
    "outputId": "a4099ab7-7898-4d89-b1a6-e516c681ad68"
   },
   "outputs": [
    {
     "data": {
      "text/plain": [
       "<matplotlib.legend.Legend at 0x282b5aa4370>"
      ]
     },
     "execution_count": 30,
     "metadata": {},
     "output_type": "execute_result"
    },
    {
     "data": {
      "image/png": "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\n",
      "text/plain": [
       "<Figure size 432x288 with 1 Axes>"
      ]
     },
     "metadata": {
      "needs_background": "light"
     },
     "output_type": "display_data"
    }
   ],
   "source": [
    "start = 1\n",
    "plt.plot(train_acc[start:])\n",
    "plt.legend('Train accuracy')"
   ]
  },
  {
   "cell_type": "code",
   "execution_count": 31,
   "metadata": {
    "colab": {
     "base_uri": "https://localhost:8080/",
     "height": 283
    },
    "executionInfo": {
     "elapsed": 424,
     "status": "ok",
     "timestamp": 1650429348936,
     "user": {
      "displayName": "Kirill N.",
      "userId": "16481738826806641256"
     },
     "user_tz": -180
    },
    "id": "7MpgEeTI6Jzk",
    "outputId": "a8000c97-3423-40fd-f312-b581306fe0c1"
   },
   "outputs": [
    {
     "data": {
      "text/plain": [
       "<matplotlib.legend.Legend at 0x282b5b4d070>"
      ]
     },
     "execution_count": 31,
     "metadata": {},
     "output_type": "execute_result"
    },
    {
     "data": {
      "image/png": "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\n",
      "text/plain": [
       "<Figure size 432x288 with 1 Axes>"
      ]
     },
     "metadata": {
      "needs_background": "light"
     },
     "output_type": "display_data"
    }
   ],
   "source": [
    "plt.plot(valid_loss[start:])\n",
    "plt.legend('Validation loss')"
   ]
  },
  {
   "cell_type": "code",
   "execution_count": 32,
   "metadata": {
    "colab": {
     "base_uri": "https://localhost:8080/",
     "height": 283
    },
    "executionInfo": {
     "elapsed": 420,
     "status": "ok",
     "timestamp": 1650429351801,
     "user": {
      "displayName": "Kirill N.",
      "userId": "16481738826806641256"
     },
     "user_tz": -180
    },
    "id": "lsPN_Oz16Jzk",
    "outputId": "44753b9b-6a7b-4d00-ea79-dd119eceb091"
   },
   "outputs": [
    {
     "data": {
      "text/plain": [
       "<matplotlib.legend.Legend at 0x282b5bb1340>"
      ]
     },
     "execution_count": 32,
     "metadata": {},
     "output_type": "execute_result"
    },
    {
     "data": {
      "image/png": "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\n",
      "text/plain": [
       "<Figure size 432x288 with 1 Axes>"
      ]
     },
     "metadata": {
      "needs_background": "light"
     },
     "output_type": "display_data"
    }
   ],
   "source": [
    "plt.plot(valid_acc[start:])\n",
    "plt.legend('Validation accuracy')"
   ]
  },
  {
   "cell_type": "markdown",
   "metadata": {
    "id": "ivYlbiPv6Jzl"
   },
   "source": [
    "Сохраним модель. Файл может иметь два расширения, как .pt, так и .pth. "
   ]
  },
  {
   "cell_type": "code",
   "execution_count": 33,
   "metadata": {
    "executionInfo": {
     "elapsed": 415,
     "status": "ok",
     "timestamp": 1650429372886,
     "user": {
      "displayName": "Kirill N.",
      "userId": "16481738826806641256"
     },
     "user_tz": -180
    },
    "id": "YpzcO_1U6Jzl"
   },
   "outputs": [],
   "source": [
    "torch.save(model, f'{ROOT}/simple_nn.pth')"
   ]
  },
  {
   "cell_type": "markdown",
   "metadata": {
    "id": "PvUkWKQv6Jzl"
   },
   "source": [
    "Теперь загрузим сохраненную модель и посмотрим на ее предсказания. Важно! Когда идет этап inference модели, то нужно явно вызвать `model.eval()`, так как в случае если есть droupout или batch norm, то они не дложны работать как в процессе обучения, иначе они продолжат обучаться. "
   ]
  },
  {
   "cell_type": "code",
   "execution_count": 34,
   "metadata": {
    "colab": {
     "base_uri": "https://localhost:8080/"
    },
    "executionInfo": {
     "elapsed": 348,
     "status": "ok",
     "timestamp": 1650429390842,
     "user": {
      "displayName": "Kirill N.",
      "userId": "16481738826806641256"
     },
     "user_tz": -180
    },
    "id": "-T-2q5HW6Jzl",
    "outputId": "3c7e6c46-97de-4879-de7f-4c67023a9c31"
   },
   "outputs": [
    {
     "data": {
      "text/plain": [
       "Sequential(\n",
       "  (0): Linear(in_features=37, out_features=50, bias=True)\n",
       "  (1): Linear(in_features=50, out_features=50, bias=True)\n",
       "  (2): Linear(in_features=50, out_features=4, bias=True)\n",
       "  (3): Softmax(dim=None)\n",
       ")"
      ]
     },
     "execution_count": 34,
     "metadata": {},
     "output_type": "execute_result"
    }
   ],
   "source": [
    "model = torch.load(f'{ROOT}/simple_nn.pth')\n",
    "model.eval()"
   ]
  },
  {
   "cell_type": "code",
   "execution_count": 35,
   "metadata": {
    "colab": {
     "base_uri": "https://localhost:8080/"
    },
    "executionInfo": {
     "elapsed": 9,
     "status": "ok",
     "timestamp": 1650429395317,
     "user": {
      "displayName": "Kirill N.",
      "userId": "16481738826806641256"
     },
     "user_tz": -180
    },
    "id": "za9jUazk6Jzl",
    "outputId": "290bd62a-a3e5-43fc-c887-dd167749975e"
   },
   "outputs": [
    {
     "name": "stdout",
     "output_type": "stream",
     "text": [
      "Прогнозные вероятности:\n",
      "\n",
      "[[0.87153083 0.01696735 0.01270834 0.09879348]\n",
      " [0.84371734 0.01613906 0.13609068 0.00405293]\n",
      " [0.09403086 0.01569187 0.00405671 0.88622063]\n",
      " ...\n",
      " [0.9718527  0.00315099 0.02288197 0.00211436]\n",
      " [0.7682109  0.00606037 0.0011631  0.22456557]\n",
      " [0.9807474  0.00283654 0.01387117 0.0025449 ]]\n"
     ]
    }
   ],
   "source": [
    "# Выход модели (вероятность) на тестовой выборке\n",
    "with torch.no_grad():\n",
    "    test_scores = model(torch.tensor(X_test.astype(np.float32)))\n",
    "    \n",
    "pred_proba = test_scores.numpy()\n",
    "print('Прогнозные вероятности:\\n')\n",
    "print(pred_proba)"
   ]
  },
  {
   "cell_type": "code",
   "execution_count": 36,
   "metadata": {},
   "outputs": [
    {
     "name": "stdout",
     "output_type": "stream",
     "text": [
      "Accuracy: 63.1500%\n",
      "\n"
     ]
    }
   ],
   "source": [
    "#acc = accuracy(test_scores, torch.tensor(y_test.astype(np.int))).item()\n",
    "acc = (pred_proba.argmax(axis=1)==y_test).sum() / len(y_test)\n",
    "print('Accuracy: {:.4f}%\\n'.format(acc*100))"
   ]
  },
  {
   "cell_type": "code",
   "execution_count": 37,
   "metadata": {
    "colab": {
     "base_uri": "https://localhost:8080/"
    },
    "executionInfo": {
     "elapsed": 346,
     "status": "ok",
     "timestamp": 1650429398431,
     "user": {
      "displayName": "Kirill N.",
      "userId": "16481738826806641256"
     },
     "user_tz": -180
    },
    "id": "go8eH5nx6Jzm",
    "outputId": "8ecdf94a-8a68-4fae-cf78-80d044e5daea"
   },
   "outputs": [
    {
     "name": "stdout",
     "output_type": "stream",
     "text": [
      "tensor([0, 0, 3,  ..., 0, 0, 0])\n"
     ]
    }
   ],
   "source": [
    "# Предсказание классов на тестовой выборке\n",
    "pred_classes = torch.argmax(test_scores, dim=1)\n",
    "print(pred_classes)"
   ]
  },
  {
   "cell_type": "markdown",
   "metadata": {},
   "source": [
    "__Выводы:__\n",
    "    \n",
    "    - Добавили масштабирование входных признаков;\n",
    "    - Увеличили количество эпох и нейронов во внутренних слоях;\n",
    "    - Убрали сигмоидные функции активации из внутренних слоев (т.е. остались только линейные преобразования);\n",
    "    - В результате точность превысила 60%."
   ]
  }
 ],
 "metadata": {
  "colab": {
   "collapsed_sections": [],
   "name": "HSE_DL_HW01_KNosov_20-Apr-2022.ipynb",
   "provenance": [],
   "toc_visible": true
  },
  "kernelspec": {
   "display_name": "Python 3",
   "language": "python",
   "name": "python3"
  },
  "language_info": {
   "codemirror_mode": {
    "name": "ipython",
    "version": 3
   },
   "file_extension": ".py",
   "mimetype": "text/x-python",
   "name": "python",
   "nbconvert_exporter": "python",
   "pygments_lexer": "ipython3",
   "version": "3.8.5"
  }
 },
 "nbformat": 4,
 "nbformat_minor": 1
}
