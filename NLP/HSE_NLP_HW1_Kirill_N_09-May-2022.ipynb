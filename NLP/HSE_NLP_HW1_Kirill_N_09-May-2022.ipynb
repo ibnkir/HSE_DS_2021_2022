{
 "cells": [
  {
   "cell_type": "markdown",
   "metadata": {
    "id": "4Sx471jx40WX"
   },
   "source": [
    "## ВШЭ, ФКН, Программа \"Специалист по Data Science\" (2021/2022)\n",
    "## Курс \"Прикладные задачи анализа данных\"\n",
    "### ДЗ №1: Toxic Comments Classification\n",
    "#### *Выполнил: Кирилл Н., 09.05.2022 г.*"
   ]
  },
  {
   "cell_type": "markdown",
   "metadata": {
    "id": "ExzvoL9uM8yp"
   },
   "source": [
    "__Задание:__ Обучить бинарный классификатор для поиска токсичного контента (твитов).\n",
    "\n",
    "Описание файлов:\n",
    "* train_data.csv - обучающая выборка\n",
    "* test_data.csv - тестовая выборка\n",
    "* sample_submission.csv - пример файла с решением (с dummy предсказаниями)\n",
    "\n",
    "[Ссылка на Kaggle](https://www.kaggle.com/competitions/toxic-comments-classification-apdl-2022)"
   ]
  },
  {
   "cell_type": "markdown",
   "metadata": {
    "id": "3wPiKLfa4uru"
   },
   "source": [
    "__Содержание:__\n",
    "\n",
    "1. [BoW / TF-IDF + Linear model](#bow)\n",
    "2. [Модель на векторах слов w2v](#w2v)\n",
    "3. [Supervised FastText](#fasttext)"
   ]
  },
  {
   "cell_type": "code",
   "execution_count": 1,
   "metadata": {
    "colab": {
     "base_uri": "https://localhost:8080/"
    },
    "executionInfo": {
     "elapsed": 1859,
     "status": "ok",
     "timestamp": 1652090022520,
     "user": {
      "displayName": "Kirill N.",
      "userId": "16481738826806641256"
     },
     "user_tz": -180
    },
    "id": "lq6pRQJrX5e6",
    "outputId": "34cfb4ff-84bd-420b-95e2-6452b8303bb2"
   },
   "outputs": [
    {
     "name": "stdout",
     "output_type": "stream",
     "text": [
      "Drive already mounted at /content/gdrive; to attempt to forcibly remount, call drive.mount(\"/content/gdrive\", force_remount=True).\n"
     ]
    }
   ],
   "source": [
    "from pathlib import Path\n",
    "import sys\n",
    "\n",
    "try:\n",
    "    import google.colab\n",
    "    IN_COLAB = True\n",
    "    \n",
    "except ImportError:\n",
    "    IN_COLAB = False\n",
    "\n",
    "if IN_COLAB:\n",
    "    google.colab.drive.mount(\"/content/gdrive\")\n",
    "    ROOT = Path(\"/content/gdrive/My Drive/\")\n",
    "    assert ROOT.is_dir(), \"Wrong path\"\n",
    "    sys.path.append(str(ROOT))\n",
    "    \n",
    "else:\n",
    "    ROOT = Path(\".\")"
   ]
  },
  {
   "cell_type": "code",
   "execution_count": 2,
   "metadata": {
    "executionInfo": {
     "elapsed": 1176,
     "status": "ok",
     "timestamp": 1652090030785,
     "user": {
      "displayName": "Kirill N.",
      "userId": "16481738826806641256"
     },
     "user_tz": -180
    },
    "id": "ww9gL9MU4w4b"
   },
   "outputs": [],
   "source": [
    "import pandas as pd\n",
    "pd.set_option('display.max_columns', None)  \n",
    "pd.set_option('display.expand_frame_repr', False)\n",
    "pd.set_option('max_colwidth', 800)\n",
    "\n",
    "import numpy as np"
   ]
  },
  {
   "cell_type": "code",
   "execution_count": 3,
   "metadata": {
    "executionInfo": {
     "elapsed": 717,
     "status": "ok",
     "timestamp": 1652090033758,
     "user": {
      "displayName": "Kirill N.",
      "userId": "16481738826806641256"
     },
     "user_tz": -180
    },
    "id": "C4NrwzuKYliD"
   },
   "outputs": [],
   "source": [
    "train_data = pd.read_csv(f'{ROOT}/train_data.csv')"
   ]
  },
  {
   "cell_type": "code",
   "execution_count": 4,
   "metadata": {
    "colab": {
     "base_uri": "https://localhost:8080/",
     "height": 302
    },
    "executionInfo": {
     "elapsed": 925,
     "status": "ok",
     "timestamp": 1652090036630,
     "user": {
      "displayName": "Kirill N.",
      "userId": "16481738826806641256"
     },
     "user_tz": -180
    },
    "id": "HHxEfF2_YpBf",
    "outputId": "91222024-cc4c-4010-8797-a445e175918b"
   },
   "outputs": [
    {
     "data": {
      "text/html": [
       "\n",
       "  <div id=\"df-7831a68b-489b-4bed-a552-7cb4656e3034\">\n",
       "    <div class=\"colab-df-container\">\n",
       "      <div>\n",
       "<style scoped>\n",
       "    .dataframe tbody tr th:only-of-type {\n",
       "        vertical-align: middle;\n",
       "    }\n",
       "\n",
       "    .dataframe tbody tr th {\n",
       "        vertical-align: top;\n",
       "    }\n",
       "\n",
       "    .dataframe thead th {\n",
       "        text-align: right;\n",
       "    }\n",
       "</style>\n",
       "<table border=\"1\" class=\"dataframe\">\n",
       "  <thead>\n",
       "    <tr style=\"text-align: right;\">\n",
       "      <th></th>\n",
       "      <th>comment</th>\n",
       "      <th>toxic</th>\n",
       "    </tr>\n",
       "  </thead>\n",
       "  <tbody>\n",
       "    <tr>\n",
       "      <th>9397</th>\n",
       "      <td>Уж лучше пусть смотрят нашу пропаганду, чем пиндоскую.\\n</td>\n",
       "      <td>1.0</td>\n",
       "    </tr>\n",
       "    <tr>\n",
       "      <th>3766</th>\n",
       "      <td>Сначала запретить въезд чуркам и выдворить уже приезжих, а потом уже уидем на сколько упадёт преступность в стране.\\n</td>\n",
       "      <td>1.0</td>\n",
       "    </tr>\n",
       "    <tr>\n",
       "      <th>1936</th>\n",
       "      <td>потрясающе! очень красиво, луна прям светится)\\n</td>\n",
       "      <td>0.0</td>\n",
       "    </tr>\n",
       "    <tr>\n",
       "      <th>7323</th>\n",
       "      <td>Я сама, как услышала в первый раз их разговор, обалдела.Думала, они понимающие. А оказывается меня уважать не за что .\\n</td>\n",
       "      <td>0.0</td>\n",
       "    </tr>\n",
       "    <tr>\n",
       "      <th>7952</th>\n",
       "      <td>ну ты тупой, блядь, совет выкрутить к тебе исходил из предположения, что у тебя наушники ашановские, которое ты, кстати, и не опровергнул. я и сам его не слушаю на 200 громкости, но всю эту хуйню слышно и без этого\\n</td>\n",
       "      <td>1.0</td>\n",
       "    </tr>\n",
       "  </tbody>\n",
       "</table>\n",
       "</div>\n",
       "      <button class=\"colab-df-convert\" onclick=\"convertToInteractive('df-7831a68b-489b-4bed-a552-7cb4656e3034')\"\n",
       "              title=\"Convert this dataframe to an interactive table.\"\n",
       "              style=\"display:none;\">\n",
       "        \n",
       "  <svg xmlns=\"http://www.w3.org/2000/svg\" height=\"24px\"viewBox=\"0 0 24 24\"\n",
       "       width=\"24px\">\n",
       "    <path d=\"M0 0h24v24H0V0z\" fill=\"none\"/>\n",
       "    <path d=\"M18.56 5.44l.94 2.06.94-2.06 2.06-.94-2.06-.94-.94-2.06-.94 2.06-2.06.94zm-11 1L8.5 8.5l.94-2.06 2.06-.94-2.06-.94L8.5 2.5l-.94 2.06-2.06.94zm10 10l.94 2.06.94-2.06 2.06-.94-2.06-.94-.94-2.06-.94 2.06-2.06.94z\"/><path d=\"M17.41 7.96l-1.37-1.37c-.4-.4-.92-.59-1.43-.59-.52 0-1.04.2-1.43.59L10.3 9.45l-7.72 7.72c-.78.78-.78 2.05 0 2.83L4 21.41c.39.39.9.59 1.41.59.51 0 1.02-.2 1.41-.59l7.78-7.78 2.81-2.81c.8-.78.8-2.07 0-2.86zM5.41 20L4 18.59l7.72-7.72 1.47 1.35L5.41 20z\"/>\n",
       "  </svg>\n",
       "      </button>\n",
       "      \n",
       "  <style>\n",
       "    .colab-df-container {\n",
       "      display:flex;\n",
       "      flex-wrap:wrap;\n",
       "      gap: 12px;\n",
       "    }\n",
       "\n",
       "    .colab-df-convert {\n",
       "      background-color: #E8F0FE;\n",
       "      border: none;\n",
       "      border-radius: 50%;\n",
       "      cursor: pointer;\n",
       "      display: none;\n",
       "      fill: #1967D2;\n",
       "      height: 32px;\n",
       "      padding: 0 0 0 0;\n",
       "      width: 32px;\n",
       "    }\n",
       "\n",
       "    .colab-df-convert:hover {\n",
       "      background-color: #E2EBFA;\n",
       "      box-shadow: 0px 1px 2px rgba(60, 64, 67, 0.3), 0px 1px 3px 1px rgba(60, 64, 67, 0.15);\n",
       "      fill: #174EA6;\n",
       "    }\n",
       "\n",
       "    [theme=dark] .colab-df-convert {\n",
       "      background-color: #3B4455;\n",
       "      fill: #D2E3FC;\n",
       "    }\n",
       "\n",
       "    [theme=dark] .colab-df-convert:hover {\n",
       "      background-color: #434B5C;\n",
       "      box-shadow: 0px 1px 3px 1px rgba(0, 0, 0, 0.15);\n",
       "      filter: drop-shadow(0px 1px 2px rgba(0, 0, 0, 0.3));\n",
       "      fill: #FFFFFF;\n",
       "    }\n",
       "  </style>\n",
       "\n",
       "      <script>\n",
       "        const buttonEl =\n",
       "          document.querySelector('#df-7831a68b-489b-4bed-a552-7cb4656e3034 button.colab-df-convert');\n",
       "        buttonEl.style.display =\n",
       "          google.colab.kernel.accessAllowed ? 'block' : 'none';\n",
       "\n",
       "        async function convertToInteractive(key) {\n",
       "          const element = document.querySelector('#df-7831a68b-489b-4bed-a552-7cb4656e3034');\n",
       "          const dataTable =\n",
       "            await google.colab.kernel.invokeFunction('convertToInteractive',\n",
       "                                                     [key], {});\n",
       "          if (!dataTable) return;\n",
       "\n",
       "          const docLinkHtml = 'Like what you see? Visit the ' +\n",
       "            '<a target=\"_blank\" href=https://colab.research.google.com/notebooks/data_table.ipynb>data table notebook</a>'\n",
       "            + ' to learn more about interactive tables.';\n",
       "          element.innerHTML = '';\n",
       "          dataTable['output_type'] = 'display_data';\n",
       "          await google.colab.output.renderOutput(dataTable, element);\n",
       "          const docLink = document.createElement('div');\n",
       "          docLink.innerHTML = docLinkHtml;\n",
       "          element.appendChild(docLink);\n",
       "        }\n",
       "      </script>\n",
       "    </div>\n",
       "  </div>\n",
       "  "
      ],
      "text/plain": [
       "                                                                                                                                                                                                                       comment  toxic\n",
       "9397                                                                                                                                                                  Уж лучше пусть смотрят нашу пропаганду, чем пиндоскую.\\n    1.0\n",
       "3766                                                                                                     Сначала запретить въезд чуркам и выдворить уже приезжих, а потом уже уидем на сколько упадёт преступность в стране.\\n    1.0\n",
       "1936                                                                                                                                                                          потрясающе! очень красиво, луна прям светится)\\n    0.0\n",
       "7323                                                                                                  Я сама, как услышала в первый раз их разговор, обалдела.Думала, они понимающие. А оказывается меня уважать не за что .\\n    0.0\n",
       "7952  ну ты тупой, блядь, совет выкрутить к тебе исходил из предположения, что у тебя наушники ашановские, которое ты, кстати, и не опровергнул. я и сам его не слушаю на 200 громкости, но всю эту хуйню слышно и без этого\\n    1.0"
      ]
     },
     "execution_count": 4,
     "metadata": {},
     "output_type": "execute_result"
    }
   ],
   "source": [
    "train_data.sample(5)"
   ]
  },
  {
   "cell_type": "code",
   "execution_count": 5,
   "metadata": {
    "executionInfo": {
     "elapsed": 849,
     "status": "ok",
     "timestamp": 1652090040540,
     "user": {
      "displayName": "Kirill N.",
      "userId": "16481738826806641256"
     },
     "user_tz": -180
    },
    "id": "CaUam3hLYuHD"
   },
   "outputs": [],
   "source": [
    "test_data = pd.read_csv(f'{ROOT}/test_data.csv', index_col=0)"
   ]
  },
  {
   "cell_type": "code",
   "execution_count": 6,
   "metadata": {
    "colab": {
     "base_uri": "https://localhost:8080/",
     "height": 334
    },
    "executionInfo": {
     "elapsed": 8,
     "status": "ok",
     "timestamp": 1652090042973,
     "user": {
      "displayName": "Kirill N.",
      "userId": "16481738826806641256"
     },
     "user_tz": -180
    },
    "id": "WaVahScnYxgx",
    "outputId": "de246e9b-1aba-4eb7-a656-c1a4956e7a6e"
   },
   "outputs": [
    {
     "data": {
      "text/html": [
       "\n",
       "  <div id=\"df-245ecc52-3efe-4803-8398-c6c0ba53a079\">\n",
       "    <div class=\"colab-df-container\">\n",
       "      <div>\n",
       "<style scoped>\n",
       "    .dataframe tbody tr th:only-of-type {\n",
       "        vertical-align: middle;\n",
       "    }\n",
       "\n",
       "    .dataframe tbody tr th {\n",
       "        vertical-align: top;\n",
       "    }\n",
       "\n",
       "    .dataframe thead th {\n",
       "        text-align: right;\n",
       "    }\n",
       "</style>\n",
       "<table border=\"1\" class=\"dataframe\">\n",
       "  <thead>\n",
       "    <tr style=\"text-align: right;\">\n",
       "      <th></th>\n",
       "      <th>comment</th>\n",
       "    </tr>\n",
       "    <tr>\n",
       "      <th>comment_id</th>\n",
       "      <th></th>\n",
       "    </tr>\n",
       "  </thead>\n",
       "  <tbody>\n",
       "    <tr>\n",
       "      <th>3127</th>\n",
       "      <td>Хуита что-то какая-то. Ни сисек, ни жопы, рязанское ебало с прыщами, да ещё и блондинка. Уноси.\\n</td>\n",
       "    </tr>\n",
       "    <tr>\n",
       "      <th>2888</th>\n",
       "      <td>Анимация травы очень прикольно вышла А вообще это красиво, пиксельная красота, жду новых комикс скетчей, и других картинок)\\n</td>\n",
       "    </tr>\n",
       "    <tr>\n",
       "      <th>3393</th>\n",
       "      <td>SAMP 2008 года - это лучшее, во что можно было играть по сети. Сейчас там настолько токсичный и школьный контингент, что ничего общего с ним иметь не хочется.\\n</td>\n",
       "    </tr>\n",
       "    <tr>\n",
       "      <th>2444</th>\n",
       "      <td>мимо хикка Ты не хикка, ты чмо с отклонениями в психике. Поссал на тебя.\\n</td>\n",
       "    </tr>\n",
       "    <tr>\n",
       "      <th>1594</th>\n",
       "      <td>Попробуйте вискозные полотенца ака тряпки для уборки. Одноразовые такие. Они еще круче зевы, нежные, как попка пэрсыка\\n</td>\n",
       "    </tr>\n",
       "  </tbody>\n",
       "</table>\n",
       "</div>\n",
       "      <button class=\"colab-df-convert\" onclick=\"convertToInteractive('df-245ecc52-3efe-4803-8398-c6c0ba53a079')\"\n",
       "              title=\"Convert this dataframe to an interactive table.\"\n",
       "              style=\"display:none;\">\n",
       "        \n",
       "  <svg xmlns=\"http://www.w3.org/2000/svg\" height=\"24px\"viewBox=\"0 0 24 24\"\n",
       "       width=\"24px\">\n",
       "    <path d=\"M0 0h24v24H0V0z\" fill=\"none\"/>\n",
       "    <path d=\"M18.56 5.44l.94 2.06.94-2.06 2.06-.94-2.06-.94-.94-2.06-.94 2.06-2.06.94zm-11 1L8.5 8.5l.94-2.06 2.06-.94-2.06-.94L8.5 2.5l-.94 2.06-2.06.94zm10 10l.94 2.06.94-2.06 2.06-.94-2.06-.94-.94-2.06-.94 2.06-2.06.94z\"/><path d=\"M17.41 7.96l-1.37-1.37c-.4-.4-.92-.59-1.43-.59-.52 0-1.04.2-1.43.59L10.3 9.45l-7.72 7.72c-.78.78-.78 2.05 0 2.83L4 21.41c.39.39.9.59 1.41.59.51 0 1.02-.2 1.41-.59l7.78-7.78 2.81-2.81c.8-.78.8-2.07 0-2.86zM5.41 20L4 18.59l7.72-7.72 1.47 1.35L5.41 20z\"/>\n",
       "  </svg>\n",
       "      </button>\n",
       "      \n",
       "  <style>\n",
       "    .colab-df-container {\n",
       "      display:flex;\n",
       "      flex-wrap:wrap;\n",
       "      gap: 12px;\n",
       "    }\n",
       "\n",
       "    .colab-df-convert {\n",
       "      background-color: #E8F0FE;\n",
       "      border: none;\n",
       "      border-radius: 50%;\n",
       "      cursor: pointer;\n",
       "      display: none;\n",
       "      fill: #1967D2;\n",
       "      height: 32px;\n",
       "      padding: 0 0 0 0;\n",
       "      width: 32px;\n",
       "    }\n",
       "\n",
       "    .colab-df-convert:hover {\n",
       "      background-color: #E2EBFA;\n",
       "      box-shadow: 0px 1px 2px rgba(60, 64, 67, 0.3), 0px 1px 3px 1px rgba(60, 64, 67, 0.15);\n",
       "      fill: #174EA6;\n",
       "    }\n",
       "\n",
       "    [theme=dark] .colab-df-convert {\n",
       "      background-color: #3B4455;\n",
       "      fill: #D2E3FC;\n",
       "    }\n",
       "\n",
       "    [theme=dark] .colab-df-convert:hover {\n",
       "      background-color: #434B5C;\n",
       "      box-shadow: 0px 1px 3px 1px rgba(0, 0, 0, 0.15);\n",
       "      filter: drop-shadow(0px 1px 2px rgba(0, 0, 0, 0.3));\n",
       "      fill: #FFFFFF;\n",
       "    }\n",
       "  </style>\n",
       "\n",
       "      <script>\n",
       "        const buttonEl =\n",
       "          document.querySelector('#df-245ecc52-3efe-4803-8398-c6c0ba53a079 button.colab-df-convert');\n",
       "        buttonEl.style.display =\n",
       "          google.colab.kernel.accessAllowed ? 'block' : 'none';\n",
       "\n",
       "        async function convertToInteractive(key) {\n",
       "          const element = document.querySelector('#df-245ecc52-3efe-4803-8398-c6c0ba53a079');\n",
       "          const dataTable =\n",
       "            await google.colab.kernel.invokeFunction('convertToInteractive',\n",
       "                                                     [key], {});\n",
       "          if (!dataTable) return;\n",
       "\n",
       "          const docLinkHtml = 'Like what you see? Visit the ' +\n",
       "            '<a target=\"_blank\" href=https://colab.research.google.com/notebooks/data_table.ipynb>data table notebook</a>'\n",
       "            + ' to learn more about interactive tables.';\n",
       "          element.innerHTML = '';\n",
       "          dataTable['output_type'] = 'display_data';\n",
       "          await google.colab.output.renderOutput(dataTable, element);\n",
       "          const docLink = document.createElement('div');\n",
       "          docLink.innerHTML = docLinkHtml;\n",
       "          element.appendChild(docLink);\n",
       "        }\n",
       "      </script>\n",
       "    </div>\n",
       "  </div>\n",
       "  "
      ],
      "text/plain": [
       "                                                                                                                                                                     comment\n",
       "comment_id                                                                                                                                                                  \n",
       "3127                                                                       Хуита что-то какая-то. Ни сисек, ни жопы, рязанское ебало с прыщами, да ещё и блондинка. Уноси.\\n\n",
       "2888                                           Анимация травы очень прикольно вышла А вообще это красиво, пиксельная красота, жду новых комикс скетчей, и других картинок)\\n\n",
       "3393        SAMP 2008 года - это лучшее, во что можно было играть по сети. Сейчас там настолько токсичный и школьный контингент, что ничего общего с ним иметь не хочется.\\n\n",
       "2444                                                                                              мимо хикка Ты не хикка, ты чмо с отклонениями в психике. Поссал на тебя.\\n\n",
       "1594                                                Попробуйте вискозные полотенца ака тряпки для уборки. Одноразовые такие. Они еще круче зевы, нежные, как попка пэрсыка\\n"
      ]
     },
     "execution_count": 6,
     "metadata": {},
     "output_type": "execute_result"
    }
   ],
   "source": [
    "test_data.sample(5)"
   ]
  },
  {
   "cell_type": "code",
   "execution_count": 7,
   "metadata": {
    "executionInfo": {
     "elapsed": 690,
     "status": "ok",
     "timestamp": 1652090046786,
     "user": {
      "displayName": "Kirill N.",
      "userId": "16481738826806641256"
     },
     "user_tz": -180
    },
    "id": "HONwfYbJYhKe"
   },
   "outputs": [],
   "source": [
    "from sklearn.metrics import *\n",
    "from sklearn.model_selection import train_test_split\n",
    "from sklearn.pipeline import Pipeline\n",
    "from sklearn.linear_model import LogisticRegression\n",
    "from sklearn.feature_extraction.text import CountVectorizer"
   ]
  },
  {
   "cell_type": "code",
   "execution_count": null,
   "metadata": {
    "colab": {
     "base_uri": "https://localhost:8080/"
    },
    "executionInfo": {
     "elapsed": 13384,
     "status": "ok",
     "timestamp": 1652065184224,
     "user": {
      "displayName": "Kirill N.",
      "userId": "16481738826806641256"
     },
     "user_tz": -180
    },
    "id": "yBZcRyeV41Ur",
    "outputId": "58245a0d-e7d0-4dc5-db4b-4d0b26afc0d4"
   },
   "outputs": [
    {
     "name": "stdout",
     "output_type": "stream",
     "text": [
      "Collecting pymorphy2\n",
      "  Downloading pymorphy2-0.9.1-py3-none-any.whl (55 kB)\n",
      "\u001b[?25l\r",
      "\u001b[K     |██████                          | 10 kB 19.1 MB/s eta 0:00:01\r",
      "\u001b[K     |███████████▉                    | 20 kB 18.5 MB/s eta 0:00:01\r",
      "\u001b[K     |█████████████████▊              | 30 kB 11.1 MB/s eta 0:00:01\r",
      "\u001b[K     |███████████████████████▋        | 40 kB 4.7 MB/s eta 0:00:01\r",
      "\u001b[K     |█████████████████████████████▌  | 51 kB 5.1 MB/s eta 0:00:01\r",
      "\u001b[K     |████████████████████████████████| 55 kB 2.1 MB/s \n",
      "\u001b[?25hRequirement already satisfied: docopt>=0.6 in /usr/local/lib/python3.7/dist-packages (from pymorphy2) (0.6.2)\n",
      "Collecting dawg-python>=0.7.1\n",
      "  Downloading DAWG_Python-0.7.2-py2.py3-none-any.whl (11 kB)\n",
      "Collecting pymorphy2-dicts-ru<3.0,>=2.4\n",
      "  Downloading pymorphy2_dicts_ru-2.4.417127.4579844-py2.py3-none-any.whl (8.2 MB)\n",
      "\u001b[K     |████████████████████████████████| 8.2 MB 11.0 MB/s \n",
      "\u001b[?25hInstalling collected packages: pymorphy2-dicts-ru, dawg-python, pymorphy2\n",
      "Successfully installed dawg-python-0.7.2 pymorphy2-0.9.1 pymorphy2-dicts-ru-2.4.417127.4579844\n",
      "Collecting pymorphy2-dicts\n",
      "  Downloading pymorphy2_dicts-2.4.393442.3710985-py2.py3-none-any.whl (7.1 MB)\n",
      "\u001b[K     |████████████████████████████████| 7.1 MB 4.6 MB/s \n",
      "\u001b[?25hInstalling collected packages: pymorphy2-dicts\n",
      "Successfully installed pymorphy2-dicts-2.4.393442.3710985\n",
      "Requirement already satisfied: DAWG-Python in /usr/local/lib/python3.7/dist-packages (0.7.2)\n"
     ]
    }
   ],
   "source": [
    "!pip install pymorphy2\n",
    "!pip install pymorphy2-dicts\n",
    "!pip install DAWG-Python"
   ]
  },
  {
   "cell_type": "code",
   "execution_count": 35,
   "metadata": {
    "colab": {
     "base_uri": "https://localhost:8080/"
    },
    "executionInfo": {
     "elapsed": 421,
     "status": "ok",
     "timestamp": 1652091546212,
     "user": {
      "displayName": "Kirill N.",
      "userId": "16481738826806641256"
     },
     "user_tz": -180
    },
    "id": "wj4R5z2u5DtU",
    "outputId": "2cb07f9c-d914-4fdb-82c6-303189bec9ae"
   },
   "outputs": [
    {
     "name": "stdout",
     "output_type": "stream",
     "text": [
      "[nltk_data] Downloading package punkt to /root/nltk_data...\n",
      "[nltk_data]   Package punkt is already up-to-date!\n",
      "[nltk_data] Downloading package stopwords to /root/nltk_data...\n",
      "[nltk_data]   Package stopwords is already up-to-date!\n"
     ]
    }
   ],
   "source": [
    "import re\n",
    "from pymorphy2 import MorphAnalyzer\n",
    "from functools import lru_cache\n",
    "from tqdm import tqdm\n",
    "from multiprocessing import Pool\n",
    "\n",
    "import nltk\n",
    "import nltk.data\n",
    "from nltk.corpus import stopwords\n",
    "from nltk.tokenize import sent_tokenize, RegexpTokenizer\n",
    "nltk.download('punkt')\n",
    "nltk.download('stopwords')\n",
    "\n",
    "import warnings\n",
    "warnings.filterwarnings(\"ignore\")"
   ]
  },
  {
   "cell_type": "markdown",
   "metadata": {
    "id": "1Zo1iysNM8y1"
   },
   "source": [
    "## 1. BoW / TF-IDF + Linear model <a id=\"bow\"></a>\n",
    "\n",
    "- Провести препроцессинг: подумайте о регистре, стоп-словах, нормализации, очистке от небуквенных символов.\n",
    "- Получить для каждого объекта выборки список токенов.\n",
    "- Для списка токенов (на train выборке!) посчитать модель BoW / tf-idf.\n",
    "- Обучить на полученном представлении линейную модель (например, логистическую регрессию)."
   ]
  },
  {
   "cell_type": "code",
   "execution_count": 9,
   "metadata": {
    "executionInfo": {
     "elapsed": 354,
     "status": "ok",
     "timestamp": 1652090053576,
     "user": {
      "displayName": "Kirill N.",
      "userId": "16481738826806641256"
     },
     "user_tz": -180
    },
    "id": "gOQXSh4HM8y2"
   },
   "outputs": [],
   "source": [
    "m = MorphAnalyzer()\n",
    "@lru_cache(maxsize=128)\n",
    "def lemmatize_word(token, pymorphy=m):\n",
    "    return pymorphy.parse(token)[0].normal_form\n",
    "\n",
    "def lemmatize_text(text):\n",
    "    return [lemmatize_word(w) for w in text]\n",
    "\n",
    "mystopwords = stopwords.words('russian') \n",
    "def remove_stopwords(lemmas, stopwords = mystopwords):\n",
    "    return [w for w in lemmas if not w in stopwords and len(w) > 3]\n",
    "\n",
    "regex = re.compile(\"[А-Яа-яA-z]+\")\n",
    "def words_only(text, regex=regex):\n",
    "    try:\n",
    "        return regex.findall(text.lower())\n",
    "    except:\n",
    "        return []\n",
    "\n",
    "def clean_text(text):\n",
    "    tokens = words_only(text)\n",
    "    lemmas = lemmatize_text(tokens)\n",
    "    \n",
    "    return ' '.join(remove_stopwords(lemmas))"
   ]
  },
  {
   "cell_type": "code",
   "execution_count": 10,
   "metadata": {
    "colab": {
     "base_uri": "https://localhost:8080/",
     "height": 49,
     "referenced_widgets": [
      "fded8d8fa335449191a50872ee801232",
      "8c7612d717ff4595958fa969ca84a27d",
      "72fceb89acaa4224ac04eabf4321b720",
      "e6634c8bf90c43d7b32f86e79d097dc0",
      "25457874548442ed828a3361b62673e9",
      "3e88be6596e04faf958dfed83b8288f4",
      "371d5efc9e734ef9b8e70152a494e415",
      "11963bb4e2304bf58e7cece56b878d66",
      "042b512468e64e6980b591e6008d1e3d",
      "3fec1de8eb0145d98cc308ae9dd49304",
      "e04d92c60c724fd5bf25f36da7f30cb7"
     ]
    },
    "executionInfo": {
     "elapsed": 59679,
     "status": "ok",
     "timestamp": 1652090115536,
     "user": {
      "displayName": "Kirill N.",
      "userId": "16481738826806641256"
     },
     "user_tz": -180
    },
    "id": "JkizYHtyM8y3",
    "outputId": "eefb7799-24be-4d80-a8e3-b8a616f46ad7"
   },
   "outputs": [
    {
     "data": {
      "application/vnd.jupyter.widget-view+json": {
       "model_id": "fded8d8fa335449191a50872ee801232",
       "version_major": 2,
       "version_minor": 0
      },
      "text/plain": [
       "  0%|          | 0/10809 [00:00<?, ?it/s]"
      ]
     },
     "metadata": {},
     "output_type": "display_data"
    }
   ],
   "source": [
    "with Pool(8) as p:\n",
    "    lemmas_train = list(tqdm(map(clean_text, train_data['comment']), total=len(train_data)))\n",
    "    \n",
    "train_data['lemmas'] = lemmas_train"
   ]
  },
  {
   "cell_type": "code",
   "execution_count": 11,
   "metadata": {
    "colab": {
     "base_uri": "https://localhost:8080/",
     "height": 337
    },
    "executionInfo": {
     "elapsed": 354,
     "status": "ok",
     "timestamp": 1652090122687,
     "user": {
      "displayName": "Kirill N.",
      "userId": "16481738826806641256"
     },
     "user_tz": -180
    },
    "id": "8FLCQ5r7M8y3",
    "outputId": "ecba0b8c-734d-4da5-b543-fbc8bbf99a6b"
   },
   "outputs": [
    {
     "data": {
      "text/html": [
       "\n",
       "  <div id=\"df-bc393a4e-2823-4620-bd50-bd47f7c0405e\">\n",
       "    <div class=\"colab-df-container\">\n",
       "      <div>\n",
       "<style scoped>\n",
       "    .dataframe tbody tr th:only-of-type {\n",
       "        vertical-align: middle;\n",
       "    }\n",
       "\n",
       "    .dataframe tbody tr th {\n",
       "        vertical-align: top;\n",
       "    }\n",
       "\n",
       "    .dataframe thead th {\n",
       "        text-align: right;\n",
       "    }\n",
       "</style>\n",
       "<table border=\"1\" class=\"dataframe\">\n",
       "  <thead>\n",
       "    <tr style=\"text-align: right;\">\n",
       "      <th></th>\n",
       "      <th>comment</th>\n",
       "      <th>toxic</th>\n",
       "      <th>lemmas</th>\n",
       "    </tr>\n",
       "  </thead>\n",
       "  <tbody>\n",
       "    <tr>\n",
       "      <th>10676</th>\n",
       "      <td>Не нужно теперь будет ждать когда бабка откинется, чтобы не мешаться под ногами в квартире.</td>\n",
       "      <td>1.0</td>\n",
       "      <td>нужно ждать бабка откинуться мешаться нога квартира</td>\n",
       "    </tr>\n",
       "    <tr>\n",
       "      <th>7675</th>\n",
       "      <td>Работает - это когда рецидивов больше нет\\n</td>\n",
       "      <td>0.0</td>\n",
       "      <td>работать рецидив большой</td>\n",
       "    </tr>\n",
       "    <tr>\n",
       "      <th>1375</th>\n",
       "      <td>Фанера 4мм, подача 50 мм с, 2400 об мин\\n</td>\n",
       "      <td>0.0</td>\n",
       "      <td>фанера подача мина</td>\n",
       "    </tr>\n",
       "    <tr>\n",
       "      <th>5561</th>\n",
       "      <td>Европы и США Это ещё ладно, но ещё больше трудятся во всяких чуркистанах.\\n</td>\n",
       "      <td>1.0</td>\n",
       "      <td>европа ладный большой трудиться всякий чуркистан</td>\n",
       "    </tr>\n",
       "    <tr>\n",
       "      <th>7456</th>\n",
       "      <td>Я бы нашел ту тварь, написал бы ей деликатно что со стороны юриспруденции она совершила критическую ошибку.. и доебывал ее до тех пор пока она сука не взвыла, методов много..\\n</td>\n",
       "      <td>1.0</td>\n",
       "      <td>найти тварь написать деликатно сторона юриспруденция совершить критический ошибка доебывать пора пока сука взвыть метод</td>\n",
       "    </tr>\n",
       "  </tbody>\n",
       "</table>\n",
       "</div>\n",
       "      <button class=\"colab-df-convert\" onclick=\"convertToInteractive('df-bc393a4e-2823-4620-bd50-bd47f7c0405e')\"\n",
       "              title=\"Convert this dataframe to an interactive table.\"\n",
       "              style=\"display:none;\">\n",
       "        \n",
       "  <svg xmlns=\"http://www.w3.org/2000/svg\" height=\"24px\"viewBox=\"0 0 24 24\"\n",
       "       width=\"24px\">\n",
       "    <path d=\"M0 0h24v24H0V0z\" fill=\"none\"/>\n",
       "    <path d=\"M18.56 5.44l.94 2.06.94-2.06 2.06-.94-2.06-.94-.94-2.06-.94 2.06-2.06.94zm-11 1L8.5 8.5l.94-2.06 2.06-.94-2.06-.94L8.5 2.5l-.94 2.06-2.06.94zm10 10l.94 2.06.94-2.06 2.06-.94-2.06-.94-.94-2.06-.94 2.06-2.06.94z\"/><path d=\"M17.41 7.96l-1.37-1.37c-.4-.4-.92-.59-1.43-.59-.52 0-1.04.2-1.43.59L10.3 9.45l-7.72 7.72c-.78.78-.78 2.05 0 2.83L4 21.41c.39.39.9.59 1.41.59.51 0 1.02-.2 1.41-.59l7.78-7.78 2.81-2.81c.8-.78.8-2.07 0-2.86zM5.41 20L4 18.59l7.72-7.72 1.47 1.35L5.41 20z\"/>\n",
       "  </svg>\n",
       "      </button>\n",
       "      \n",
       "  <style>\n",
       "    .colab-df-container {\n",
       "      display:flex;\n",
       "      flex-wrap:wrap;\n",
       "      gap: 12px;\n",
       "    }\n",
       "\n",
       "    .colab-df-convert {\n",
       "      background-color: #E8F0FE;\n",
       "      border: none;\n",
       "      border-radius: 50%;\n",
       "      cursor: pointer;\n",
       "      display: none;\n",
       "      fill: #1967D2;\n",
       "      height: 32px;\n",
       "      padding: 0 0 0 0;\n",
       "      width: 32px;\n",
       "    }\n",
       "\n",
       "    .colab-df-convert:hover {\n",
       "      background-color: #E2EBFA;\n",
       "      box-shadow: 0px 1px 2px rgba(60, 64, 67, 0.3), 0px 1px 3px 1px rgba(60, 64, 67, 0.15);\n",
       "      fill: #174EA6;\n",
       "    }\n",
       "\n",
       "    [theme=dark] .colab-df-convert {\n",
       "      background-color: #3B4455;\n",
       "      fill: #D2E3FC;\n",
       "    }\n",
       "\n",
       "    [theme=dark] .colab-df-convert:hover {\n",
       "      background-color: #434B5C;\n",
       "      box-shadow: 0px 1px 3px 1px rgba(0, 0, 0, 0.15);\n",
       "      filter: drop-shadow(0px 1px 2px rgba(0, 0, 0, 0.3));\n",
       "      fill: #FFFFFF;\n",
       "    }\n",
       "  </style>\n",
       "\n",
       "      <script>\n",
       "        const buttonEl =\n",
       "          document.querySelector('#df-bc393a4e-2823-4620-bd50-bd47f7c0405e button.colab-df-convert');\n",
       "        buttonEl.style.display =\n",
       "          google.colab.kernel.accessAllowed ? 'block' : 'none';\n",
       "\n",
       "        async function convertToInteractive(key) {\n",
       "          const element = document.querySelector('#df-bc393a4e-2823-4620-bd50-bd47f7c0405e');\n",
       "          const dataTable =\n",
       "            await google.colab.kernel.invokeFunction('convertToInteractive',\n",
       "                                                     [key], {});\n",
       "          if (!dataTable) return;\n",
       "\n",
       "          const docLinkHtml = 'Like what you see? Visit the ' +\n",
       "            '<a target=\"_blank\" href=https://colab.research.google.com/notebooks/data_table.ipynb>data table notebook</a>'\n",
       "            + ' to learn more about interactive tables.';\n",
       "          element.innerHTML = '';\n",
       "          dataTable['output_type'] = 'display_data';\n",
       "          await google.colab.output.renderOutput(dataTable, element);\n",
       "          const docLink = document.createElement('div');\n",
       "          docLink.innerHTML = docLinkHtml;\n",
       "          element.appendChild(docLink);\n",
       "        }\n",
       "      </script>\n",
       "    </div>\n",
       "  </div>\n",
       "  "
      ],
      "text/plain": [
       "                                                                                                                                                                                comment  toxic                                                                                                                   lemmas\n",
       "10676                                                                                       Не нужно теперь будет ждать когда бабка откинется, чтобы не мешаться под ногами в квартире.    1.0                                                                      нужно ждать бабка откинуться мешаться нога квартира\n",
       "7675                                                                                                                                        Работает - это когда рецидивов больше нет\\n    0.0                                                                                                 работать рецидив большой\n",
       "1375                                                                                                                                          Фанера 4мм, подача 50 мм с, 2400 об мин\\n    0.0                                                                                                       фанера подача мина\n",
       "5561                                                                                                        Европы и США Это ещё ладно, но ещё больше трудятся во всяких чуркистанах.\\n    1.0                                                                         европа ладный большой трудиться всякий чуркистан\n",
       "7456   Я бы нашел ту тварь, написал бы ей деликатно что со стороны юриспруденции она совершила критическую ошибку.. и доебывал ее до тех пор пока она сука не взвыла, методов много..\\n    1.0  найти тварь написать деликатно сторона юриспруденция совершить критический ошибка доебывать пора пока сука взвыть метод"
      ]
     },
     "execution_count": 11,
     "metadata": {},
     "output_type": "execute_result"
    }
   ],
   "source": [
    "train_data.sample(5)"
   ]
  },
  {
   "cell_type": "code",
   "execution_count": 12,
   "metadata": {
    "colab": {
     "base_uri": "https://localhost:8080/",
     "height": 49,
     "referenced_widgets": [
      "90122780624145e2bc474126181e4fed",
      "975c18b8e0d64853a4eb1a934977cae1",
      "c4ce061dec71451e9561a86bfa15791f",
      "57cf3e0494944c0b8a9a4ae7cfe49260",
      "c084ca187fb74a658d593fcf35fb5370",
      "872bddef91554c7298923134c83f68b9",
      "2e19d26d7ac3488e817bffe206457cc1",
      "3a6da537c7724b7c8b5014a2dd24a74f",
      "00a1b2661ccf4f4caac37c16edf89b71",
      "b055eb4e26c6451aa7164f015521ddab",
      "f20bc1e7d8be4bf98620c0bac337be75"
     ]
    },
    "executionInfo": {
     "elapsed": 21795,
     "status": "ok",
     "timestamp": 1652090147517,
     "user": {
      "displayName": "Kirill N.",
      "userId": "16481738826806641256"
     },
     "user_tz": -180
    },
    "id": "WS_IOV9uM8y3",
    "outputId": "9bb8f4b8-17d4-46c5-d77e-0756ca9e4436"
   },
   "outputs": [
    {
     "data": {
      "application/vnd.jupyter.widget-view+json": {
       "model_id": "90122780624145e2bc474126181e4fed",
       "version_major": 2,
       "version_minor": 0
      },
      "text/plain": [
       "  0%|          | 0/3603 [00:00<?, ?it/s]"
      ]
     },
     "metadata": {},
     "output_type": "display_data"
    }
   ],
   "source": [
    "with Pool(8) as p:\n",
    "    lemmas_test = list(tqdm(map(clean_text, test_data['comment']), total=len(test_data))) \n",
    "\n",
    "test_data['lemmas'] = lemmas_test"
   ]
  },
  {
   "cell_type": "code",
   "execution_count": null,
   "metadata": {
    "id": "IvhCq36eM8y4"
   },
   "outputs": [],
   "source": [
    "X_train, X_val, y_train, y_val = train_test_split(train_data.lemmas, train_data.toxic)\n",
    "X_test = test_data.lemmas"
   ]
  },
  {
   "cell_type": "code",
   "execution_count": null,
   "metadata": {
    "id": "wulBcraoidYa"
   },
   "outputs": [],
   "source": [
    "vec = CountVectorizer(ngram_range=(1, 2)) # строим BoW для слов\n",
    "bow = vec.fit_transform(X_train)"
   ]
  },
  {
   "cell_type": "code",
   "execution_count": null,
   "metadata": {
    "colab": {
     "base_uri": "https://localhost:8080/"
    },
    "executionInfo": {
     "elapsed": 3346,
     "status": "ok",
     "timestamp": 1652083125111,
     "user": {
      "displayName": "Kirill N.",
      "userId": "16481738826806641256"
     },
     "user_tz": -180
    },
    "id": "2VvR2QBjM8y4",
    "outputId": "5e6cb890-4537-4e7a-98e8-9af8ede8d6cd"
   },
   "outputs": [
    {
     "name": "stdout",
     "output_type": "stream",
     "text": [
      "              precision    recall  f1-score   support\n",
      "\n",
      "         0.0       0.96      0.85      0.90      2062\n",
      "         1.0       0.65      0.87      0.74       641\n",
      "\n",
      "    accuracy                           0.86      2703\n",
      "   macro avg       0.80      0.86      0.82      2703\n",
      "weighted avg       0.88      0.86      0.86      2703\n",
      "\n"
     ]
    }
   ],
   "source": [
    "clf_lr = LogisticRegression(random_state=42, max_iter=500)\n",
    "clf_lr.fit(bow, y_train)\n",
    "\n",
    "y_val_pred = clf_lr.predict(vec.transform(X_val))\n",
    "print(classification_report(y_val_pred, y_val))"
   ]
  },
  {
   "cell_type": "code",
   "execution_count": null,
   "metadata": {
    "colab": {
     "base_uri": "https://localhost:8080/"
    },
    "executionInfo": {
     "elapsed": 218,
     "status": "ok",
     "timestamp": 1652083128438,
     "user": {
      "displayName": "Kirill N.",
      "userId": "16481738826806641256"
     },
     "user_tz": -180
    },
    "id": "2ls7woWRM8y4",
    "outputId": "42ed91df-16e6-46e4-99c1-cbeef691674a"
   },
   "outputs": [
    {
     "data": {
      "text/plain": [
       "0.8575656677765445"
      ]
     },
     "execution_count": 455,
     "metadata": {},
     "output_type": "execute_result"
    }
   ],
   "source": [
    "accuracy_score(y_val_pred, y_val)"
   ]
  },
  {
   "cell_type": "code",
   "execution_count": null,
   "metadata": {
    "id": "S1FdiXTqM8y4"
   },
   "outputs": [],
   "source": [
    "y_result = clf_lr.predict(vec.transform(X_test))\n",
    "\n",
    "solution_1 = [[i, y_result[i]] for i in range(len(X_test))]\n",
    "solution_1 = pd.DataFrame(solution_1, columns=['comment_id', 'toxic'])\n",
    "solution_1.to_csv('solution_1.csv', index=False)"
   ]
  },
  {
   "cell_type": "markdown",
   "metadata": {
    "id": "NjwSabwh5PwZ"
   },
   "source": [
    "## 2. Модель на векторах слов w2v <a id=\"w2v\"></a>\n",
    "\n",
    "- Провести препроцессинг: подумайте о регистре, стоп-словах, нормализации, очистке от небуквенных символов.\n",
    "- Преобразовать текст в следующий формат: текст - это список предложений, каждое предложение - список слов, например, [[это, первое, предложение], [а, это, второе]].\n",
    "- Обучите модель векторов слов. Если вы обучаете w2v, то на вход можно подать данные в формате п. 2. Если вы хотите обучить fastText, надо записать тексты в файл в формате \"1 строка - 1 текст, слова разделены пробелом\".\n",
    "- Напишите функцию, которая принимает на вход текст, а возвращает средний эмбеддинг (средний по словам):"
   ]
  },
  {
   "cell_type": "code",
   "execution_count": null,
   "metadata": {
    "colab": {
     "base_uri": "https://localhost:8080/",
     "height": 52
    },
    "executionInfo": {
     "elapsed": 259,
     "status": "ok",
     "timestamp": 1651933427980,
     "user": {
      "displayName": "Kirill N.",
      "userId": "16481738826806641256"
     },
     "user_tz": -180
    },
    "id": "kJfqngmM51hL",
    "outputId": "5136b0dc-eba7-4441-f050-429c0186e951"
   },
   "outputs": [
    {
     "data": {
      "application/vnd.google.colaboratory.intrinsic+json": {
       "type": "string"
      },
      "text/plain": [
       "'\\nmodel = w2v()\\n\\ndef mean_text_embedding(sentence, embeddings_model): \\n  tokens = sentence.split() \\n  embedings = [model(token) for token in tokens] \\n  embeding_text = mean(embedings)\\n\\nreturn embeding_text\\n'"
      ]
     },
     "execution_count": 56,
     "metadata": {},
     "output_type": "execute_result"
    }
   ],
   "source": [
    "'''\n",
    "model = w2v()\n",
    "\n",
    "def mean_text_embedding(sentence, embeddings_model): \n",
    "  tokens = sentence.split()\n",
    "  embedings = [model(token) for token in tokens] \n",
    "  embeding_text = mean(embedings)\n",
    "\n",
    "return embeding_text\n",
    "'''"
   ]
  },
  {
   "cell_type": "markdown",
   "metadata": {
    "id": "ee2u8Bxqlb6W"
   },
   "source": [
    "Если размерность эмбеддинга слова у вас равна N, то и эмбеддинг текста будет иметь размерность N.\n",
    "\n",
    "- Вычислите средний эмбеддинг для всех документов вашей коллекции.\n",
    "- Обучите на полученных векторах модель (каждый объект выборки у вас представлен N признаками)."
   ]
  },
  {
   "cell_type": "code",
   "execution_count": 20,
   "metadata": {
    "executionInfo": {
     "elapsed": 1127,
     "status": "ok",
     "timestamp": 1652090904050,
     "user": {
      "displayName": "Kirill N.",
      "userId": "16481738826806641256"
     },
     "user_tz": -180
    },
    "id": "oMMzokp0u0JC"
   },
   "outputs": [],
   "source": [
    "import gensim\n",
    "import logging\n",
    "from gensim.models import word2vec"
   ]
  },
  {
   "cell_type": "code",
   "execution_count": 21,
   "metadata": {
    "executionInfo": {
     "elapsed": 719,
     "status": "ok",
     "timestamp": 1652090905785,
     "user": {
      "displayName": "Kirill N.",
      "userId": "16481738826806641256"
     },
     "user_tz": -180
    },
    "id": "1TlgxOn3Wlhr"
   },
   "outputs": [],
   "source": [
    "# Препроцессинг\n",
    "\n",
    "m = MorphAnalyzer()\n",
    "mystopwords = stopwords.words(\"russian\")\n",
    "def sent_to_wordlist(sentence, pymorphy=m, remove_stopwords=True, stopwords=mystopwords):\n",
    "    sentence = re.sub(\"[^А-Яа-яA-z]\",\" \", sentence)\n",
    "    words = sentence.lower().split()\n",
    "    words = [pymorphy.parse(w)[0].normal_form for w in words]\n",
    "    if remove_stopwords:\n",
    "        words = [w for w in words if not w in stopwords]\n",
    "    return words\n",
    "\n",
    "tokenizer = nltk.data.load('tokenizers/punkt/russian.pickle')\n",
    "def text_to_sentences(text, tokenizer=tokenizer, pymorphy=m, remove_stopwords=True):\n",
    "    raw_sentences = tokenizer.tokenize(text.strip())\n",
    "    sentences = []\n",
    "    for raw_sentence in raw_sentences:\n",
    "        if len(raw_sentence) > 0:\n",
    "            sentences.append(sent_to_wordlist(raw_sentence))\n",
    "    return sentences"
   ]
  },
  {
   "cell_type": "code",
   "execution_count": 22,
   "metadata": {
    "colab": {
     "base_uri": "https://localhost:8080/",
     "height": 49,
     "referenced_widgets": [
      "285ee7568fd845f38ae5bab1a334c43e",
      "d47fd710b4414d6cb57542160355c4d1",
      "47b53e81395e4058a7545570566dd689",
      "2c698e5e52494beab7b22f445662a864",
      "e364cbf5e3b54fa8807a1e206a1277a5",
      "63f5eed052034610a866e6fb69ef850e",
      "ea73e3f0f58447bf92a64eb15a93e458",
      "7fbf86553c7e4b8fa939fde27b2389c1",
      "191a534f38214508af02afedbdaa7a7a",
      "4694eb27bea54e529e3af032f2d3bfaf",
      "3cfaa57797914d4895ab88463f79ec45"
     ]
    },
    "executionInfo": {
     "elapsed": 98723,
     "status": "ok",
     "timestamp": 1652091005843,
     "user": {
      "displayName": "Kirill N.",
      "userId": "16481738826806641256"
     },
     "user_tz": -180
    },
    "id": "p0SK-nO4m_zm",
    "outputId": "419aab1a-40ea-45c1-9866-b68057ccbe55"
   },
   "outputs": [
    {
     "data": {
      "application/vnd.jupyter.widget-view+json": {
       "model_id": "285ee7568fd845f38ae5bab1a334c43e",
       "version_major": 2,
       "version_minor": 0
      },
      "text/plain": [
       "  0%|          | 0/10809 [00:00<?, ?it/s]"
      ]
     },
     "metadata": {},
     "output_type": "display_data"
    }
   ],
   "source": [
    "with Pool(8) as p:\n",
    "    sentences_train = list(tqdm(p.imap(text_to_sentences, train_data[\"comment\"]), total=len(train_data)))\n",
    "\n",
    "train_data['sentences'] = sentences_train"
   ]
  },
  {
   "cell_type": "code",
   "execution_count": 19,
   "metadata": {
    "colab": {
     "base_uri": "https://localhost:8080/",
     "height": 458
    },
    "executionInfo": {
     "elapsed": 368,
     "status": "ok",
     "timestamp": 1652090893668,
     "user": {
      "displayName": "Kirill N.",
      "userId": "16481738826806641256"
     },
     "user_tz": -180
    },
    "id": "rPSL0pbZjZKK",
    "outputId": "bacbc437-340c-496e-dfed-cdb613e70c13"
   },
   "outputs": [
    {
     "data": {
      "text/html": [
       "\n",
       "  <div id=\"df-59bd37a2-4e16-42c4-8a33-5cde356403e2\">\n",
       "    <div class=\"colab-df-container\">\n",
       "      <div>\n",
       "<style scoped>\n",
       "    .dataframe tbody tr th:only-of-type {\n",
       "        vertical-align: middle;\n",
       "    }\n",
       "\n",
       "    .dataframe tbody tr th {\n",
       "        vertical-align: top;\n",
       "    }\n",
       "\n",
       "    .dataframe thead th {\n",
       "        text-align: right;\n",
       "    }\n",
       "</style>\n",
       "<table border=\"1\" class=\"dataframe\">\n",
       "  <thead>\n",
       "    <tr style=\"text-align: right;\">\n",
       "      <th></th>\n",
       "      <th>comment</th>\n",
       "      <th>toxic</th>\n",
       "      <th>lemmas</th>\n",
       "    </tr>\n",
       "  </thead>\n",
       "  <tbody>\n",
       "    <tr>\n",
       "      <th>4049</th>\n",
       "      <td>Да жидяра это, что тут думать\\n</td>\n",
       "      <td>1.0</td>\n",
       "      <td>жидярый думать</td>\n",
       "    </tr>\n",
       "    <tr>\n",
       "      <th>632</th>\n",
       "      <td>Достаточно сделать таким образом, что и ремонтники и операторы станка - его собственники. И з п они будут получать согласно выпущенных изделий. Тогда у них мотивация держать станок в рабочем состоянии и выпускать максимум.\\n</td>\n",
       "      <td>0.0</td>\n",
       "      <td>достаточно сделать образ ремонтник оператор станок собственник получать согласно выпустить изделие мотивация держать станок рабочий состояние выпускать максимум</td>\n",
       "    </tr>\n",
       "    <tr>\n",
       "      <th>3087</th>\n",
       "      <td>Лично я придерживаюсь мнения, что это красивый элемент декора, никаких отсылок к магическим свойствам не делаю. Но это совершенно не отменяет того, что некоторые люди верят в свойства ловца снов и он работает - согласно древнеиндейским обычаям этот амулет защищает сны спящего от кошмаров, пропуская лишь добрые и хорошие сновидения. Как-то так вкратце.\\n</td>\n",
       "      <td>0.0</td>\n",
       "      <td>лично придерживаться мнение красивый элемент декор никакой отсылка магический свойство делать совершенно отменять некоторый человек верить свойство ловец работать согласно древнеиндейский обычай амулет защищать спать кошмар пропускать лишь добрый хороший сновидение вкратце</td>\n",
       "    </tr>\n",
       "    <tr>\n",
       "      <th>4116</th>\n",
       "      <td>А в твоем блять не стояли! вы же пердуны старый все высоко духовные интеллектуалы.\\n</td>\n",
       "      <td>1.0</td>\n",
       "      <td>твой блядь стоять пердун старый высоко духовный интеллектуал</td>\n",
       "    </tr>\n",
       "    <tr>\n",
       "      <th>2643</th>\n",
       "      <td>Хуйня этот ваш дэбиль. Я думал, он всех будет хуесосить и избивать направо и налево.\\n</td>\n",
       "      <td>1.0</td>\n",
       "      <td>хуйня дэбиль думать весь хуесосить избивать направо налево</td>\n",
       "    </tr>\n",
       "  </tbody>\n",
       "</table>\n",
       "</div>\n",
       "      <button class=\"colab-df-convert\" onclick=\"convertToInteractive('df-59bd37a2-4e16-42c4-8a33-5cde356403e2')\"\n",
       "              title=\"Convert this dataframe to an interactive table.\"\n",
       "              style=\"display:none;\">\n",
       "        \n",
       "  <svg xmlns=\"http://www.w3.org/2000/svg\" height=\"24px\"viewBox=\"0 0 24 24\"\n",
       "       width=\"24px\">\n",
       "    <path d=\"M0 0h24v24H0V0z\" fill=\"none\"/>\n",
       "    <path d=\"M18.56 5.44l.94 2.06.94-2.06 2.06-.94-2.06-.94-.94-2.06-.94 2.06-2.06.94zm-11 1L8.5 8.5l.94-2.06 2.06-.94-2.06-.94L8.5 2.5l-.94 2.06-2.06.94zm10 10l.94 2.06.94-2.06 2.06-.94-2.06-.94-.94-2.06-.94 2.06-2.06.94z\"/><path d=\"M17.41 7.96l-1.37-1.37c-.4-.4-.92-.59-1.43-.59-.52 0-1.04.2-1.43.59L10.3 9.45l-7.72 7.72c-.78.78-.78 2.05 0 2.83L4 21.41c.39.39.9.59 1.41.59.51 0 1.02-.2 1.41-.59l7.78-7.78 2.81-2.81c.8-.78.8-2.07 0-2.86zM5.41 20L4 18.59l7.72-7.72 1.47 1.35L5.41 20z\"/>\n",
       "  </svg>\n",
       "      </button>\n",
       "      \n",
       "  <style>\n",
       "    .colab-df-container {\n",
       "      display:flex;\n",
       "      flex-wrap:wrap;\n",
       "      gap: 12px;\n",
       "    }\n",
       "\n",
       "    .colab-df-convert {\n",
       "      background-color: #E8F0FE;\n",
       "      border: none;\n",
       "      border-radius: 50%;\n",
       "      cursor: pointer;\n",
       "      display: none;\n",
       "      fill: #1967D2;\n",
       "      height: 32px;\n",
       "      padding: 0 0 0 0;\n",
       "      width: 32px;\n",
       "    }\n",
       "\n",
       "    .colab-df-convert:hover {\n",
       "      background-color: #E2EBFA;\n",
       "      box-shadow: 0px 1px 2px rgba(60, 64, 67, 0.3), 0px 1px 3px 1px rgba(60, 64, 67, 0.15);\n",
       "      fill: #174EA6;\n",
       "    }\n",
       "\n",
       "    [theme=dark] .colab-df-convert {\n",
       "      background-color: #3B4455;\n",
       "      fill: #D2E3FC;\n",
       "    }\n",
       "\n",
       "    [theme=dark] .colab-df-convert:hover {\n",
       "      background-color: #434B5C;\n",
       "      box-shadow: 0px 1px 3px 1px rgba(0, 0, 0, 0.15);\n",
       "      filter: drop-shadow(0px 1px 2px rgba(0, 0, 0, 0.3));\n",
       "      fill: #FFFFFF;\n",
       "    }\n",
       "  </style>\n",
       "\n",
       "      <script>\n",
       "        const buttonEl =\n",
       "          document.querySelector('#df-59bd37a2-4e16-42c4-8a33-5cde356403e2 button.colab-df-convert');\n",
       "        buttonEl.style.display =\n",
       "          google.colab.kernel.accessAllowed ? 'block' : 'none';\n",
       "\n",
       "        async function convertToInteractive(key) {\n",
       "          const element = document.querySelector('#df-59bd37a2-4e16-42c4-8a33-5cde356403e2');\n",
       "          const dataTable =\n",
       "            await google.colab.kernel.invokeFunction('convertToInteractive',\n",
       "                                                     [key], {});\n",
       "          if (!dataTable) return;\n",
       "\n",
       "          const docLinkHtml = 'Like what you see? Visit the ' +\n",
       "            '<a target=\"_blank\" href=https://colab.research.google.com/notebooks/data_table.ipynb>data table notebook</a>'\n",
       "            + ' to learn more about interactive tables.';\n",
       "          element.innerHTML = '';\n",
       "          dataTable['output_type'] = 'display_data';\n",
       "          await google.colab.output.renderOutput(dataTable, element);\n",
       "          const docLink = document.createElement('div');\n",
       "          docLink.innerHTML = docLinkHtml;\n",
       "          element.appendChild(docLink);\n",
       "        }\n",
       "      </script>\n",
       "    </div>\n",
       "  </div>\n",
       "  "
      ],
      "text/plain": [
       "                                                                                                                                                                                                                                                                                                                                                                  comment  toxic                                                                                                                                                                                                                                                                             lemmas\n",
       "4049                                                                                                                                                                                                                                                                                                                                      Да жидяра это, что тут думать\\n    1.0                                                                                                                                                                                                                                                                     жидярый думать\n",
       "632                                                                                                                                      Достаточно сделать таким образом, что и ремонтники и операторы станка - его собственники. И з п они будут получать согласно выпущенных изделий. Тогда у них мотивация держать станок в рабочем состоянии и выпускать максимум.\\n    0.0                                                                                                                   достаточно сделать образ ремонтник оператор станок собственник получать согласно выпустить изделие мотивация держать станок рабочий состояние выпускать максимум\n",
       "3087  Лично я придерживаюсь мнения, что это красивый элемент декора, никаких отсылок к магическим свойствам не делаю. Но это совершенно не отменяет того, что некоторые люди верят в свойства ловца снов и он работает - согласно древнеиндейским обычаям этот амулет защищает сны спящего от кошмаров, пропуская лишь добрые и хорошие сновидения. Как-то так вкратце.\\n    0.0  лично придерживаться мнение красивый элемент декор никакой отсылка магический свойство делать совершенно отменять некоторый человек верить свойство ловец работать согласно древнеиндейский обычай амулет защищать спать кошмар пропускать лишь добрый хороший сновидение вкратце\n",
       "4116                                                                                                                                                                                                                                                                                 А в твоем блять не стояли! вы же пердуны старый все высоко духовные интеллектуалы.\\n    1.0                                                                                                                                                                                                                       твой блядь стоять пердун старый высоко духовный интеллектуал\n",
       "2643                                                                                                                                                                                                                                                                               Хуйня этот ваш дэбиль. Я думал, он всех будет хуесосить и избивать направо и налево.\\n    1.0                                                                                                                                                                                                                         хуйня дэбиль думать весь хуесосить избивать направо налево"
      ]
     },
     "execution_count": 19,
     "metadata": {},
     "output_type": "execute_result"
    }
   ],
   "source": [
    "train_data.sample(5)"
   ]
  },
  {
   "cell_type": "code",
   "execution_count": 23,
   "metadata": {
    "colab": {
     "base_uri": "https://localhost:8080/",
     "height": 49,
     "referenced_widgets": [
      "20daeb13368c4938bfc43a5b2dc0a466",
      "cef4845e62f74094be162b20388be886",
      "5602d381da0a4b3fbd2ae123835e1d32",
      "5a25bd6d036342b4ab2f1d8004117c53",
      "379bf587a1584a1bad2eec88c48340a3",
      "841cd849157f42009af232159ae07324",
      "d986803f467244d2a8046d9117f289cc",
      "cf4f2f289e0f435ca095ecf61e42b079",
      "7e05bd4aa94c4479884038f457cb5504",
      "b94a8d0fbf7a49c0bdcc95382014bb0e",
      "3611820773ad41d9bad52b18df610fb9"
     ]
    },
    "executionInfo": {
     "elapsed": 35072,
     "status": "ok",
     "timestamp": 1652091067753,
     "user": {
      "displayName": "Kirill N.",
      "userId": "16481738826806641256"
     },
     "user_tz": -180
    },
    "id": "Z6b5XmoroFwu",
    "outputId": "1155d865-dd36-4190-c4e0-4ea74f6e3857"
   },
   "outputs": [
    {
     "data": {
      "application/vnd.jupyter.widget-view+json": {
       "model_id": "20daeb13368c4938bfc43a5b2dc0a466",
       "version_major": 2,
       "version_minor": 0
      },
      "text/plain": [
       "  0%|          | 0/3603 [00:00<?, ?it/s]"
      ]
     },
     "metadata": {},
     "output_type": "display_data"
    }
   ],
   "source": [
    "with Pool(8) as p:\n",
    "    sentences_test = list(tqdm(p.imap(text_to_sentences, test_data[\"comment\"]), total=len(test_data)))\n",
    "\n",
    "test_data['sentences'] = sentences_test"
   ]
  },
  {
   "cell_type": "markdown",
   "metadata": {
    "id": "d47y2HDWuqyj"
   },
   "source": [
    "**Обучение собственной модели**"
   ]
  },
  {
   "cell_type": "code",
   "execution_count": 24,
   "metadata": {
    "executionInfo": {
     "elapsed": 448,
     "status": "ok",
     "timestamp": 1652091069684,
     "user": {
      "displayName": "Kirill N.",
      "userId": "16481738826806641256"
     },
     "user_tz": -180
    },
    "id": "DagfkOPK_vdu"
   },
   "outputs": [],
   "source": [
    "flat_sentences = [item for sublist in sentences_train for item in sublist]"
   ]
  },
  {
   "cell_type": "code",
   "execution_count": 25,
   "metadata": {
    "colab": {
     "base_uri": "https://localhost:8080/"
    },
    "executionInfo": {
     "elapsed": 3171,
     "status": "ok",
     "timestamp": 1652091074060,
     "user": {
      "displayName": "Kirill N.",
      "userId": "16481738826806641256"
     },
     "user_tz": -180
    },
    "id": "KM-nT66YQ25m",
    "outputId": "0cefcfba-dcdd-43fe-c960-5d9d8a8222ba"
   },
   "outputs": [
    {
     "name": "stdout",
     "output_type": "stream",
     "text": [
      "Training my model...\n",
      "CPU times: user 4.06 s, sys: 73.2 ms, total: 4.14 s\n",
      "Wall time: 2.72 s\n"
     ]
    }
   ],
   "source": [
    "print(\"Training my model...\")\n",
    "\n",
    "%time my_model_ru = word2vec.Word2Vec(flat_sentences, workers=4, size=300, min_count=10, window=10, sample=1e-3)"
   ]
  },
  {
   "cell_type": "code",
   "execution_count": null,
   "metadata": {
    "colab": {
     "base_uri": "https://localhost:8080/"
    },
    "executionInfo": {
     "elapsed": 212,
     "status": "ok",
     "timestamp": 1652083654656,
     "user": {
      "displayName": "Kirill N.",
      "userId": "16481738826806641256"
     },
     "user_tz": -180
    },
    "id": "G93I9SAt0_6J",
    "outputId": "ba832759-8477-4c9f-d384-342d88cf761a"
   },
   "outputs": [
    {
     "name": "stdout",
     "output_type": "stream",
     "text": [
      "3157\n"
     ]
    }
   ],
   "source": [
    "print(len(my_model_ru.wv.vocab))"
   ]
  },
  {
   "cell_type": "code",
   "execution_count": 26,
   "metadata": {
    "executionInfo": {
     "elapsed": 354,
     "status": "ok",
     "timestamp": 1652091078217,
     "user": {
      "displayName": "Kirill N.",
      "userId": "16481738826806641256"
     },
     "user_tz": -180
    },
    "id": "u5IyRkV2_3eu"
   },
   "outputs": [],
   "source": [
    "X_train, X_val, y_train, y_val = train_test_split(train_data.sentences, train_data.toxic)\n",
    "X_test = test_data.sentences"
   ]
  },
  {
   "cell_type": "code",
   "execution_count": 27,
   "metadata": {
    "executionInfo": {
     "elapsed": 343,
     "status": "ok",
     "timestamp": 1652091082470,
     "user": {
      "displayName": "Kirill N.",
      "userId": "16481738826806641256"
     },
     "user_tz": -180
    },
    "id": "FfokUHl4uwHp"
   },
   "outputs": [],
   "source": [
    "def mean_text_embedding(text, model=my_model_ru):\n",
    "    flat_text = [item for sublist in text for item in sublist]\n",
    "    text_embeddings = [np.array(model[token]) for token in flat_text if token in model]\n",
    "    \n",
    "    if len(text_embeddings) == 0:\n",
    "        mean_text_emb = np.zeros(300)  \n",
    "    else:\n",
    "        mean_text_emb = np.mean(np.array(text_embeddings), axis=0)\n",
    "\n",
    "    return mean_text_emb"
   ]
  },
  {
   "cell_type": "code",
   "execution_count": 28,
   "metadata": {
    "executionInfo": {
     "elapsed": 2816,
     "status": "ok",
     "timestamp": 1652091087040,
     "user": {
      "displayName": "Kirill N.",
      "userId": "16481738826806641256"
     },
     "user_tz": -180
    },
    "id": "VgfHBLkvidYq"
   },
   "outputs": [],
   "source": [
    "X_train_emb = [mean_text_embedding(text, my_model_ru) for text in X_train]\n",
    "X_val_emb = [mean_text_embedding(text, my_model_ru) for text in X_val]\n",
    "X_test_emb = [mean_text_embedding(text, my_model_ru) for text in X_test]"
   ]
  },
  {
   "cell_type": "code",
   "execution_count": 33,
   "metadata": {
    "colab": {
     "base_uri": "https://localhost:8080/"
    },
    "executionInfo": {
     "elapsed": 310,
     "status": "ok",
     "timestamp": 1652091348771,
     "user": {
      "displayName": "Kirill N.",
      "userId": "16481738826806641256"
     },
     "user_tz": -180
    },
    "id": "QFVSWKkvidYr",
    "outputId": "455675f6-2ea9-415b-a82f-0b23a660d873"
   },
   "outputs": [
    {
     "name": "stdout",
     "output_type": "stream",
     "text": [
      "              precision    recall  f1-score   support\n",
      "\n",
      "         0.0       0.98      0.67      0.80      2590\n",
      "         1.0       0.08      0.68      0.15       113\n",
      "\n",
      "    accuracy                           0.67      2703\n",
      "   macro avg       0.53      0.68      0.47      2703\n",
      "weighted avg       0.94      0.67      0.77      2703\n",
      "\n"
     ]
    }
   ],
   "source": [
    "clf_lr = LogisticRegression()\n",
    "clf_lr.fit(X_train_emb, y_train)\n",
    "y_val_pred = clf_lr.predict(X_val_emb)\n",
    "\n",
    "print(classification_report(y_val_pred, y_val))"
   ]
  },
  {
   "cell_type": "code",
   "execution_count": 34,
   "metadata": {
    "colab": {
     "base_uri": "https://localhost:8080/"
    },
    "executionInfo": {
     "elapsed": 365,
     "status": "ok",
     "timestamp": 1652091351746,
     "user": {
      "displayName": "Kirill N.",
      "userId": "16481738826806641256"
     },
     "user_tz": -180
    },
    "id": "MakqwgwoXxJd",
    "outputId": "2a25e677-66b8-4fed-bf76-dd2832d71611"
   },
   "outputs": [
    {
     "data": {
      "text/plain": [
       "0.6699963004069552"
      ]
     },
     "execution_count": 34,
     "metadata": {},
     "output_type": "execute_result"
    }
   ],
   "source": [
    "accuracy_score(y_val_pred, y_val)"
   ]
  },
  {
   "cell_type": "code",
   "execution_count": null,
   "metadata": {
    "id": "ir9FtvdNidYr"
   },
   "outputs": [],
   "source": [
    "y_result = clf_lr.predict(X_test_emb)\n",
    "\n",
    "solution_2 = [[i, y_result[i]] for i in range(len(test_data))]\n",
    "solution_2 = pd.DataFrame(solution_2, columns=['comment_id', 'toxic'])\n",
    "solution_2.to_csv('solution_2.csv', index=False)"
   ]
  },
  {
   "cell_type": "markdown",
   "metadata": {
    "id": "gduiuvWiux8h"
   },
   "source": [
    "**Использование готовой модели**"
   ]
  },
  {
   "cell_type": "code",
   "execution_count": null,
   "metadata": {
    "colab": {
     "base_uri": "https://localhost:8080/"
    },
    "executionInfo": {
     "elapsed": 13452,
     "status": "ok",
     "timestamp": 1652081528078,
     "user": {
      "displayName": "Kirill N.",
      "userId": "16481738826806641256"
     },
     "user_tz": -180
    },
    "id": "WAueh8wSrXrx",
    "outputId": "e7183c7e-5941-4d01-e34c-f195a38d4bd9"
   },
   "outputs": [
    {
     "name": "stdout",
     "output_type": "stream",
     "text": [
      "--2022-05-09 07:31:53--  https://rusvectores.org/static/models/rusvectores2/ruscorpora_mystem_cbow_300_2_2015.bin.gz\n",
      "Resolving rusvectores.org (rusvectores.org)... 116.203.104.23\n",
      "Connecting to rusvectores.org (rusvectores.org)|116.203.104.23|:443... connected.\n",
      "HTTP request sent, awaiting response... 200 OK\n",
      "Length: 317128925 (302M) [application/x-gzip]\n",
      "Saving to: ‘ruscorpora_mystem_cbow_300_2_2015.bin.gz’\n",
      "\n",
      "ruscorpora_mystem_c 100%[===================>] 302.44M  25.8MB/s    in 12s     \n",
      "\n",
      "2022-05-09 07:32:06 (24.5 MB/s) - ‘ruscorpora_mystem_cbow_300_2_2015.bin.gz’ saved [317128925/317128925]\n",
      "\n"
     ]
    }
   ],
   "source": [
    "!wget https://rusvectores.org/static/models/rusvectores2/ruscorpora_mystem_cbow_300_2_2015.bin.gz"
   ]
  },
  {
   "cell_type": "code",
   "execution_count": null,
   "metadata": {
    "id": "cNyF42CXrXuZ"
   },
   "outputs": [],
   "source": [
    "model_path = 'ruscorpora_mystem_cbow_300_2_2015.bin.gz'\n",
    "model_ru2 = gensim.models.KeyedVectors.load_word2vec_format(model_path, binary=True)"
   ]
  },
  {
   "cell_type": "code",
   "execution_count": null,
   "metadata": {
    "id": "CT8H_Ijvz2pd"
   },
   "outputs": [],
   "source": [
    "X_train, X_val, y_train, y_val = train_test_split(train_data.sentences, train_data.toxic)\n",
    "X_test = test_data.sentences"
   ]
  },
  {
   "cell_type": "code",
   "execution_count": null,
   "metadata": {
    "id": "6nVlEv4VrXxG"
   },
   "outputs": [],
   "source": [
    "X_train_emb = [mean_text_embedding(text, model_ru2) for text in X_train]\n",
    "X_val_emb = [mean_text_embedding(text, model_ru2) for text in X_val]\n",
    "X_test_emb = [mean_text_embedding(text, model_ru2) for text in X_test]"
   ]
  },
  {
   "cell_type": "code",
   "execution_count": null,
   "metadata": {
    "colab": {
     "base_uri": "https://localhost:8080/"
    },
    "executionInfo": {
     "elapsed": 395,
     "status": "ok",
     "timestamp": 1652084219048,
     "user": {
      "displayName": "Kirill N.",
      "userId": "16481738826806641256"
     },
     "user_tz": -180
    },
    "id": "nrJFsi94wrpO",
    "outputId": "42d5da07-b436-496e-9d44-217810c88c10"
   },
   "outputs": [
    {
     "name": "stdout",
     "output_type": "stream",
     "text": [
      "              precision    recall  f1-score   support\n",
      "\n",
      "         0.0       1.00      0.66      0.80      2703\n",
      "         1.0       0.00      0.00      0.00         0\n",
      "\n",
      "    accuracy                           0.66      2703\n",
      "   macro avg       0.50      0.33      0.40      2703\n",
      "weighted avg       1.00      0.66      0.80      2703\n",
      "\n"
     ]
    }
   ],
   "source": [
    "clf_lr = LogisticRegression()\n",
    "clf_lr.fit(X_train_emb, y_train)\n",
    "y_val_pred = clf_lr.predict(X_val_emb)\n",
    "\n",
    "print(classification_report(y_val_pred, y_val))"
   ]
  },
  {
   "cell_type": "code",
   "execution_count": null,
   "metadata": {
    "colab": {
     "base_uri": "https://localhost:8080/"
    },
    "executionInfo": {
     "elapsed": 236,
     "status": "ok",
     "timestamp": 1652082033905,
     "user": {
      "displayName": "Kirill N.",
      "userId": "16481738826806641256"
     },
     "user_tz": -180
    },
    "id": "LSvYMCTUwrr6",
    "outputId": "06fafc91-4901-47ec-b459-68ad36b19bd1"
   },
   "outputs": [
    {
     "data": {
      "text/plain": [
       "0.6722160562338143"
      ]
     },
     "execution_count": 430,
     "metadata": {},
     "output_type": "execute_result"
    }
   ],
   "source": [
    "accuracy_score(y_val_pred, y_val)"
   ]
  },
  {
   "cell_type": "markdown",
   "metadata": {
    "id": "RzLIKk376khm"
   },
   "source": [
    "## 3. Supervised FastText <a id=\"fasttext\"></a>"
   ]
  },
  {
   "cell_type": "code",
   "execution_count": null,
   "metadata": {
    "colab": {
     "base_uri": "https://localhost:8080/"
    },
    "executionInfo": {
     "elapsed": 56235,
     "status": "ok",
     "timestamp": 1652082105499,
     "user": {
      "displayName": "Kirill N.",
      "userId": "16481738826806641256"
     },
     "user_tz": -180
    },
    "id": "-3U5dVYgM8y5",
    "outputId": "00104835-daef-465a-9f6d-fcea19b5d0d1"
   },
   "outputs": [
    {
     "name": "stdout",
     "output_type": "stream",
     "text": [
      "Collecting fasttext\n",
      "  Downloading fasttext-0.9.2.tar.gz (68 kB)\n",
      "\u001b[?25l\r",
      "\u001b[K     |████▊                           | 10 kB 15.3 MB/s eta 0:00:01\r",
      "\u001b[K     |█████████▌                      | 20 kB 12.1 MB/s eta 0:00:01\r",
      "\u001b[K     |██████████████▎                 | 30 kB 8.5 MB/s eta 0:00:01\r",
      "\u001b[K     |███████████████████             | 40 kB 7.8 MB/s eta 0:00:01\r",
      "\u001b[K     |███████████████████████▉        | 51 kB 4.9 MB/s eta 0:00:01\r",
      "\u001b[K     |████████████████████████████▋   | 61 kB 5.7 MB/s eta 0:00:01\r",
      "\u001b[K     |████████████████████████████████| 68 kB 3.2 MB/s \n",
      "\u001b[?25hCollecting pybind11>=2.2\n",
      "  Using cached pybind11-2.9.2-py2.py3-none-any.whl (213 kB)\n",
      "Requirement already satisfied: setuptools>=0.7.0 in /usr/local/lib/python3.7/dist-packages (from fasttext) (57.4.0)\n",
      "Requirement already satisfied: numpy in /usr/local/lib/python3.7/dist-packages (from fasttext) (1.21.6)\n",
      "Building wheels for collected packages: fasttext\n",
      "  Building wheel for fasttext (setup.py) ... \u001b[?25l\u001b[?25hdone\n",
      "  Created wheel for fasttext: filename=fasttext-0.9.2-cp37-cp37m-linux_x86_64.whl size=3140310 sha256=0058427602225a82822acd19f56ce0515bcffbf9efb863b06247ee1bdcd8d550\n",
      "  Stored in directory: /root/.cache/pip/wheels/4e/ca/bf/b020d2be95f7641801a6597a29c8f4f19e38f9c02a345bab9b\n",
      "Successfully built fasttext\n",
      "Installing collected packages: pybind11, fasttext\n",
      "Successfully installed fasttext-0.9.2 pybind11-2.9.2\n"
     ]
    }
   ],
   "source": [
    "!pip install fasttext"
   ]
  },
  {
   "cell_type": "code",
   "execution_count": null,
   "metadata": {
    "colab": {
     "base_uri": "https://localhost:8080/"
    },
    "executionInfo": {
     "elapsed": 90906,
     "status": "ok",
     "timestamp": 1652082203922,
     "user": {
      "displayName": "Kirill N.",
      "userId": "16481738826806641256"
     },
     "user_tz": -180
    },
    "id": "TQ6tXyvUuKYr",
    "outputId": "e94c73e4-ad27-4c6c-feeb-e63ea96e147e"
   },
   "outputs": [
    {
     "name": "stdout",
     "output_type": "stream",
     "text": [
      "--2022-05-09 07:41:51--  https://dl.fbaipublicfiles.com/fasttext/vectors-crawl/cc.ru.300.bin.gz\n",
      "Resolving dl.fbaipublicfiles.com (dl.fbaipublicfiles.com)... 172.67.9.4, 104.22.75.142, 104.22.74.142, ...\n",
      "Connecting to dl.fbaipublicfiles.com (dl.fbaipublicfiles.com)|172.67.9.4|:443... connected.\n",
      "HTTP request sent, awaiting response... 200 OK\n",
      "Length: 4496459151 (4.2G) [application/octet-stream]\n",
      "Saving to: ‘cc.ru.300.bin.gz’\n",
      "\n",
      "cc.ru.300.bin.gz    100%[===================>]   4.19G  37.4MB/s    in 90s     \n",
      "\n",
      "2022-05-09 07:43:22 (47.6 MB/s) - ‘cc.ru.300.bin.gz’ saved [4496459151/4496459151]\n",
      "\n"
     ]
    }
   ],
   "source": [
    "!wget https://dl.fbaipublicfiles.com/fasttext/vectors-crawl/cc.ru.300.bin.gz"
   ]
  },
  {
   "cell_type": "code",
   "execution_count": null,
   "metadata": {
    "id": "5vHKsgcXxXoL"
   },
   "outputs": [],
   "source": [
    "!gunzip cc.ru.300.bin.gz"
   ]
  },
  {
   "cell_type": "code",
   "execution_count": 13,
   "metadata": {
    "colab": {
     "base_uri": "https://localhost:8080/"
    },
    "executionInfo": {
     "elapsed": 36108,
     "status": "ok",
     "timestamp": 1652090197873,
     "user": {
      "displayName": "Kirill N.",
      "userId": "16481738826806641256"
     },
     "user_tz": -180
    },
    "id": "rzQIuAx-M8y5",
    "outputId": "bcffc3c0-e2ba-4a88-a130-c930df4efcd0"
   },
   "outputs": [
    {
     "name": "stderr",
     "output_type": "stream",
     "text": [
      "Warning : `load_model` does not return WordVectorModel or SupervisedModel any more, but a `FastText` object which is very similar.\n"
     ]
    }
   ],
   "source": [
    "import fasttext, fasttext.util\n",
    "\n",
    "#fasttext.util.download_model('ru', if_exists='ignore')\n",
    "ft = fasttext.load_model('cc.ru.300.bin')"
   ]
  },
  {
   "cell_type": "code",
   "execution_count": 14,
   "metadata": {
    "executionInfo": {
     "elapsed": 335,
     "status": "ok",
     "timestamp": 1652090200984,
     "user": {
      "displayName": "Kirill N.",
      "userId": "16481738826806641256"
     },
     "user_tz": -180
    },
    "id": "MYjPOwBuy2if"
   },
   "outputs": [],
   "source": [
    "X_train, X_val, y_train, y_val = train_test_split(train_data.lemmas, train_data.toxic)"
   ]
  },
  {
   "cell_type": "code",
   "execution_count": 15,
   "metadata": {
    "executionInfo": {
     "elapsed": 352,
     "status": "ok",
     "timestamp": 1652090202639,
     "user": {
      "displayName": "Kirill N.",
      "userId": "16481738826806641256"
     },
     "user_tz": -180
    },
    "id": "reQoyQeGM8y5"
   },
   "outputs": [],
   "source": [
    "with open('train_ft.txt', 'w') as f:\n",
    "    for pair in list(zip(X_train, y_train)):\n",
    "        text, label = pair\n",
    "        f.write(f'__label__{label} {text.lower()}\\n')"
   ]
  },
  {
   "cell_type": "code",
   "execution_count": 16,
   "metadata": {
    "executionInfo": {
     "elapsed": 339,
     "status": "ok",
     "timestamp": 1652090204421,
     "user": {
      "displayName": "Kirill N.",
      "userId": "16481738826806641256"
     },
     "user_tz": -180
    },
    "id": "qk_fN6YPM8y5"
   },
   "outputs": [],
   "source": [
    "with open('val_ft.txt', 'w') as f:\n",
    "    for pair in list(zip(X_val, y_val)):\n",
    "        text, label = pair\n",
    "        f.write(f'__label__{label} {text.lower()}\\n')"
   ]
  },
  {
   "cell_type": "code",
   "execution_count": 17,
   "metadata": {
    "colab": {
     "base_uri": "https://localhost:8080/"
    },
    "executionInfo": {
     "elapsed": 818,
     "status": "ok",
     "timestamp": 1652090207468,
     "user": {
      "displayName": "Kirill N.",
      "userId": "16481738826806641256"
     },
     "user_tz": -180
    },
    "id": "xLpwcda-M8y6",
    "outputId": "1ea3d38a-8429-4f98-a05b-233e4837590b"
   },
   "outputs": [
    {
     "name": "stdout",
     "output_type": "stream",
     "text": [
      "P@1: 0.8564557898631151\n",
      "R@1: 0.8564557898631151\n",
      "Number of examples: 2703\n"
     ]
    }
   ],
   "source": [
    "clf_ft = fasttext.train_supervised('train_ft.txt')#, 'model')\n",
    "y_val_pred = clf_ft.test('val_ft.txt')\n",
    "\n",
    "print('P@1:', y_val_pred[1])#.precision)\n",
    "print('R@1:', y_val_pred[2])#.recall)\n",
    "print('Number of examples:', y_val_pred[0])#.nexamples)"
   ]
  },
  {
   "cell_type": "code",
   "execution_count": 18,
   "metadata": {
    "executionInfo": {
     "elapsed": 342,
     "status": "ok",
     "timestamp": 1652090211058,
     "user": {
      "displayName": "Kirill N.",
      "userId": "16481738826806641256"
     },
     "user_tz": -180
    },
    "id": "LRXlTX2Xy9IO"
   },
   "outputs": [],
   "source": [
    "y_result = clf_ft.predict(list(test_data['lemmas']))[0]\n",
    "y_result = [label[0].split('__')[-1] for label in y_result]\n",
    "\n",
    "solution_3 = [[i, y_result[i]] for i in range(len(test_data))]\n",
    "solution_3 = pd.DataFrame(solution_3, columns=['comment_id', 'toxic'])\n",
    "solution_3.to_csv('solution_3.csv', index=False)"
   ]
  }
 ],
 "metadata": {
  "colab": {
   "collapsed_sections": [],
   "name": "HSE_DAA_HW_KNosov_09-May-2022.ipynb",
   "provenance": []
  },
  "kernelspec": {
   "display_name": "Python 3",
   "language": "python",
   "name": "python3"
  },
  "language_info": {
   "codemirror_mode": {
    "name": "ipython",
    "version": 3
   },
   "file_extension": ".py",
   "mimetype": "text/x-python",
   "name": "python",
   "nbconvert_exporter": "python",
   "pygments_lexer": "ipython3",
   "version": "3.8.5"
  },
  "widgets": {
   "application/vnd.jupyter.widget-state+json": {
    "00a1b2661ccf4f4caac37c16edf89b71": {
     "model_module": "@jupyter-widgets/controls",
     "model_module_version": "1.5.0",
     "model_name": "ProgressStyleModel",
     "state": {
      "_model_module": "@jupyter-widgets/controls",
      "_model_module_version": "1.5.0",
      "_model_name": "ProgressStyleModel",
      "_view_count": null,
      "_view_module": "@jupyter-widgets/base",
      "_view_module_version": "1.2.0",
      "_view_name": "StyleView",
      "bar_color": null,
      "description_width": ""
     }
    },
    "042b512468e64e6980b591e6008d1e3d": {
     "model_module": "@jupyter-widgets/controls",
     "model_module_version": "1.5.0",
     "model_name": "ProgressStyleModel",
     "state": {
      "_model_module": "@jupyter-widgets/controls",
      "_model_module_version": "1.5.0",
      "_model_name": "ProgressStyleModel",
      "_view_count": null,
      "_view_module": "@jupyter-widgets/base",
      "_view_module_version": "1.2.0",
      "_view_name": "StyleView",
      "bar_color": null,
      "description_width": ""
     }
    },
    "11963bb4e2304bf58e7cece56b878d66": {
     "model_module": "@jupyter-widgets/base",
     "model_module_version": "1.2.0",
     "model_name": "LayoutModel",
     "state": {
      "_model_module": "@jupyter-widgets/base",
      "_model_module_version": "1.2.0",
      "_model_name": "LayoutModel",
      "_view_count": null,
      "_view_module": "@jupyter-widgets/base",
      "_view_module_version": "1.2.0",
      "_view_name": "LayoutView",
      "align_content": null,
      "align_items": null,
      "align_self": null,
      "border": null,
      "bottom": null,
      "display": null,
      "flex": null,
      "flex_flow": null,
      "grid_area": null,
      "grid_auto_columns": null,
      "grid_auto_flow": null,
      "grid_auto_rows": null,
      "grid_column": null,
      "grid_gap": null,
      "grid_row": null,
      "grid_template_areas": null,
      "grid_template_columns": null,
      "grid_template_rows": null,
      "height": null,
      "justify_content": null,
      "justify_items": null,
      "left": null,
      "margin": null,
      "max_height": null,
      "max_width": null,
      "min_height": null,
      "min_width": null,
      "object_fit": null,
      "object_position": null,
      "order": null,
      "overflow": null,
      "overflow_x": null,
      "overflow_y": null,
      "padding": null,
      "right": null,
      "top": null,
      "visibility": null,
      "width": null
     }
    },
    "191a534f38214508af02afedbdaa7a7a": {
     "model_module": "@jupyter-widgets/controls",
     "model_module_version": "1.5.0",
     "model_name": "ProgressStyleModel",
     "state": {
      "_model_module": "@jupyter-widgets/controls",
      "_model_module_version": "1.5.0",
      "_model_name": "ProgressStyleModel",
      "_view_count": null,
      "_view_module": "@jupyter-widgets/base",
      "_view_module_version": "1.2.0",
      "_view_name": "StyleView",
      "bar_color": null,
      "description_width": ""
     }
    },
    "20daeb13368c4938bfc43a5b2dc0a466": {
     "model_module": "@jupyter-widgets/controls",
     "model_module_version": "1.5.0",
     "model_name": "HBoxModel",
     "state": {
      "_dom_classes": [],
      "_model_module": "@jupyter-widgets/controls",
      "_model_module_version": "1.5.0",
      "_model_name": "HBoxModel",
      "_view_count": null,
      "_view_module": "@jupyter-widgets/controls",
      "_view_module_version": "1.5.0",
      "_view_name": "HBoxView",
      "box_style": "",
      "children": [
       "IPY_MODEL_cef4845e62f74094be162b20388be886",
       "IPY_MODEL_5602d381da0a4b3fbd2ae123835e1d32",
       "IPY_MODEL_5a25bd6d036342b4ab2f1d8004117c53"
      ],
      "layout": "IPY_MODEL_379bf587a1584a1bad2eec88c48340a3"
     }
    },
    "25457874548442ed828a3361b62673e9": {
     "model_module": "@jupyter-widgets/base",
     "model_module_version": "1.2.0",
     "model_name": "LayoutModel",
     "state": {
      "_model_module": "@jupyter-widgets/base",
      "_model_module_version": "1.2.0",
      "_model_name": "LayoutModel",
      "_view_count": null,
      "_view_module": "@jupyter-widgets/base",
      "_view_module_version": "1.2.0",
      "_view_name": "LayoutView",
      "align_content": null,
      "align_items": null,
      "align_self": null,
      "border": null,
      "bottom": null,
      "display": null,
      "flex": null,
      "flex_flow": null,
      "grid_area": null,
      "grid_auto_columns": null,
      "grid_auto_flow": null,
      "grid_auto_rows": null,
      "grid_column": null,
      "grid_gap": null,
      "grid_row": null,
      "grid_template_areas": null,
      "grid_template_columns": null,
      "grid_template_rows": null,
      "height": null,
      "justify_content": null,
      "justify_items": null,
      "left": null,
      "margin": null,
      "max_height": null,
      "max_width": null,
      "min_height": null,
      "min_width": null,
      "object_fit": null,
      "object_position": null,
      "order": null,
      "overflow": null,
      "overflow_x": null,
      "overflow_y": null,
      "padding": null,
      "right": null,
      "top": null,
      "visibility": null,
      "width": null
     }
    },
    "285ee7568fd845f38ae5bab1a334c43e": {
     "model_module": "@jupyter-widgets/controls",
     "model_module_version": "1.5.0",
     "model_name": "HBoxModel",
     "state": {
      "_dom_classes": [],
      "_model_module": "@jupyter-widgets/controls",
      "_model_module_version": "1.5.0",
      "_model_name": "HBoxModel",
      "_view_count": null,
      "_view_module": "@jupyter-widgets/controls",
      "_view_module_version": "1.5.0",
      "_view_name": "HBoxView",
      "box_style": "",
      "children": [
       "IPY_MODEL_d47fd710b4414d6cb57542160355c4d1",
       "IPY_MODEL_47b53e81395e4058a7545570566dd689",
       "IPY_MODEL_2c698e5e52494beab7b22f445662a864"
      ],
      "layout": "IPY_MODEL_e364cbf5e3b54fa8807a1e206a1277a5"
     }
    },
    "2c698e5e52494beab7b22f445662a864": {
     "model_module": "@jupyter-widgets/controls",
     "model_module_version": "1.5.0",
     "model_name": "HTMLModel",
     "state": {
      "_dom_classes": [],
      "_model_module": "@jupyter-widgets/controls",
      "_model_module_version": "1.5.0",
      "_model_name": "HTMLModel",
      "_view_count": null,
      "_view_module": "@jupyter-widgets/controls",
      "_view_module_version": "1.5.0",
      "_view_name": "HTMLView",
      "description": "",
      "description_tooltip": null,
      "layout": "IPY_MODEL_4694eb27bea54e529e3af032f2d3bfaf",
      "placeholder": "​",
      "style": "IPY_MODEL_3cfaa57797914d4895ab88463f79ec45",
      "value": " 10809/10809 [01:36&lt;00:00, 112.65it/s]"
     }
    },
    "2e19d26d7ac3488e817bffe206457cc1": {
     "model_module": "@jupyter-widgets/controls",
     "model_module_version": "1.5.0",
     "model_name": "DescriptionStyleModel",
     "state": {
      "_model_module": "@jupyter-widgets/controls",
      "_model_module_version": "1.5.0",
      "_model_name": "DescriptionStyleModel",
      "_view_count": null,
      "_view_module": "@jupyter-widgets/base",
      "_view_module_version": "1.2.0",
      "_view_name": "StyleView",
      "description_width": ""
     }
    },
    "3611820773ad41d9bad52b18df610fb9": {
     "model_module": "@jupyter-widgets/controls",
     "model_module_version": "1.5.0",
     "model_name": "DescriptionStyleModel",
     "state": {
      "_model_module": "@jupyter-widgets/controls",
      "_model_module_version": "1.5.0",
      "_model_name": "DescriptionStyleModel",
      "_view_count": null,
      "_view_module": "@jupyter-widgets/base",
      "_view_module_version": "1.2.0",
      "_view_name": "StyleView",
      "description_width": ""
     }
    },
    "371d5efc9e734ef9b8e70152a494e415": {
     "model_module": "@jupyter-widgets/controls",
     "model_module_version": "1.5.0",
     "model_name": "DescriptionStyleModel",
     "state": {
      "_model_module": "@jupyter-widgets/controls",
      "_model_module_version": "1.5.0",
      "_model_name": "DescriptionStyleModel",
      "_view_count": null,
      "_view_module": "@jupyter-widgets/base",
      "_view_module_version": "1.2.0",
      "_view_name": "StyleView",
      "description_width": ""
     }
    },
    "379bf587a1584a1bad2eec88c48340a3": {
     "model_module": "@jupyter-widgets/base",
     "model_module_version": "1.2.0",
     "model_name": "LayoutModel",
     "state": {
      "_model_module": "@jupyter-widgets/base",
      "_model_module_version": "1.2.0",
      "_model_name": "LayoutModel",
      "_view_count": null,
      "_view_module": "@jupyter-widgets/base",
      "_view_module_version": "1.2.0",
      "_view_name": "LayoutView",
      "align_content": null,
      "align_items": null,
      "align_self": null,
      "border": null,
      "bottom": null,
      "display": null,
      "flex": null,
      "flex_flow": null,
      "grid_area": null,
      "grid_auto_columns": null,
      "grid_auto_flow": null,
      "grid_auto_rows": null,
      "grid_column": null,
      "grid_gap": null,
      "grid_row": null,
      "grid_template_areas": null,
      "grid_template_columns": null,
      "grid_template_rows": null,
      "height": null,
      "justify_content": null,
      "justify_items": null,
      "left": null,
      "margin": null,
      "max_height": null,
      "max_width": null,
      "min_height": null,
      "min_width": null,
      "object_fit": null,
      "object_position": null,
      "order": null,
      "overflow": null,
      "overflow_x": null,
      "overflow_y": null,
      "padding": null,
      "right": null,
      "top": null,
      "visibility": null,
      "width": null
     }
    },
    "3a6da537c7724b7c8b5014a2dd24a74f": {
     "model_module": "@jupyter-widgets/base",
     "model_module_version": "1.2.0",
     "model_name": "LayoutModel",
     "state": {
      "_model_module": "@jupyter-widgets/base",
      "_model_module_version": "1.2.0",
      "_model_name": "LayoutModel",
      "_view_count": null,
      "_view_module": "@jupyter-widgets/base",
      "_view_module_version": "1.2.0",
      "_view_name": "LayoutView",
      "align_content": null,
      "align_items": null,
      "align_self": null,
      "border": null,
      "bottom": null,
      "display": null,
      "flex": null,
      "flex_flow": null,
      "grid_area": null,
      "grid_auto_columns": null,
      "grid_auto_flow": null,
      "grid_auto_rows": null,
      "grid_column": null,
      "grid_gap": null,
      "grid_row": null,
      "grid_template_areas": null,
      "grid_template_columns": null,
      "grid_template_rows": null,
      "height": null,
      "justify_content": null,
      "justify_items": null,
      "left": null,
      "margin": null,
      "max_height": null,
      "max_width": null,
      "min_height": null,
      "min_width": null,
      "object_fit": null,
      "object_position": null,
      "order": null,
      "overflow": null,
      "overflow_x": null,
      "overflow_y": null,
      "padding": null,
      "right": null,
      "top": null,
      "visibility": null,
      "width": null
     }
    },
    "3cfaa57797914d4895ab88463f79ec45": {
     "model_module": "@jupyter-widgets/controls",
     "model_module_version": "1.5.0",
     "model_name": "DescriptionStyleModel",
     "state": {
      "_model_module": "@jupyter-widgets/controls",
      "_model_module_version": "1.5.0",
      "_model_name": "DescriptionStyleModel",
      "_view_count": null,
      "_view_module": "@jupyter-widgets/base",
      "_view_module_version": "1.2.0",
      "_view_name": "StyleView",
      "description_width": ""
     }
    },
    "3e88be6596e04faf958dfed83b8288f4": {
     "model_module": "@jupyter-widgets/base",
     "model_module_version": "1.2.0",
     "model_name": "LayoutModel",
     "state": {
      "_model_module": "@jupyter-widgets/base",
      "_model_module_version": "1.2.0",
      "_model_name": "LayoutModel",
      "_view_count": null,
      "_view_module": "@jupyter-widgets/base",
      "_view_module_version": "1.2.0",
      "_view_name": "LayoutView",
      "align_content": null,
      "align_items": null,
      "align_self": null,
      "border": null,
      "bottom": null,
      "display": null,
      "flex": null,
      "flex_flow": null,
      "grid_area": null,
      "grid_auto_columns": null,
      "grid_auto_flow": null,
      "grid_auto_rows": null,
      "grid_column": null,
      "grid_gap": null,
      "grid_row": null,
      "grid_template_areas": null,
      "grid_template_columns": null,
      "grid_template_rows": null,
      "height": null,
      "justify_content": null,
      "justify_items": null,
      "left": null,
      "margin": null,
      "max_height": null,
      "max_width": null,
      "min_height": null,
      "min_width": null,
      "object_fit": null,
      "object_position": null,
      "order": null,
      "overflow": null,
      "overflow_x": null,
      "overflow_y": null,
      "padding": null,
      "right": null,
      "top": null,
      "visibility": null,
      "width": null
     }
    },
    "3fec1de8eb0145d98cc308ae9dd49304": {
     "model_module": "@jupyter-widgets/base",
     "model_module_version": "1.2.0",
     "model_name": "LayoutModel",
     "state": {
      "_model_module": "@jupyter-widgets/base",
      "_model_module_version": "1.2.0",
      "_model_name": "LayoutModel",
      "_view_count": null,
      "_view_module": "@jupyter-widgets/base",
      "_view_module_version": "1.2.0",
      "_view_name": "LayoutView",
      "align_content": null,
      "align_items": null,
      "align_self": null,
      "border": null,
      "bottom": null,
      "display": null,
      "flex": null,
      "flex_flow": null,
      "grid_area": null,
      "grid_auto_columns": null,
      "grid_auto_flow": null,
      "grid_auto_rows": null,
      "grid_column": null,
      "grid_gap": null,
      "grid_row": null,
      "grid_template_areas": null,
      "grid_template_columns": null,
      "grid_template_rows": null,
      "height": null,
      "justify_content": null,
      "justify_items": null,
      "left": null,
      "margin": null,
      "max_height": null,
      "max_width": null,
      "min_height": null,
      "min_width": null,
      "object_fit": null,
      "object_position": null,
      "order": null,
      "overflow": null,
      "overflow_x": null,
      "overflow_y": null,
      "padding": null,
      "right": null,
      "top": null,
      "visibility": null,
      "width": null
     }
    },
    "4694eb27bea54e529e3af032f2d3bfaf": {
     "model_module": "@jupyter-widgets/base",
     "model_module_version": "1.2.0",
     "model_name": "LayoutModel",
     "state": {
      "_model_module": "@jupyter-widgets/base",
      "_model_module_version": "1.2.0",
      "_model_name": "LayoutModel",
      "_view_count": null,
      "_view_module": "@jupyter-widgets/base",
      "_view_module_version": "1.2.0",
      "_view_name": "LayoutView",
      "align_content": null,
      "align_items": null,
      "align_self": null,
      "border": null,
      "bottom": null,
      "display": null,
      "flex": null,
      "flex_flow": null,
      "grid_area": null,
      "grid_auto_columns": null,
      "grid_auto_flow": null,
      "grid_auto_rows": null,
      "grid_column": null,
      "grid_gap": null,
      "grid_row": null,
      "grid_template_areas": null,
      "grid_template_columns": null,
      "grid_template_rows": null,
      "height": null,
      "justify_content": null,
      "justify_items": null,
      "left": null,
      "margin": null,
      "max_height": null,
      "max_width": null,
      "min_height": null,
      "min_width": null,
      "object_fit": null,
      "object_position": null,
      "order": null,
      "overflow": null,
      "overflow_x": null,
      "overflow_y": null,
      "padding": null,
      "right": null,
      "top": null,
      "visibility": null,
      "width": null
     }
    },
    "47b53e81395e4058a7545570566dd689": {
     "model_module": "@jupyter-widgets/controls",
     "model_module_version": "1.5.0",
     "model_name": "FloatProgressModel",
     "state": {
      "_dom_classes": [],
      "_model_module": "@jupyter-widgets/controls",
      "_model_module_version": "1.5.0",
      "_model_name": "FloatProgressModel",
      "_view_count": null,
      "_view_module": "@jupyter-widgets/controls",
      "_view_module_version": "1.5.0",
      "_view_name": "ProgressView",
      "bar_style": "success",
      "description": "",
      "description_tooltip": null,
      "layout": "IPY_MODEL_7fbf86553c7e4b8fa939fde27b2389c1",
      "max": 10809,
      "min": 0,
      "orientation": "horizontal",
      "style": "IPY_MODEL_191a534f38214508af02afedbdaa7a7a",
      "value": 10809
     }
    },
    "5602d381da0a4b3fbd2ae123835e1d32": {
     "model_module": "@jupyter-widgets/controls",
     "model_module_version": "1.5.0",
     "model_name": "FloatProgressModel",
     "state": {
      "_dom_classes": [],
      "_model_module": "@jupyter-widgets/controls",
      "_model_module_version": "1.5.0",
      "_model_name": "FloatProgressModel",
      "_view_count": null,
      "_view_module": "@jupyter-widgets/controls",
      "_view_module_version": "1.5.0",
      "_view_name": "ProgressView",
      "bar_style": "success",
      "description": "",
      "description_tooltip": null,
      "layout": "IPY_MODEL_cf4f2f289e0f435ca095ecf61e42b079",
      "max": 3603,
      "min": 0,
      "orientation": "horizontal",
      "style": "IPY_MODEL_7e05bd4aa94c4479884038f457cb5504",
      "value": 3603
     }
    },
    "57cf3e0494944c0b8a9a4ae7cfe49260": {
     "model_module": "@jupyter-widgets/controls",
     "model_module_version": "1.5.0",
     "model_name": "HTMLModel",
     "state": {
      "_dom_classes": [],
      "_model_module": "@jupyter-widgets/controls",
      "_model_module_version": "1.5.0",
      "_model_name": "HTMLModel",
      "_view_count": null,
      "_view_module": "@jupyter-widgets/controls",
      "_view_module_version": "1.5.0",
      "_view_name": "HTMLView",
      "description": "",
      "description_tooltip": null,
      "layout": "IPY_MODEL_b055eb4e26c6451aa7164f015521ddab",
      "placeholder": "​",
      "style": "IPY_MODEL_f20bc1e7d8be4bf98620c0bac337be75",
      "value": " 3603/3603 [00:21&lt;00:00, 198.08it/s]"
     }
    },
    "5a25bd6d036342b4ab2f1d8004117c53": {
     "model_module": "@jupyter-widgets/controls",
     "model_module_version": "1.5.0",
     "model_name": "HTMLModel",
     "state": {
      "_dom_classes": [],
      "_model_module": "@jupyter-widgets/controls",
      "_model_module_version": "1.5.0",
      "_model_name": "HTMLModel",
      "_view_count": null,
      "_view_module": "@jupyter-widgets/controls",
      "_view_module_version": "1.5.0",
      "_view_name": "HTMLView",
      "description": "",
      "description_tooltip": null,
      "layout": "IPY_MODEL_b94a8d0fbf7a49c0bdcc95382014bb0e",
      "placeholder": "​",
      "style": "IPY_MODEL_3611820773ad41d9bad52b18df610fb9",
      "value": " 3603/3603 [00:33&lt;00:00, 136.10it/s]"
     }
    },
    "63f5eed052034610a866e6fb69ef850e": {
     "model_module": "@jupyter-widgets/base",
     "model_module_version": "1.2.0",
     "model_name": "LayoutModel",
     "state": {
      "_model_module": "@jupyter-widgets/base",
      "_model_module_version": "1.2.0",
      "_model_name": "LayoutModel",
      "_view_count": null,
      "_view_module": "@jupyter-widgets/base",
      "_view_module_version": "1.2.0",
      "_view_name": "LayoutView",
      "align_content": null,
      "align_items": null,
      "align_self": null,
      "border": null,
      "bottom": null,
      "display": null,
      "flex": null,
      "flex_flow": null,
      "grid_area": null,
      "grid_auto_columns": null,
      "grid_auto_flow": null,
      "grid_auto_rows": null,
      "grid_column": null,
      "grid_gap": null,
      "grid_row": null,
      "grid_template_areas": null,
      "grid_template_columns": null,
      "grid_template_rows": null,
      "height": null,
      "justify_content": null,
      "justify_items": null,
      "left": null,
      "margin": null,
      "max_height": null,
      "max_width": null,
      "min_height": null,
      "min_width": null,
      "object_fit": null,
      "object_position": null,
      "order": null,
      "overflow": null,
      "overflow_x": null,
      "overflow_y": null,
      "padding": null,
      "right": null,
      "top": null,
      "visibility": null,
      "width": null
     }
    },
    "72fceb89acaa4224ac04eabf4321b720": {
     "model_module": "@jupyter-widgets/controls",
     "model_module_version": "1.5.0",
     "model_name": "FloatProgressModel",
     "state": {
      "_dom_classes": [],
      "_model_module": "@jupyter-widgets/controls",
      "_model_module_version": "1.5.0",
      "_model_name": "FloatProgressModel",
      "_view_count": null,
      "_view_module": "@jupyter-widgets/controls",
      "_view_module_version": "1.5.0",
      "_view_name": "ProgressView",
      "bar_style": "success",
      "description": "",
      "description_tooltip": null,
      "layout": "IPY_MODEL_11963bb4e2304bf58e7cece56b878d66",
      "max": 10809,
      "min": 0,
      "orientation": "horizontal",
      "style": "IPY_MODEL_042b512468e64e6980b591e6008d1e3d",
      "value": 10809
     }
    },
    "7e05bd4aa94c4479884038f457cb5504": {
     "model_module": "@jupyter-widgets/controls",
     "model_module_version": "1.5.0",
     "model_name": "ProgressStyleModel",
     "state": {
      "_model_module": "@jupyter-widgets/controls",
      "_model_module_version": "1.5.0",
      "_model_name": "ProgressStyleModel",
      "_view_count": null,
      "_view_module": "@jupyter-widgets/base",
      "_view_module_version": "1.2.0",
      "_view_name": "StyleView",
      "bar_color": null,
      "description_width": ""
     }
    },
    "7fbf86553c7e4b8fa939fde27b2389c1": {
     "model_module": "@jupyter-widgets/base",
     "model_module_version": "1.2.0",
     "model_name": "LayoutModel",
     "state": {
      "_model_module": "@jupyter-widgets/base",
      "_model_module_version": "1.2.0",
      "_model_name": "LayoutModel",
      "_view_count": null,
      "_view_module": "@jupyter-widgets/base",
      "_view_module_version": "1.2.0",
      "_view_name": "LayoutView",
      "align_content": null,
      "align_items": null,
      "align_self": null,
      "border": null,
      "bottom": null,
      "display": null,
      "flex": null,
      "flex_flow": null,
      "grid_area": null,
      "grid_auto_columns": null,
      "grid_auto_flow": null,
      "grid_auto_rows": null,
      "grid_column": null,
      "grid_gap": null,
      "grid_row": null,
      "grid_template_areas": null,
      "grid_template_columns": null,
      "grid_template_rows": null,
      "height": null,
      "justify_content": null,
      "justify_items": null,
      "left": null,
      "margin": null,
      "max_height": null,
      "max_width": null,
      "min_height": null,
      "min_width": null,
      "object_fit": null,
      "object_position": null,
      "order": null,
      "overflow": null,
      "overflow_x": null,
      "overflow_y": null,
      "padding": null,
      "right": null,
      "top": null,
      "visibility": null,
      "width": null
     }
    },
    "841cd849157f42009af232159ae07324": {
     "model_module": "@jupyter-widgets/base",
     "model_module_version": "1.2.0",
     "model_name": "LayoutModel",
     "state": {
      "_model_module": "@jupyter-widgets/base",
      "_model_module_version": "1.2.0",
      "_model_name": "LayoutModel",
      "_view_count": null,
      "_view_module": "@jupyter-widgets/base",
      "_view_module_version": "1.2.0",
      "_view_name": "LayoutView",
      "align_content": null,
      "align_items": null,
      "align_self": null,
      "border": null,
      "bottom": null,
      "display": null,
      "flex": null,
      "flex_flow": null,
      "grid_area": null,
      "grid_auto_columns": null,
      "grid_auto_flow": null,
      "grid_auto_rows": null,
      "grid_column": null,
      "grid_gap": null,
      "grid_row": null,
      "grid_template_areas": null,
      "grid_template_columns": null,
      "grid_template_rows": null,
      "height": null,
      "justify_content": null,
      "justify_items": null,
      "left": null,
      "margin": null,
      "max_height": null,
      "max_width": null,
      "min_height": null,
      "min_width": null,
      "object_fit": null,
      "object_position": null,
      "order": null,
      "overflow": null,
      "overflow_x": null,
      "overflow_y": null,
      "padding": null,
      "right": null,
      "top": null,
      "visibility": null,
      "width": null
     }
    },
    "872bddef91554c7298923134c83f68b9": {
     "model_module": "@jupyter-widgets/base",
     "model_module_version": "1.2.0",
     "model_name": "LayoutModel",
     "state": {
      "_model_module": "@jupyter-widgets/base",
      "_model_module_version": "1.2.0",
      "_model_name": "LayoutModel",
      "_view_count": null,
      "_view_module": "@jupyter-widgets/base",
      "_view_module_version": "1.2.0",
      "_view_name": "LayoutView",
      "align_content": null,
      "align_items": null,
      "align_self": null,
      "border": null,
      "bottom": null,
      "display": null,
      "flex": null,
      "flex_flow": null,
      "grid_area": null,
      "grid_auto_columns": null,
      "grid_auto_flow": null,
      "grid_auto_rows": null,
      "grid_column": null,
      "grid_gap": null,
      "grid_row": null,
      "grid_template_areas": null,
      "grid_template_columns": null,
      "grid_template_rows": null,
      "height": null,
      "justify_content": null,
      "justify_items": null,
      "left": null,
      "margin": null,
      "max_height": null,
      "max_width": null,
      "min_height": null,
      "min_width": null,
      "object_fit": null,
      "object_position": null,
      "order": null,
      "overflow": null,
      "overflow_x": null,
      "overflow_y": null,
      "padding": null,
      "right": null,
      "top": null,
      "visibility": null,
      "width": null
     }
    },
    "8c7612d717ff4595958fa969ca84a27d": {
     "model_module": "@jupyter-widgets/controls",
     "model_module_version": "1.5.0",
     "model_name": "HTMLModel",
     "state": {
      "_dom_classes": [],
      "_model_module": "@jupyter-widgets/controls",
      "_model_module_version": "1.5.0",
      "_model_name": "HTMLModel",
      "_view_count": null,
      "_view_module": "@jupyter-widgets/controls",
      "_view_module_version": "1.5.0",
      "_view_name": "HTMLView",
      "description": "",
      "description_tooltip": null,
      "layout": "IPY_MODEL_3e88be6596e04faf958dfed83b8288f4",
      "placeholder": "​",
      "style": "IPY_MODEL_371d5efc9e734ef9b8e70152a494e415",
      "value": "100%"
     }
    },
    "90122780624145e2bc474126181e4fed": {
     "model_module": "@jupyter-widgets/controls",
     "model_module_version": "1.5.0",
     "model_name": "HBoxModel",
     "state": {
      "_dom_classes": [],
      "_model_module": "@jupyter-widgets/controls",
      "_model_module_version": "1.5.0",
      "_model_name": "HBoxModel",
      "_view_count": null,
      "_view_module": "@jupyter-widgets/controls",
      "_view_module_version": "1.5.0",
      "_view_name": "HBoxView",
      "box_style": "",
      "children": [
       "IPY_MODEL_975c18b8e0d64853a4eb1a934977cae1",
       "IPY_MODEL_c4ce061dec71451e9561a86bfa15791f",
       "IPY_MODEL_57cf3e0494944c0b8a9a4ae7cfe49260"
      ],
      "layout": "IPY_MODEL_c084ca187fb74a658d593fcf35fb5370"
     }
    },
    "975c18b8e0d64853a4eb1a934977cae1": {
     "model_module": "@jupyter-widgets/controls",
     "model_module_version": "1.5.0",
     "model_name": "HTMLModel",
     "state": {
      "_dom_classes": [],
      "_model_module": "@jupyter-widgets/controls",
      "_model_module_version": "1.5.0",
      "_model_name": "HTMLModel",
      "_view_count": null,
      "_view_module": "@jupyter-widgets/controls",
      "_view_module_version": "1.5.0",
      "_view_name": "HTMLView",
      "description": "",
      "description_tooltip": null,
      "layout": "IPY_MODEL_872bddef91554c7298923134c83f68b9",
      "placeholder": "​",
      "style": "IPY_MODEL_2e19d26d7ac3488e817bffe206457cc1",
      "value": "100%"
     }
    },
    "b055eb4e26c6451aa7164f015521ddab": {
     "model_module": "@jupyter-widgets/base",
     "model_module_version": "1.2.0",
     "model_name": "LayoutModel",
     "state": {
      "_model_module": "@jupyter-widgets/base",
      "_model_module_version": "1.2.0",
      "_model_name": "LayoutModel",
      "_view_count": null,
      "_view_module": "@jupyter-widgets/base",
      "_view_module_version": "1.2.0",
      "_view_name": "LayoutView",
      "align_content": null,
      "align_items": null,
      "align_self": null,
      "border": null,
      "bottom": null,
      "display": null,
      "flex": null,
      "flex_flow": null,
      "grid_area": null,
      "grid_auto_columns": null,
      "grid_auto_flow": null,
      "grid_auto_rows": null,
      "grid_column": null,
      "grid_gap": null,
      "grid_row": null,
      "grid_template_areas": null,
      "grid_template_columns": null,
      "grid_template_rows": null,
      "height": null,
      "justify_content": null,
      "justify_items": null,
      "left": null,
      "margin": null,
      "max_height": null,
      "max_width": null,
      "min_height": null,
      "min_width": null,
      "object_fit": null,
      "object_position": null,
      "order": null,
      "overflow": null,
      "overflow_x": null,
      "overflow_y": null,
      "padding": null,
      "right": null,
      "top": null,
      "visibility": null,
      "width": null
     }
    },
    "b94a8d0fbf7a49c0bdcc95382014bb0e": {
     "model_module": "@jupyter-widgets/base",
     "model_module_version": "1.2.0",
     "model_name": "LayoutModel",
     "state": {
      "_model_module": "@jupyter-widgets/base",
      "_model_module_version": "1.2.0",
      "_model_name": "LayoutModel",
      "_view_count": null,
      "_view_module": "@jupyter-widgets/base",
      "_view_module_version": "1.2.0",
      "_view_name": "LayoutView",
      "align_content": null,
      "align_items": null,
      "align_self": null,
      "border": null,
      "bottom": null,
      "display": null,
      "flex": null,
      "flex_flow": null,
      "grid_area": null,
      "grid_auto_columns": null,
      "grid_auto_flow": null,
      "grid_auto_rows": null,
      "grid_column": null,
      "grid_gap": null,
      "grid_row": null,
      "grid_template_areas": null,
      "grid_template_columns": null,
      "grid_template_rows": null,
      "height": null,
      "justify_content": null,
      "justify_items": null,
      "left": null,
      "margin": null,
      "max_height": null,
      "max_width": null,
      "min_height": null,
      "min_width": null,
      "object_fit": null,
      "object_position": null,
      "order": null,
      "overflow": null,
      "overflow_x": null,
      "overflow_y": null,
      "padding": null,
      "right": null,
      "top": null,
      "visibility": null,
      "width": null
     }
    },
    "c084ca187fb74a658d593fcf35fb5370": {
     "model_module": "@jupyter-widgets/base",
     "model_module_version": "1.2.0",
     "model_name": "LayoutModel",
     "state": {
      "_model_module": "@jupyter-widgets/base",
      "_model_module_version": "1.2.0",
      "_model_name": "LayoutModel",
      "_view_count": null,
      "_view_module": "@jupyter-widgets/base",
      "_view_module_version": "1.2.0",
      "_view_name": "LayoutView",
      "align_content": null,
      "align_items": null,
      "align_self": null,
      "border": null,
      "bottom": null,
      "display": null,
      "flex": null,
      "flex_flow": null,
      "grid_area": null,
      "grid_auto_columns": null,
      "grid_auto_flow": null,
      "grid_auto_rows": null,
      "grid_column": null,
      "grid_gap": null,
      "grid_row": null,
      "grid_template_areas": null,
      "grid_template_columns": null,
      "grid_template_rows": null,
      "height": null,
      "justify_content": null,
      "justify_items": null,
      "left": null,
      "margin": null,
      "max_height": null,
      "max_width": null,
      "min_height": null,
      "min_width": null,
      "object_fit": null,
      "object_position": null,
      "order": null,
      "overflow": null,
      "overflow_x": null,
      "overflow_y": null,
      "padding": null,
      "right": null,
      "top": null,
      "visibility": null,
      "width": null
     }
    },
    "c4ce061dec71451e9561a86bfa15791f": {
     "model_module": "@jupyter-widgets/controls",
     "model_module_version": "1.5.0",
     "model_name": "FloatProgressModel",
     "state": {
      "_dom_classes": [],
      "_model_module": "@jupyter-widgets/controls",
      "_model_module_version": "1.5.0",
      "_model_name": "FloatProgressModel",
      "_view_count": null,
      "_view_module": "@jupyter-widgets/controls",
      "_view_module_version": "1.5.0",
      "_view_name": "ProgressView",
      "bar_style": "success",
      "description": "",
      "description_tooltip": null,
      "layout": "IPY_MODEL_3a6da537c7724b7c8b5014a2dd24a74f",
      "max": 3603,
      "min": 0,
      "orientation": "horizontal",
      "style": "IPY_MODEL_00a1b2661ccf4f4caac37c16edf89b71",
      "value": 3603
     }
    },
    "cef4845e62f74094be162b20388be886": {
     "model_module": "@jupyter-widgets/controls",
     "model_module_version": "1.5.0",
     "model_name": "HTMLModel",
     "state": {
      "_dom_classes": [],
      "_model_module": "@jupyter-widgets/controls",
      "_model_module_version": "1.5.0",
      "_model_name": "HTMLModel",
      "_view_count": null,
      "_view_module": "@jupyter-widgets/controls",
      "_view_module_version": "1.5.0",
      "_view_name": "HTMLView",
      "description": "",
      "description_tooltip": null,
      "layout": "IPY_MODEL_841cd849157f42009af232159ae07324",
      "placeholder": "​",
      "style": "IPY_MODEL_d986803f467244d2a8046d9117f289cc",
      "value": "100%"
     }
    },
    "cf4f2f289e0f435ca095ecf61e42b079": {
     "model_module": "@jupyter-widgets/base",
     "model_module_version": "1.2.0",
     "model_name": "LayoutModel",
     "state": {
      "_model_module": "@jupyter-widgets/base",
      "_model_module_version": "1.2.0",
      "_model_name": "LayoutModel",
      "_view_count": null,
      "_view_module": "@jupyter-widgets/base",
      "_view_module_version": "1.2.0",
      "_view_name": "LayoutView",
      "align_content": null,
      "align_items": null,
      "align_self": null,
      "border": null,
      "bottom": null,
      "display": null,
      "flex": null,
      "flex_flow": null,
      "grid_area": null,
      "grid_auto_columns": null,
      "grid_auto_flow": null,
      "grid_auto_rows": null,
      "grid_column": null,
      "grid_gap": null,
      "grid_row": null,
      "grid_template_areas": null,
      "grid_template_columns": null,
      "grid_template_rows": null,
      "height": null,
      "justify_content": null,
      "justify_items": null,
      "left": null,
      "margin": null,
      "max_height": null,
      "max_width": null,
      "min_height": null,
      "min_width": null,
      "object_fit": null,
      "object_position": null,
      "order": null,
      "overflow": null,
      "overflow_x": null,
      "overflow_y": null,
      "padding": null,
      "right": null,
      "top": null,
      "visibility": null,
      "width": null
     }
    },
    "d47fd710b4414d6cb57542160355c4d1": {
     "model_module": "@jupyter-widgets/controls",
     "model_module_version": "1.5.0",
     "model_name": "HTMLModel",
     "state": {
      "_dom_classes": [],
      "_model_module": "@jupyter-widgets/controls",
      "_model_module_version": "1.5.0",
      "_model_name": "HTMLModel",
      "_view_count": null,
      "_view_module": "@jupyter-widgets/controls",
      "_view_module_version": "1.5.0",
      "_view_name": "HTMLView",
      "description": "",
      "description_tooltip": null,
      "layout": "IPY_MODEL_63f5eed052034610a866e6fb69ef850e",
      "placeholder": "​",
      "style": "IPY_MODEL_ea73e3f0f58447bf92a64eb15a93e458",
      "value": "100%"
     }
    },
    "d986803f467244d2a8046d9117f289cc": {
     "model_module": "@jupyter-widgets/controls",
     "model_module_version": "1.5.0",
     "model_name": "DescriptionStyleModel",
     "state": {
      "_model_module": "@jupyter-widgets/controls",
      "_model_module_version": "1.5.0",
      "_model_name": "DescriptionStyleModel",
      "_view_count": null,
      "_view_module": "@jupyter-widgets/base",
      "_view_module_version": "1.2.0",
      "_view_name": "StyleView",
      "description_width": ""
     }
    },
    "e04d92c60c724fd5bf25f36da7f30cb7": {
     "model_module": "@jupyter-widgets/controls",
     "model_module_version": "1.5.0",
     "model_name": "DescriptionStyleModel",
     "state": {
      "_model_module": "@jupyter-widgets/controls",
      "_model_module_version": "1.5.0",
      "_model_name": "DescriptionStyleModel",
      "_view_count": null,
      "_view_module": "@jupyter-widgets/base",
      "_view_module_version": "1.2.0",
      "_view_name": "StyleView",
      "description_width": ""
     }
    },
    "e364cbf5e3b54fa8807a1e206a1277a5": {
     "model_module": "@jupyter-widgets/base",
     "model_module_version": "1.2.0",
     "model_name": "LayoutModel",
     "state": {
      "_model_module": "@jupyter-widgets/base",
      "_model_module_version": "1.2.0",
      "_model_name": "LayoutModel",
      "_view_count": null,
      "_view_module": "@jupyter-widgets/base",
      "_view_module_version": "1.2.0",
      "_view_name": "LayoutView",
      "align_content": null,
      "align_items": null,
      "align_self": null,
      "border": null,
      "bottom": null,
      "display": null,
      "flex": null,
      "flex_flow": null,
      "grid_area": null,
      "grid_auto_columns": null,
      "grid_auto_flow": null,
      "grid_auto_rows": null,
      "grid_column": null,
      "grid_gap": null,
      "grid_row": null,
      "grid_template_areas": null,
      "grid_template_columns": null,
      "grid_template_rows": null,
      "height": null,
      "justify_content": null,
      "justify_items": null,
      "left": null,
      "margin": null,
      "max_height": null,
      "max_width": null,
      "min_height": null,
      "min_width": null,
      "object_fit": null,
      "object_position": null,
      "order": null,
      "overflow": null,
      "overflow_x": null,
      "overflow_y": null,
      "padding": null,
      "right": null,
      "top": null,
      "visibility": null,
      "width": null
     }
    },
    "e6634c8bf90c43d7b32f86e79d097dc0": {
     "model_module": "@jupyter-widgets/controls",
     "model_module_version": "1.5.0",
     "model_name": "HTMLModel",
     "state": {
      "_dom_classes": [],
      "_model_module": "@jupyter-widgets/controls",
      "_model_module_version": "1.5.0",
      "_model_name": "HTMLModel",
      "_view_count": null,
      "_view_module": "@jupyter-widgets/controls",
      "_view_module_version": "1.5.0",
      "_view_name": "HTMLView",
      "description": "",
      "description_tooltip": null,
      "layout": "IPY_MODEL_3fec1de8eb0145d98cc308ae9dd49304",
      "placeholder": "​",
      "style": "IPY_MODEL_e04d92c60c724fd5bf25f36da7f30cb7",
      "value": " 10809/10809 [00:59&lt;00:00, 168.20it/s]"
     }
    },
    "ea73e3f0f58447bf92a64eb15a93e458": {
     "model_module": "@jupyter-widgets/controls",
     "model_module_version": "1.5.0",
     "model_name": "DescriptionStyleModel",
     "state": {
      "_model_module": "@jupyter-widgets/controls",
      "_model_module_version": "1.5.0",
      "_model_name": "DescriptionStyleModel",
      "_view_count": null,
      "_view_module": "@jupyter-widgets/base",
      "_view_module_version": "1.2.0",
      "_view_name": "StyleView",
      "description_width": ""
     }
    },
    "f20bc1e7d8be4bf98620c0bac337be75": {
     "model_module": "@jupyter-widgets/controls",
     "model_module_version": "1.5.0",
     "model_name": "DescriptionStyleModel",
     "state": {
      "_model_module": "@jupyter-widgets/controls",
      "_model_module_version": "1.5.0",
      "_model_name": "DescriptionStyleModel",
      "_view_count": null,
      "_view_module": "@jupyter-widgets/base",
      "_view_module_version": "1.2.0",
      "_view_name": "StyleView",
      "description_width": ""
     }
    },
    "fded8d8fa335449191a50872ee801232": {
     "model_module": "@jupyter-widgets/controls",
     "model_module_version": "1.5.0",
     "model_name": "HBoxModel",
     "state": {
      "_dom_classes": [],
      "_model_module": "@jupyter-widgets/controls",
      "_model_module_version": "1.5.0",
      "_model_name": "HBoxModel",
      "_view_count": null,
      "_view_module": "@jupyter-widgets/controls",
      "_view_module_version": "1.5.0",
      "_view_name": "HBoxView",
      "box_style": "",
      "children": [
       "IPY_MODEL_8c7612d717ff4595958fa969ca84a27d",
       "IPY_MODEL_72fceb89acaa4224ac04eabf4321b720",
       "IPY_MODEL_e6634c8bf90c43d7b32f86e79d097dc0"
      ],
      "layout": "IPY_MODEL_25457874548442ed828a3361b62673e9"
     }
    }
   }
  }
 },
 "nbformat": 4,
 "nbformat_minor": 1
}
