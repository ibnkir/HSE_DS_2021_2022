{
 "cells": [
  {
   "cell_type": "markdown",
   "metadata": {},
   "source": [
    "## ВШЭ, ФКН, Программа \"Специалист по DS\"\n",
    "## Курс \"Прикладная статистика для ML\"\n",
    "### ДЗ №3: Доверительные интервалы, бутстрэп\n",
    
    "#### *Выполнил: Кирилл Н., 06.01.2022 г.*"
   ]
  },
  {
   "cell_type": "markdown",
   "metadata": {},
   "source": [
    "### Упражнение 1 (10 баллов).\n",
    "\n",
    "**1. Что такое доверительный интервал?**"
   ]
  },
  {
   "cell_type": "markdown",
   "metadata": {},
   "source": [
    "Это диапазон, с заданной надежностью покрывающий неизвестное значение некоторой характеристики исследуемой \n",
    "генеральной совокупности. Его границы вычисляются по имеющейся выборке.\n",
    "\n",
    "Строгое определение: пусть $\\bar{X}$ = ($X_1, ..., X_n$) - выборка объемом n из распределения $F_\\theta$ с параметром \n",
    "$\\theta\\in\\Theta\\subseteq R$ и $\\alpha\\in(0, 1)$. Интервал со случайными границами\n",
    "$$(\\hat{\\theta_1}(\\bar{X}, \\: \\alpha), \\: \\hat{\\theta_2}(\\bar{X}, \\: \\alpha))$$\n",
    "называется доверительным интервалом для параметра $\\theta$ уровня доверия 1-$\\alpha$, если для любого $\\theta\\in\\Theta$\n",
    "$$P(\\hat{\\theta_1} < \\theta < \\hat{\\theta_2}) \\geq 1-\\alpha.$$"
   ]
  },
  {
   "cell_type": "markdown",
   "metadata": {},
   "source": [
    "**2. Чем асимптотический доверительный интервал отличается от неасимптотического?**"
   ]
  },
  {
   "cell_type": "markdown",
   "metadata": {},
   "source": [
    "Если вероятность в левой части предыдущего неравенства в пределе не опускается ниже уровня доверия, то такой\n",
    "доверительный интервал называется асимптотическим.\n",
    "\n",
    "Строгое определение: пусть $\\bar{X}$ = ($X_1, ..., X_n$) - выборка объемом n из распределения $F_\\theta$ с параметром \n",
    "$\\theta\\in\\Theta\\subseteq R$ и $\\alpha\\in(0, 1)$. Интервалы со случайными границами\n",
    "$$(\\hat{\\theta_1}(\\bar{X}, \\: \\alpha, \\: n), \\: \\hat{\\theta_2}(\\bar{X}, \\: \\alpha, \\: n))$$\n",
    "называются асимптотическими доверительными интервалами для параметра $\\theta$ уровня доверия 1-$\\alpha$, если для любого $\\theta\\in\\Theta$\n",
    "$$\\lim_{n\\rightarrow+\\infty}inf P(\\hat{\\theta_1} < \\theta < \\hat{\\theta_2}) \\geq 1-\\alpha.$$"
   ]
  },
  {
   "cell_type": "markdown",
   "metadata": {},
   "source": [
    "**3. Что больше: квантиль стандартного нормального распределения уровня 0.05 или уровня 0.1? Почему?**"
   ]
  },
  {
   "cell_type": "markdown",
   "metadata": {},
   "source": [
    "Первая квантиль меньше, т.е. $c_{0.05} < c_{0.1}$, т.к. функция стандартного нормального распределения Ф(х) \n",
    "является строго возрастающей. Также это следует из самого определения доверительного интервала: \n",
    "т.е. чем выше уровень доверия, тем больше должна быть длина доверительного интервала, а значит и размер квантили."
   ]
  },
  {
   "cell_type": "markdown",
   "metadata": {},
   "source": [
    "**4. Пусть $X_1,\\:X_2,\\:X_3$ ~ N(0, 1). Какое распределение будет у $Z = \\frac{\\sqrt{2}X_1}{\\sqrt{X_2^2+X_3^2}}$ ?**"
   ]
  },
  {
   "cell_type": "markdown",
   "metadata": {},
   "source": [
    "Если дополнительно предположить, что случайные величины $X_1,\\:X_2\\:и\\:X_3$ являются еще и независимыми, \n",
    "то случайная величина Z будет иметь распределение Стьюдента с 2-мя степенями свободы $T_2$."
   ]
  },
  {
   "cell_type": "markdown",
   "metadata": {},
   "source": [
    "**5. Какие плюсы и недостатки есть у бутстрэпа? Как думаете, почему этот метод так популярен?**"
   ]
  },
  {
   "cell_type": "markdown",
   "metadata": {},
   "source": [
    "Плюсы:\n",
    "- Простота реализации;\n",
    "- Не нужно делать предположений о параметрах распределения \n",
    "(а также о типе распределения в случае непараметрического бутстрэпа);\n",
    "- Легко применять к сложным и громоздким моделям;\n",
    "- Можно использовать для широкого круга задач: корректировка смещений, тестирование гипотез, \n",
    "построение доверительных интервалов, оценивание различных статистических параметров, оценка точности моделей и др.\n",
    "\n",
    "Минусы:\n",
    "- Нельзя явно оценить погрешность, из-за чего можно внести значительное смещение;  \n",
    "- Предполагается независимость перевыборок, что малореалистично;\n",
    "- Многократное построение перевыборок требует значительных вычислительных затрат."
   ]
  },
  {
   "cell_type": "markdown",
   "metadata": {},
   "source": [
    "### Упражнение 2 (10 баллов).\n",
    "\n",
    "<h4>\n",
    "В этом упражнении мы обсудим правила 2-х и 3-х сигм для произвольной случайной величины. Пусть X имеет некоторое распределение\n",
    "с МО EX = a и конечной дисперсией Var(X) = $\\sigma^2 < \\infty$. С помощью неравенства Чебышёва покажите, с какой вероятностью\n",
    "эта случайная величина лежит в отрезках $[a-2\\sigma, a+2\\sigma]$ и $[a-3\\sigma, a+3\\sigma]$. Сравните полученные вероятности с \n",
    "соответствующими вероятностями для стандартного нормального распределения N(0,1). Какой вывод можно сделать?\n",
    "</h4>"
   ]
  },
  {
   "cell_type": "markdown",
   "metadata": {},
   "source": [
    "Запишем неравенство Чебышёва: для произвольной случайной величины Х и $\\forall$ t>0 \n",
    "$$P(|X-EX|>t)\\leq\\frac{Var(X)}{t^2} \\: =>$$\n",
    "$$=> \\: P(|X-EX|\\leq t) = 1-P(|X-EX|>t)\\geq 1-\\frac{Var(X)}{t^2}.$$\n",
    "    \n",
    "<ol>\n",
    "<li> Отрезок $[a-2\\sigma, a+2\\sigma]$:<br>\n",
    "- Для произвольной случайной величины X: $P(|X-a|\\leq 2\\sigma) \\geq 1-\\frac{\\sigma^2}{4\\sigma^2} = 0.75;$<br>\n",
    "- Для случайной величины $Y\\sim N(0,1)$: $P(|Y|\\leq 2) = Ф(2)-Ф(-2) \\approx 0.9544 \\geq 0.75.$\n",
    "</li>\n",
    "<br>\n",
    "<li> Отрезок $[a-3\\sigma, a+3\\sigma]$:<br>\n",
    "- Для произвольной случайной величины X: $P(|X-a|\\leq 3\\sigma) \\geq 1-\\frac{\\sigma^2}{9\\sigma^2} = \\frac{8}{9} \\approx 0.8889;$<br>\n",
    "- Для случайной величины $Y\\sim N(0,1)$: $P(|Y|\\leq 3) = Ф(3)-Ф(-3) \\approx 0.9974 \\geq 0.8889$.\n",
    "</li>\n",
    "</ol>\n",
    "Таким образом, вероятности для стандартной нормальной случайной величины полностью согласуются с нижними оценками,\n",
    "полученными для произвольной случайной величины из неравенства Чебышёва. Более высокие вероятности говорят о том,\n",
    "что у стандартных нормальных случайных величин большее количество значений попадает в указанные интервалы,\n",
    "т.е. они имеют более высокую концентрацию в этих диапазонах."
   ]
  },
  {
   "cell_type": "markdown",
   "metadata": {},
   "source": [
    "### Упражнение 3 (15 баллов).\n",
    "\n",
    "<h4>\n",
    "Пусть имеется реализация выборки $x_1, ..., x_n$ из равномерного распределения на [0, $\\theta$] с неизвестным параметром\n",
    "$\\theta > 0$ .\n",
    "\n",
    "<ol>\n",
    "<li> Постройте точный доверительный интервал для параметра $\\theta$ уровня доверия 1-$\\alpha$ с помощью статистики\n",
    "$\\hat{\\theta_1}$ = $x_{(n)}$ = max{$x_1, ..., x_n$}. Используйте тот факт, что распределение максимума из n независимых \n",
    "равномерно распределенных на отрезке [0,1] случайных величин имеет функцию распределения\n",
    "$$F(u)=\n",
    "\\begin{cases}\n",
    " 0, если\\ u<0 \\\\\n",
    " u^n, если\\ u \\in [0,1] \\\\\n",
    " 1, если\\ u>1\n",
    "\\end{cases}\n",
    "$$\n",
    "</li>\n",
    "    \n",
    "<li>\n",
    "Постройте асимптотически точный доверительный интервал для неизвестного параметра $\\theta$ уровня доверия 1-$\\alpha$,\n",
    "используя статистику $\\hat{\\theta_2}$ = 2$\\bar{x}$ = 2($x_1 + x_2 + ... + x_n$)/n.\n",
    "</li>\n",
    "</ol>\n",
    "</h4>"
   ]
  },
  {
   "cell_type": "markdown",
   "metadata": {},
   "source": [
    "1. Т.к. $x_1, ..., x_n \\sim U[0, \\theta]$, то $\\frac{x_1}{\\theta}, ..., \\frac{x_n}{\\theta} \\sim U[0, 1]$, \n",
    "и функция $G(X, \\theta) = max(\\frac{x_1}{\\theta}, ..., \\frac{x_n}{\\theta}) = \\frac{max(x_1, ..., x_n)}{\\theta} = \n",
    "\\frac{\\hat\\theta_1}{\\theta}\\sim F(u).$\n",
    "<br><br>\n",
    "Доверительный интервал для $G(X, \\theta)$ определяется из уравнения:\n",
    "$$P(c_1 < \\frac{\\hat\\theta_1}{\\theta} < c_2) = 1 - \\alpha \\: => $$\n",
    "$$=> \\: P(\\frac{\\hat\\theta_1}{c_2} < \\theta < \\frac{\\hat\\theta_1}{c_1}) = 1 - \\alpha. \\: (*)$$\n",
    "<br>\n",
    "Длина полученного доверительного интервала $L = \\frac{c_2-c_1}{c_1 c_2} \\hat\\theta_1$. Она уменьшается с ростом $с_1$ и $с_2$,\n",
    "а также с их сближением. Выберем квантили $с_1$ и $с_2$ таким образом, чтобы длина интервала была наименьшей. \n",
    "Плотность распределения $f(u) = n u^{n-1}$ монотонно возрастает, поэтому самые большие $с_1$ и $с_2$ при \n",
    "самом маленьком расстоянии между ними и при фиксированной площади $1 - \\alpha$ под графиком $f(u)$ возможны \n",
    "при $с_2=1$ и $с_1$ таком, что \n",
    "<br><br>\n",
    "$$P(c_1 < G(X,\\theta) < 1) = 1 - \\alpha = F(1) - F(c_1) = 1-c_1^{n} => c_1 = \\sqrt[n]{\\alpha}.$$\n",
    "<br>\n",
    "Подставив эти квантили в выражение (*), получим искомый доверительный интервал для $\\theta$:\n",
    "$(\\hat\\theta_1, \\: \\frac{\\hat\\theta_1}{\\sqrt[n]{\\alpha}}).$"
   ]
  },
  {
   "cell_type": "markdown",
   "metadata": {},
   "source": [
    "2. Соласно ЦПТ функция $$G(X,\\theta) = \\frac{n\\bar{X}-nE[X]}{\\sqrt{n Var(X)}} \\sim N(0,1).$$\n",
    "Поскольку $x_1, ..., x_n \\sim U[0, \\theta]$, то \n",
    "$$E[X] = \\frac{\\theta}{2}, \\: Var(X) = \\frac{\\theta^2}{12} \\: =>$$\n",
    "$$=> \\: G(X,\\theta) \\: = \\: \\sqrt{3n} \\: (\\frac{2\\bar{X}}{\\theta} - 1) \\: = \\: \\sqrt{3n} \\: (\\frac{\\hat\\theta_2}{\\theta} - 1).$$\n",
    "<br>\n",
    "Границы асимптотического доверительного интервала для $G(X,\\theta)$ определяются из выражения:\n",
    "$$P(a < G(X,\\theta) < b) \\rightarrow P(-c_{1-\\frac{\\alpha}{2}} < Z < c_{1-\\frac{\\alpha}{2}}) \\: при \\: n\\rightarrow \\infty,\n",
    "\\: где \\: Z \\sim N(0,1).$$\n",
    "Выразив $\\theta$ из $G(X,\\theta)$, получим асимптотический доверительный интервал для $\\theta$:\n",
    "$$(\\frac{\\hat\\theta_2}{1 + c_{1-\\frac{\\alpha}{2}} / \\sqrt{3n}}, \\:\n",
    "\\: \\frac{\\hat\\theta_2}{1 + c_{\\frac{\\alpha}{2}} / \\sqrt{3n}}).$$"
   ]
  },
  {
   "cell_type": "markdown",
   "metadata": {},
   "source": [
    "### Упражнение 4 (15 баллов).\n",
    "\n",
    "<h4>\n",
    "Пусть имеется реализация выборки $x_1, ..., x_n$ из равномерного распределения на [0, $\\theta$]. Допустим, мы оценили \n",
    "$\\theta$ с помощью 2$\\bar{x}$ = 2($x_1 + x_2 + ... + x_n$)/n. Затем мы генерируем новую выборку из равномерного распределения\n",
    "на [0, 2$\\bar{x}$] и оцениваем с ее помощью какую-то величину, которая нам интересна (то есть мы используем параметрический \n",
    "бутстрэп для оценки этой величины). Какую дисперсию будут иметь случайные величины из равномерного распределения на \n",
    "[0, 2$\\bar{x}$]? Сравните ее с дисперсией равномерного распределения на [0, $\\theta$]. Какой вывод можно сделать?\n",
    "</h4>"
   ]
  },
  {
   "cell_type": "markdown",
   "metadata": {},
   "source": [
    "Случайные величины $Y \\sim U(0, 2\\bar{x})$ можно представить в виде $Y = 2\\bar{x} U$, где $U \\sim U(0,1)$. \n",
    "<br><br>\n",
    "Тогда $$Var(Y) = Var(2\\bar{x} U) = 4 \\frac{\\theta^2}{12} \\frac{1}{12} = \\frac{\\theta^2}{36}.$$\n",
    "<br>\n",
    "Таким образом, на каждом шаге параметрического бутстрэпа мы будем получать выборку \n",
    "с меньшей дисперсией, чем у исходной случайной величины. Поэтому смещение, вносимое статистикой $\\hat{\\theta_2}$ = 2$\\bar{x},$ \n",
    "будет заведомо ограниченным, что позволяет лучше его контролировать и получать более точную оценку истинного значения $\\theta$."
   ]
  },
  {
   "cell_type": "markdown",
   "metadata": {},
   "source": [
    "### Упражнение 5 (25 баллов).\n",
    "\n",
    "<h4>\n",
    "Рассмотрим нормальное распределение N($\\theta$, $\\sigma^2$) с неизвестными параметрами $\\theta \\in R$ и $\\sigma^2$ > 0.\n",
    "В этой задаче мы численно сравним следующие доверительные интервалы для параметра $\\theta$: 1) теоретический, \n",
    "2) на основе параметрического бутстрэпа, 3) на основе непараметрического бутстрэпа. Для этого:\n",
    "    \n",
    "<ol>\n",
    "<li>   \n",
    "Сгенерируйте неизвестный параметр $\\theta$ из равномерного распределения на [10, 20] и $\\sigma^2$ из равномерного распределения\n",
    "на [1, 2];\n",
    "</li>\n",
    "<li>   \n",
    "Сгенерируйте выборку из нормального распределения N($\\theta$, $\\sigma^2$) размера n=50;\n",
    "</li>\n",
    "<li>   \n",
    "Постройте доверительные интервалы 1), 2), 3) уровня 1-$\\alpha$;\n",
    "</li>\n",
    "<li> \n",
    "Сравните длины полученных доверительных интервалов;\n",
    "</li>\n",
    "<li>   \n",
    "Проведите этот эксперимент на 10 000 выборках; с какой частотой $\\theta$ попадает в полученные доверительные интервалы?\n",
    "</li>\n",
    "</ol>\n",
    "</h6>"
   ]
  },
  {
   "cell_type": "code",
   "execution_count": 60,
   "metadata": {},
   "outputs": [],
   "source": [
    "import numpy as np \n",
    "from scipy import stats"
   ]
  },
  {
   "cell_type": "code",
   "execution_count": 61,
   "metadata": {},
   "outputs": [],
   "source": [
    "np.random.seed(1) \n",
    "theta = np.random.uniform(10,20) \n",
    "\n",
    "np.random.seed(2) \n",
    "sigma = np.random.uniform(1,2)\n",
    "\n",
    "n = 50\n",
    "alpha = 0.05\n",
    "sample = np.random.normal(theta, sigma, size=n)"
   ]
  },
  {
   "cell_type": "markdown",
   "metadata": {},
   "source": [
    "Теоретический доверительный интервал вычисляется следующим образом: \n",
    "\n",
    "$$\n",
    "\\mathbb{P}\\left( \\bar{X} - \\frac{c_{1-\\alpha/2}\\sigma}{\\sqrt{n}} < \\mu < \\bar{X} + \\frac{c_{1-\\alpha/2}\\sigma}{\\sqrt{n}} \\right) = 1-\\alpha,\n",
    "$$\n",
    "где $c_{\\alpha}$ — квантиль распределения $\\mathcal{N}(0,1)$ уровня $\\alpha$."
   ]
  },
  {
   "cell_type": "code",
   "execution_count": 62,
   "metadata": {},
   "outputs": [
    {
     "name": "stdout",
     "output_type": "stream",
     "text": [
      "Теоретический доверительный интервал: [13.271899522648358, 14.067959853298454]\n",
      "Длина теоретического доверительного интервала: 0.796\n"
     ]
    }
   ],
   "source": [
    "# Теоретический доверительный интервал\n",
    "CI_Theoretical = \\\n",
    "[np.mean(sample) - stats.norm.ppf(1-alpha/2)*sigma/np.sqrt(n), np.mean(sample) + stats.norm.ppf(1-alpha/2)*sigma/np.sqrt(n)]\n",
    "\n",
    "print(\"Теоретический доверительный интервал:\", CI_Theoretical)\n",
    "print(\"Длина теоретического доверительного интервала: {:.3f}\".format(CI_Theoretical[1]-CI_Theoretical[0]))"
   ]
  },
  {
   "cell_type": "code",
   "execution_count": 63,
   "metadata": {},
   "outputs": [
    {
     "name": "stdout",
     "output_type": "stream",
     "text": [
      "Доверительный интервал на основе параметрического бутстрэпа: [12.985146185225377, 13.97197794491195]\n",
      "Длина доверительного интервала на основе параметрического бутстрэпа: 0.987\n"
     ]
    }
   ],
   "source": [
    "# Параметрический бутстрэп\n",
    "number_of_bootstrap_samples = 10 # количество бутстрэп-выборок\n",
    "size_of_bootstrap_samples = 20 # размер бутстрэп-выборок\n",
    "\n",
    "# Оцениваем неизвестный параметр theta \n",
    "sample_mean = np.mean(sample) \n",
    "\n",
    "# Генерируем выборку из распределения N(sample_mean, sigma)\n",
    "bootstrap_samples = np.random.normal(sample_mean,sigma,size=[number_of_bootstrap_samples,size_of_bootstrap_samples]) \n",
    "\n",
    "# Считаем среднее для каждой выборки \n",
    "bootstrap_estimates = np.apply_along_axis(np.mean, 1, bootstrap_samples)\n",
    "\n",
    "# Вычисляем доверительный интервал на основе параметрического бутстрэпа\n",
    "CI_Bootstrap_Parametric = [np.quantile(bootstrap_estimates,alpha/2), np.quantile(bootstrap_estimates,1-alpha/2)]\n",
    "\n",
    "print(\"Доверительный интервал на основе параметрического бутстрэпа:\", CI_Bootstrap_Parametric)\n",
    "print(\"Длина доверительного интервала на основе параметрического бутстрэпа: {:.3f}\".\\\n",
    "      format(CI_Bootstrap_Parametric[1]-CI_Bootstrap_Parametric[0]))"
   ]
  },
  {
   "cell_type": "code",
   "execution_count": 64,
   "metadata": {},
   "outputs": [
    {
     "name": "stdout",
     "output_type": "stream",
     "text": [
      "Доверительный интервал на основе непараметрического бутстрэпа: [13.28943045910476, 14.002927526300917]\n",
      "Длина доверительного интервала на основе непараметрического бутстрэпа: 0.713\n"
     ]
    }
   ],
   "source": [
    "# Непараметрический бутстрэп\n",
    "number_of_bootstrap_samples = 10 # количество бутстрэп-выборок\n",
    "size_of_bootstrap_samples = 20 # размер бутстрэп-выборок\n",
    "\n",
    "# Генерируем выборку из распределения N(bootstrap_mean, sigma)\n",
    "bootstrap_samples = np.random.choice(sample,size=[number_of_bootstrap_samples,size_of_bootstrap_samples]) \n",
    "\n",
    "# Считаем среднее для каждой выборки \n",
    "bootstrap_estimates = np.apply_along_axis(np.mean, 1, bootstrap_samples)\n",
    "\n",
    "# Вычисляем доверительный интервал на основе непараметрического бутстрэпа\n",
    "CI_Bootstrap_Nonparametric = [np.quantile(bootstrap_estimates,alpha/2), np.quantile(bootstrap_estimates,1-alpha/2)]\n",
    "\n",
    "print(\"Доверительный интервал на основе непараметрического бутстрэпа:\", CI_Bootstrap_Nonparametric)\n",
    "print(\"Длина доверительного интервала на основе непараметрического бутстрэпа: {:.3f}\".\\\n",
    "      format(CI_Bootstrap_Nonparametric[1]-CI_Bootstrap_Nonparametric[0]))"
   ]
  },
  {
   "cell_type": "markdown",
   "metadata": {},
   "source": [
    "<span style=\"color:blue\">\n",
    "Вывод: в данном случае длина доверительного интервала на основе непараметрического бутстрэпа оказалась наименьшей. \n",
    "</span>"
   ]
  },
  {
   "cell_type": "code",
   "execution_count": 65,
   "metadata": {},
   "outputs": [],
   "source": [
    "N_samples = 10000 # количество экспериментов по вычислению доверительных интервалов\n",
    "\n",
    "theoretical = np.zeros(N_samples) # для хранения результатов на основе теоретического метода\n",
    "parametric_bootstrap = np.zeros(N_samples) # для хранения результатов на основе параметрического бутстрэпа \n",
    "nonparametric_bootstrap = np.zeros(N_samples) # для хранения результатов на основе непараметрического бутстрэпа "
   ]
  },
  {
   "cell_type": "code",
   "execution_count": 66,
   "metadata": {},
   "outputs": [],
   "source": [
    "# Вычисление теоретического доверительного интервала\n",
    "def calc_theoretical(sample,alpha):\n",
    "    n = len(sample)\n",
    "    mean = np.mean(sample)\n",
    "    return [mean - stats.norm.ppf(1-alpha/2)*sigma/np.sqrt(n), mean + stats.norm.ppf(1-alpha/2)*sigma/np.sqrt(n)]"
   ]
  },
  {
   "cell_type": "code",
   "execution_count": 67,
   "metadata": {},
   "outputs": [],
   "source": [
    "# Вычисление доверительного интервала на основе параметрического бутстрэпа\n",
    "def calc_parametric_bootstrap(sample,alpha,number_of_bootstrap_samples,size_of_bootstrap_samples):\n",
    "    n = len(sample)\n",
    "    mean = np.mean(sample)\n",
    "    bootstrap_samples = np.random.normal(mean,sigma,size=[number_of_bootstrap_samples,size_of_bootstrap_samples]) \n",
    "    bootstrap_estimates = np.apply_along_axis(np.mean, 1, bootstrap_samples)\n",
    "    return [np.quantile(bootstrap_estimates,alpha/2), np.quantile(bootstrap_estimates,1-alpha/2)]"
   ]
  },
  {
   "cell_type": "code",
   "execution_count": 68,
   "metadata": {},
   "outputs": [],
   "source": [
    "# Вычисление доверительного интервала на основе непараметрического бутстрэпа\n",
    "def calc_nonparametric_bootstrap(sample,alpha,number_of_bootstrap_samples,size_of_bootstrap_samples):\n",
    "    bootstrap_samples = np.random.choice(sample,size=[number_of_bootstrap_samples,size_of_bootstrap_samples]) \n",
    "    bootstrap_estimates = np.apply_along_axis(np.mean, 1, bootstrap_samples)\n",
    "    return [np.quantile(bootstrap_estimates,alpha/2), np.quantile(bootstrap_estimates,1-alpha/2)]"
   ]
  },
  {
   "cell_type": "code",
   "execution_count": 69,
   "metadata": {},
   "outputs": [],
   "source": [
    "# Проводим N_samples экспериментов\n",
    "for i in range(N_samples):\n",
    "    sample = np.random.normal(theta, sigma, size=n)\n",
    "    \n",
    "    # Теоретические доверительные интервалы\n",
    "    CI_Theoretical = calc_theoretical(sample,alpha)\n",
    "    theoretical[i] = (theta >= CI_Theoretical[0]) and (theta <= CI_Theoretical[1])\n",
    "    \n",
    "    # Доверительные интервалы на основе параметрического бутстрэпа\n",
    "    CI_parametric_bootstrap = calc_parametric_bootstrap(sample,alpha,number_of_bootstrap_samples,size_of_bootstrap_samples)\n",
    "    parametric_bootstrap[i] = (theta >= CI_parametric_bootstrap[0]) and (theta <= CI_parametric_bootstrap[1])\n",
    "    \n",
    "    # Доверительные интервалы на основе непараметрического бутстрэпа\n",
    "    CI_nonparametric_bootstrap = calc_nonparametric_bootstrap(sample,alpha,number_of_bootstrap_samples,size_of_bootstrap_samples)\n",
    "    nonparametric_bootstrap[i] = (theta >= CI_nonparametric_bootstrap[0]) and (theta <= CI_nonparametric_bootstrap[1])"
   ]
  },
  {
   "cell_type": "code",
   "execution_count": 70,
   "metadata": {},
   "outputs": [
    {
     "name": "stdout",
     "output_type": "stream",
     "text": [
      "Частота попаданий истинного параметра в доверительные интервалы:\n",
      "- для теоретического доверительного интервала:  0.9516\n",
      "- для доверительного интервала на основе параметрического бутстрэпа:  0.9187\n",
      "- для доверительного интервала на основе непараметрического бутстрэпа:  0.9118\n"
     ]
    }
   ],
   "source": [
    "print(\"Частота попаданий истинного параметра в доверительные интервалы:\")\n",
    "print(\"- для теоретического доверительного интервала: \", np.mean(theoretical))\n",
    "print(\"- для доверительного интервала на основе параметрического бутстрэпа: \", np.mean(parametric_bootstrap))\n",
    "print(\"- для доверительного интервала на основе непараметрического бутстрэпа: \", np.mean(nonparametric_bootstrap))"
   ]
  },
  {
   "cell_type": "markdown",
   "metadata": {},
   "source": [
    "### Упражнение 6 (25 баллов).\n",
    "\n",
    "<h4>\n",
    "В файле Banner_small.npy даны 2 выборки из распределения Бернулли. Они соответствуют кликам по 2-м рекламным баннерам в \n",
    "Интернете. Постройте доверительные интервалы для частоты кликов (т.е. параметр \"успеха\"). Какой из изученных вариантов \n",
    "доверительных интервалов лучше применять в этой задаче? Как думаете, можно ли сказать, что один из баннеров лучше, чем другой? \n",
    "Если да, то с какой вероятностью? Проверьте свой вывод на выборке бОльшего размера, которая записана в файле Banner_large.npy.\n",
    "<h/4>"
   ]
  },
  {
   "cell_type": "code",
   "execution_count": 71,
   "metadata": {},
   "outputs": [],
   "source": [
    "import numpy as np # для генерации случайных величин и работы с массивами\n",
    "import statsmodels.stats.proportion # для построения доверительных интервалов в модели Бернулли \n",
    "import scipy"
   ]
  },
  {
   "cell_type": "markdown",
   "metadata": {},
   "source": [
    "<span style=\"color:blue\">\n",
    "Вывод: поскольку в задаче не говорится, что баннеры демонстрируются одной и той же группе людей,\n",
    "то будем считать эти 2 выборки независимыми. Для оценки частоты кликов применим ЦПТ для \n",
    "бернуллиевских случайных величин и уточнение по методу Уилсона. \n",
    "Для сравнения выборок между собой построим такие же доверительные интервалы, но для их разности.\n",
    "</span>"
   ]
  },
  {
   "cell_type": "code",
   "execution_count": 72,
   "metadata": {},
   "outputs": [],
   "source": [
    "data_small = np.load('./HW_conf_int_data/Banner_small.npy')"
   ]
  },
  {
   "cell_type": "code",
   "execution_count": 73,
   "metadata": {},
   "outputs": [
    {
     "name": "stdout",
     "output_type": "stream",
     "text": [
      "Доверительные интервалы для 0-й выборки в Banner_small:\n",
      "- Асимптотический доверительный интервал на основе ЦПТ:  (0.0, 0.005916006079184627)\n",
      "- Доверительный интервал Уилсона:  (0.00035313639455927543, 0.01124070670514676)\n"
     ]
    }
   ],
   "source": [
    "# Доверительные интервалы для 0-й выборки в Banner_small\n",
    "print(\"Доверительные интервалы для 0-й выборки в Banner_small:\")\n",
    "\n",
    "CI_Normal_s0 = statsmodels.stats.proportion.proportion_confint(sum(data_small[0]), len(data_small[0]), alpha, method = 'normal')\n",
    "print(\"- Асимптотический доверительный интервал на основе ЦПТ: \", CI_Normal_s0)\n",
    "\n",
    "CI_Wilson_s0 = statsmodels.stats.proportion.proportion_confint(sum(data_small[0]), len(data_small[0]), alpha, method = 'wilson')\n",
    "print(\"- Доверительный интервал Уилсона: \", CI_Wilson_s0)"
   ]
  },
  {
   "cell_type": "code",
   "execution_count": 74,
   "metadata": {},
   "outputs": [
    {
     "name": "stdout",
     "output_type": "stream",
     "text": [
      "Доверительные интервалы для 1-й выборки в Banner_small:\n",
      "- Асимптотический доверительный интервал на основе ЦПТ:  (0.0, 0.012769115216425226)\n",
      "- Доверительный интервал Уилсона:  (0.002042596271960238, 0.017490252104053382)\n"
     ]
    }
   ],
   "source": [
    "# Доверительные интервалы для 1-й выборки в Banner_small\n",
    "print(\"Доверительные интервалы для 1-й выборки в Banner_small:\")\n",
    "\n",
    "CI_Normal_s1 = statsmodels.stats.proportion.proportion_confint(sum(data_small[1]), len(data_small[1]), alpha, method = 'normal')\n",
    "print(\"- Асимптотический доверительный интервал на основе ЦПТ: \", CI_Normal_s1)\n",
    "\n",
    "CI_Wilson_s1 = statsmodels.stats.proportion.proportion_confint(sum(data_small[1]), len(data_small[1]), alpha, method = 'wilson')\n",
    "print(\"- Доверительный интервал Уилсона: \", CI_Wilson_s1)"
   ]
  },
  {
   "cell_type": "markdown",
   "metadata": {},
   "source": [
    "<span style=\"color:blue\">\n",
    "Вывод: у 2-го баннера доверительный интервал шире, но чтобы сделать окончательный вывод, надо проверить интервал \n",
    "для разности долей сначала на малом, а потом и на большом объеме данных.\n",
    "</span>"
   ]
  },
  {
   "cell_type": "code",
   "execution_count": 75,
   "metadata": {},
   "outputs": [],
   "source": [
    "# Доверительный интервал для разности долей\n",
    "def calc_difference_in_proportions(sample1, sample2, alpha=0.05):    \n",
    "    z = scipy.stats.norm.ppf(1 - alpha / 2.)   \n",
    "    n1 = len(sample1)\n",
    "    n2 = len(sample2)\n",
    "    p1 = float(sum(sample1)) / n1\n",
    "    p2 = float(sum(sample2)) / n2\n",
    "    \n",
    "    l = (p1 - p2) - z * np.sqrt(p1 * (1 - p1)/ n1 + p2 * (1 - p2)/ n2)\n",
    "    r = (p1 - p2) + z * np.sqrt(p1 * (1 - p1)/ n1 + p2 * (1 - p2)/ n2)\n",
    "    \n",
    "    return (l, r)"
   ]
  },
  {
   "cell_type": "code",
   "execution_count": 76,
   "metadata": {},
   "outputs": [
    {
     "name": "stdout",
     "output_type": "stream",
     "text": [
      "Интервал для разности долей в Banner_small: (-0.011820231737324058, 0.003820231737324058)\n"
     ]
    }
   ],
   "source": [
    "print(\"Интервал для разности долей в Banner_small:\", calc_difference_in_proportions(data_small[0], data_small[1]))"
   ]
  },
  {
   "cell_type": "markdown",
   "metadata": {},
   "source": [
    "<span style=\"color:blue\">\n",
    "Вывод: на малом объеме данных (Banner_small) интервал пересекает ноль, \n",
    "поэтому на уровне доверия 95% разность долей статистически не значима.\n",
    "</span>"
   ]
  },
  {
   "cell_type": "code",
   "execution_count": 77,
   "metadata": {},
   "outputs": [
    {
     "name": "stdout",
     "output_type": "stream",
     "text": [
      "Интервал для разности долей в Banner_large: (-0.0016546512798984222, -0.00030534872010157764)\n"
     ]
    }
   ],
   "source": [
    "data_large = np.load('./HW_conf_int_data/Banner_large.npy')\n",
    "\n",
    "print(\"Интервал для разности долей в Banner_large:\", calc_difference_in_proportions(data_large[0], data_large[1]))"
   ]
  },
  {
   "cell_type": "markdown",
   "metadata": {},
   "source": [
    "<span style=\"color:blue\">\n",
    "Вывод: на большом объеме данных (Banner_large) интервал не пересекает ноль, \n",
    "поэтому на уровне доверия 95% разность долей статистически значима, \n",
    "т.е. второй баннер действительно генерирует больше кликов.\n",
    "Выборки большего объема дают более достоверные результаты, \n",
    "поэтому последний вывод принимаем за окончательный. \n",
    "</span>"
   ]
  }
 ],
 "metadata": {
  "kernelspec": {
   "display_name": "Python 3",
   "language": "python",
   "name": "python3"
  },
  "language_info": {
   "codemirror_mode": {
    "name": "ipython",
    "version": 3
   },
   "file_extension": ".py",
   "mimetype": "text/x-python",
   "name": "python",
   "nbconvert_exporter": "python",
   "pygments_lexer": "ipython3",
   "version": "3.8.5"
  }
 },
 "nbformat": 4,
 "nbformat_minor": 2
}
