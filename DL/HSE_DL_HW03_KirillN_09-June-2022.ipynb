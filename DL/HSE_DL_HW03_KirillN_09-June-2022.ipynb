{
 "cells": [
  {
   "cell_type": "markdown",
   "metadata": {
    "id": "29lluO49LPvW"
   },
   "source": [
    "[![Open In Colab](https://colab.research.google.com/assets/colab-badge.svg)](https://github.com/NktBkzn/HSE_DL_2021/blob/master/12_week/Weather_forecast_RNN.ipynb)"
   ]
  },
  {
   "cell_type": "markdown",
   "metadata": {
    "id": "iwMKuwx6HjSn"
   },
   "source": [
    "## **ВШЭ, ФКН, Программа \"Специалист по DS\" (2021/2022)**\n",
    "## **Курс \"Deep Learning\**\n",
    "### **ДЗ №3: Прогнозирование температуры с помощью RNN**\n",
    "#### ***Выполнил: Кирилл Н., 09.06.2022 г.***"
   ]
  },
  {
   "cell_type": "markdown",
   "metadata": {
    "id": "zHiz5Yj4A3lA"
   },
   "source": [
    "__Задание:__\n",
    "\n",
    "В задании используется набор временных рядов с данными о погоде, записанными на метеостанции в Институте биогеохимии им. Макса Планка в Йене, Германия: http://www.bgc-jena.mpg.de/wetter/.\n",
    "\n",
    "В данном наборе записано четырнадцать различных величин (таких как температура воздуха, атмосферное давление, влажность, направление ветра и т.д.) с измерениями через каждые десять минут в течение нескольких лет, начиная с 2003 г., из которых мы возьмем только 2009-2016 гг. Этот набор идеально подходит для обучения работе с числовыми временными рядами. Мы будем использовать его для построения модели, которая принимает некоторые данные из недавнего прошлого (несколько дней) и прогнозирует температуру воздуха на 24 часа в будущем."
   ]
  },
  {
   "cell_type": "code",
   "execution_count": 1,
   "metadata": {
    "colab": {
     "base_uri": "https://localhost:8080/"
    },
    "executionInfo": {
     "elapsed": 21964,
     "status": "ok",
     "timestamp": 1654745560623,
     "user": {
      "displayName": "Kirill N.",
      "userId": "16481738826806641256"
     },
     "user_tz": -180
    },
    "id": "H0hHq4ctBvOI",
    "outputId": "b07fea49-beea-4e93-a4f6-4379306e3478"
   },
   "outputs": [
    {
     "name": "stdout",
     "output_type": "stream",
     "text": [
      "Mounted at /content/gdrive\n"
     ]
    }
   ],
   "source": [
    "from pathlib import Path\n",
    "import sys\n",
    "\n",
    "try:\n",
    "    import google.colab\n",
    "    IN_COLAB = True\n",
    "    \n",
    "except ImportError:\n",
    "    IN_COLAB = False\n",
    "\n",
    "if IN_COLAB:\n",
    "    google.colab.drive.mount(\"/content/gdrive\")\n",
    "    ROOT = Path(\"/content/gdrive/My Drive/\")\n",
    "    assert ROOT.is_dir(), \"Wrong path\"\n",
    "    sys.path.append(str(ROOT))\n",
    "    \n",
    "else:\n",
    "    ROOT = Path(\".\")"
   ]
  },
  {
   "cell_type": "markdown",
   "metadata": {
    "id": "J5YfRVZ8hPm6"
   },
   "source": [
    "Посмотрим на данные."
   ]
  },
  {
   "cell_type": "code",
   "execution_count": 2,
   "metadata": {
    "colab": {
     "base_uri": "https://localhost:8080/"
    },
    "executionInfo": {
     "elapsed": 914,
     "status": "ok",
     "timestamp": 1654745568939,
     "user": {
      "displayName": "Kirill N.",
      "userId": "16481738826806641256"
     },
     "user_tz": -180
    },
    "id": "KGPFQxMBHjSr",
    "outputId": "cdbcbad6-26b0-48e0-d4be-45ce8010a941"
   },
   "outputs": [
    {
     "name": "stdout",
     "output_type": "stream",
     "text": [
      "['\"Date Time\"', '\"p (mbar)\"', '\"T (degC)\"', '\"Tpot (K)\"', '\"Tdew (degC)\"', '\"rh (%)\"', '\"VPmax (mbar)\"', '\"VPact (mbar)\"', '\"VPdef (mbar)\"', '\"sh (g/kg)\"', '\"H2OC (mmol/mol)\"', '\"rho (g/m**3)\"', '\"wv (m/s)\"', '\"max. wv (m/s)\"', '\"wd (deg)\"']\n",
      "420551\n"
     ]
    }
   ],
   "source": [
    "import os\n",
    "\n",
    "fname = f'{ROOT}/hw_data/jena_climate_2009_2016.csv'\n",
    "\n",
    "f = open(fname)\n",
    "data = f.read()\n",
    "f.close()\n",
    "\n",
    "lines = data.split('\\n')\n",
    "header = lines[0].split(',')\n",
    "lines = lines[1:]\n",
    "\n",
    "print(header)\n",
    "print(len(lines))"
   ]
  },
  {
   "cell_type": "code",
   "execution_count": 3,
   "metadata": {
    "colab": {
     "base_uri": "https://localhost:8080/",
     "height": 228
    },
    "executionInfo": {
     "elapsed": 1992,
     "status": "ok",
     "timestamp": 1654745572909,
     "user": {
      "displayName": "Kirill N.",
      "userId": "16481738826806641256"
     },
     "user_tz": -180
    },
    "id": "U6o3XyoNMf2E",
    "outputId": "a77620e7-48ee-45bf-d599-d1c943ca0024"
   },
   "outputs": [
    {
     "data": {
      "text/html": [
       "\n",
       "  <div id=\"df-e71efac8-4e3a-456c-9dae-103753d65409\">\n",
       "    <div class=\"colab-df-container\">\n",
       "      <div>\n",
       "<style scoped>\n",
       "    .dataframe tbody tr th:only-of-type {\n",
       "        vertical-align: middle;\n",
       "    }\n",
       "\n",
       "    .dataframe tbody tr th {\n",
       "        vertical-align: top;\n",
       "    }\n",
       "\n",
       "    .dataframe thead th {\n",
       "        text-align: right;\n",
       "    }\n",
       "</style>\n",
       "<table border=\"1\" class=\"dataframe\">\n",
       "  <thead>\n",
       "    <tr style=\"text-align: right;\">\n",
       "      <th></th>\n",
       "      <th>p (mbar)</th>\n",
       "      <th>T (degC)</th>\n",
       "      <th>Tpot (K)</th>\n",
       "      <th>Tdew (degC)</th>\n",
       "      <th>rh (%)</th>\n",
       "      <th>VPmax (mbar)</th>\n",
       "      <th>VPact (mbar)</th>\n",
       "      <th>VPdef (mbar)</th>\n",
       "      <th>sh (g/kg)</th>\n",
       "      <th>H2OC (mmol/mol)</th>\n",
       "      <th>rho (g/m**3)</th>\n",
       "      <th>wv (m/s)</th>\n",
       "      <th>max. wv (m/s)</th>\n",
       "      <th>wd (deg)</th>\n",
       "    </tr>\n",
       "    <tr>\n",
       "      <th>Date Time</th>\n",
       "      <th></th>\n",
       "      <th></th>\n",
       "      <th></th>\n",
       "      <th></th>\n",
       "      <th></th>\n",
       "      <th></th>\n",
       "      <th></th>\n",
       "      <th></th>\n",
       "      <th></th>\n",
       "      <th></th>\n",
       "      <th></th>\n",
       "      <th></th>\n",
       "      <th></th>\n",
       "      <th></th>\n",
       "    </tr>\n",
       "  </thead>\n",
       "  <tbody>\n",
       "    <tr>\n",
       "      <th>01.01.2009 00:10:00</th>\n",
       "      <td>996.52</td>\n",
       "      <td>-8.02</td>\n",
       "      <td>265.4</td>\n",
       "      <td>-8.9</td>\n",
       "      <td>93.3</td>\n",
       "      <td>3.33</td>\n",
       "      <td>3.11</td>\n",
       "      <td>0.22</td>\n",
       "      <td>1.94</td>\n",
       "      <td>3.12</td>\n",
       "      <td>1307.75</td>\n",
       "      <td>1.03</td>\n",
       "      <td>1.75</td>\n",
       "      <td>152.3</td>\n",
       "    </tr>\n",
       "  </tbody>\n",
       "</table>\n",
       "</div>\n",
       "      <button class=\"colab-df-convert\" onclick=\"convertToInteractive('df-e71efac8-4e3a-456c-9dae-103753d65409')\"\n",
       "              title=\"Convert this dataframe to an interactive table.\"\n",
       "              style=\"display:none;\">\n",
       "        \n",
       "  <svg xmlns=\"http://www.w3.org/2000/svg\" height=\"24px\"viewBox=\"0 0 24 24\"\n",
       "       width=\"24px\">\n",
       "    <path d=\"M0 0h24v24H0V0z\" fill=\"none\"/>\n",
       "    <path d=\"M18.56 5.44l.94 2.06.94-2.06 2.06-.94-2.06-.94-.94-2.06-.94 2.06-2.06.94zm-11 1L8.5 8.5l.94-2.06 2.06-.94-2.06-.94L8.5 2.5l-.94 2.06-2.06.94zm10 10l.94 2.06.94-2.06 2.06-.94-2.06-.94-.94-2.06-.94 2.06-2.06.94z\"/><path d=\"M17.41 7.96l-1.37-1.37c-.4-.4-.92-.59-1.43-.59-.52 0-1.04.2-1.43.59L10.3 9.45l-7.72 7.72c-.78.78-.78 2.05 0 2.83L4 21.41c.39.39.9.59 1.41.59.51 0 1.02-.2 1.41-.59l7.78-7.78 2.81-2.81c.8-.78.8-2.07 0-2.86zM5.41 20L4 18.59l7.72-7.72 1.47 1.35L5.41 20z\"/>\n",
       "  </svg>\n",
       "      </button>\n",
       "      \n",
       "  <style>\n",
       "    .colab-df-container {\n",
       "      display:flex;\n",
       "      flex-wrap:wrap;\n",
       "      gap: 12px;\n",
       "    }\n",
       "\n",
       "    .colab-df-convert {\n",
       "      background-color: #E8F0FE;\n",
       "      border: none;\n",
       "      border-radius: 50%;\n",
       "      cursor: pointer;\n",
       "      display: none;\n",
       "      fill: #1967D2;\n",
       "      height: 32px;\n",
       "      padding: 0 0 0 0;\n",
       "      width: 32px;\n",
       "    }\n",
       "\n",
       "    .colab-df-convert:hover {\n",
       "      background-color: #E2EBFA;\n",
       "      box-shadow: 0px 1px 2px rgba(60, 64, 67, 0.3), 0px 1px 3px 1px rgba(60, 64, 67, 0.15);\n",
       "      fill: #174EA6;\n",
       "    }\n",
       "\n",
       "    [theme=dark] .colab-df-convert {\n",
       "      background-color: #3B4455;\n",
       "      fill: #D2E3FC;\n",
       "    }\n",
       "\n",
       "    [theme=dark] .colab-df-convert:hover {\n",
       "      background-color: #434B5C;\n",
       "      box-shadow: 0px 1px 3px 1px rgba(0, 0, 0, 0.15);\n",
       "      filter: drop-shadow(0px 1px 2px rgba(0, 0, 0, 0.3));\n",
       "      fill: #FFFFFF;\n",
       "    }\n",
       "  </style>\n",
       "\n",
       "      <script>\n",
       "        const buttonEl =\n",
       "          document.querySelector('#df-e71efac8-4e3a-456c-9dae-103753d65409 button.colab-df-convert');\n",
       "        buttonEl.style.display =\n",
       "          google.colab.kernel.accessAllowed ? 'block' : 'none';\n",
       "\n",
       "        async function convertToInteractive(key) {\n",
       "          const element = document.querySelector('#df-e71efac8-4e3a-456c-9dae-103753d65409');\n",
       "          const dataTable =\n",
       "            await google.colab.kernel.invokeFunction('convertToInteractive',\n",
       "                                                     [key], {});\n",
       "          if (!dataTable) return;\n",
       "\n",
       "          const docLinkHtml = 'Like what you see? Visit the ' +\n",
       "            '<a target=\"_blank\" href=https://colab.research.google.com/notebooks/data_table.ipynb>data table notebook</a>'\n",
       "            + ' to learn more about interactive tables.';\n",
       "          element.innerHTML = '';\n",
       "          dataTable['output_type'] = 'display_data';\n",
       "          await google.colab.output.renderOutput(dataTable, element);\n",
       "          const docLink = document.createElement('div');\n",
       "          docLink.innerHTML = docLinkHtml;\n",
       "          element.appendChild(docLink);\n",
       "        }\n",
       "      </script>\n",
       "    </div>\n",
       "  </div>\n",
       "  "
      ],
      "text/plain": [
       "                     p (mbar)  T (degC)  Tpot (K)  Tdew (degC)  rh (%)  \\\n",
       "Date Time                                                                \n",
       "01.01.2009 00:10:00    996.52     -8.02     265.4         -8.9    93.3   \n",
       "\n",
       "                     VPmax (mbar)  VPact (mbar)  VPdef (mbar)  sh (g/kg)  \\\n",
       "Date Time                                                                  \n",
       "01.01.2009 00:10:00          3.33          3.11          0.22       1.94   \n",
       "\n",
       "                     H2OC (mmol/mol)  rho (g/m**3)  wv (m/s)  max. wv (m/s)  \\\n",
       "Date Time                                                                     \n",
       "01.01.2009 00:10:00             3.12       1307.75      1.03           1.75   \n",
       "\n",
       "                     wd (deg)  \n",
       "Date Time                      \n",
       "01.01.2009 00:10:00     152.3  "
      ]
     },
     "execution_count": 3,
     "metadata": {},
     "output_type": "execute_result"
    }
   ],
   "source": [
    "import pandas as pd\n",
    "\n",
    "tmp = pd.read_csv(fname, index_col=\"Date Time\")\n",
    "tmp.head(1)"
   ]
  },
  {
   "cell_type": "markdown",
   "metadata": {
    "id": "N3mmqXitCbTa"
   },
   "source": [
    "Переведем все в numpy array."
   ]
  },
  {
   "cell_type": "code",
   "execution_count": 4,
   "metadata": {
    "executionInfo": {
     "elapsed": 4545,
     "status": "ok",
     "timestamp": 1654745580959,
     "user": {
      "displayName": "Kirill N.",
      "userId": "16481738826806641256"
     },
     "user_tz": -180
    },
    "id": "8nyG1tcuHjSu"
   },
   "outputs": [],
   "source": [
    "import numpy as np\n",
    "\n",
    "float_data = np.zeros((len(lines), len(header) - 1))\n",
    "for i, line in enumerate(lines):\n",
    "    values = [float(x) for x in line.split(',')[1:]]\n",
    "    float_data[i, :] = values"
   ]
  },
  {
   "cell_type": "code",
   "execution_count": 5,
   "metadata": {
    "colab": {
     "base_uri": "https://localhost:8080/"
    },
    "executionInfo": {
     "elapsed": 281,
     "status": "ok",
     "timestamp": 1654745584888,
     "user": {
      "displayName": "Kirill N.",
      "userId": "16481738826806641256"
     },
     "user_tz": -180
    },
    "id": "UaZ527WsM977",
    "outputId": "3ffd3f06-47b9-4ea8-8249-2a716040ad19"
   },
   "outputs": [
    {
     "data": {
      "text/plain": [
       "(420551, 14)"
      ]
     },
     "execution_count": 5,
     "metadata": {},
     "output_type": "execute_result"
    }
   ],
   "source": [
    "float_data.shape"
   ]
  },
  {
   "cell_type": "markdown",
   "metadata": {
    "id": "h-bsEVxaClxp"
   },
   "source": [
    "Нарисуем график температуры."
   ]
  },
  {
   "cell_type": "code",
   "execution_count": 6,
   "metadata": {
    "colab": {
     "base_uri": "https://localhost:8080/",
     "height": 268
    },
    "executionInfo": {
     "elapsed": 795,
     "status": "ok",
     "timestamp": 1654745587281,
     "user": {
      "displayName": "Kirill N.",
      "userId": "16481738826806641256"
     },
     "user_tz": -180
    },
    "id": "ZX1RW8CUHjSv",
    "outputId": "37a87676-96f9-42aa-dd8d-0c4915666f04"
   },
   "outputs": [
    {
     "data": {
      "image/png": "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\n",
      "text/plain": [
       "<Figure size 432x288 with 1 Axes>"
      ]
     },
     "metadata": {
      "needs_background": "light"
     },
     "output_type": "display_data"
    }
   ],
   "source": [
    "from matplotlib import pyplot as plt\n",
    "%matplotlib inline\n",
    "\n",
    "temp = float_data[:, 1]  # температура\n",
    "plt.plot(range(len(temp)), temp)\n",
    "plt.show()"
   ]
  },
  {
   "cell_type": "markdown",
   "metadata": {
    "id": "uFVXzFHBHjSw"
   },
   "source": [
    "На этом графике вы можете четко увидеть годовую периодичность температуры.\n",
    "\n",
    "Вот более узкий график данных о температуре за первые десять дней (поскольку данные записываются каждые десять минут, мы получаем 144 точки данных\n",
    "в день):"
   ]
  },
  {
   "cell_type": "code",
   "execution_count": 7,
   "metadata": {
    "colab": {
     "base_uri": "https://localhost:8080/",
     "height": 265
    },
    "executionInfo": {
     "elapsed": 462,
     "status": "ok",
     "timestamp": 1654745590137,
     "user": {
      "displayName": "Kirill N.",
      "userId": "16481738826806641256"
     },
     "user_tz": -180
    },
    "id": "8eW_Kx2FHjSw",
    "outputId": "501f9a2f-0cdb-4ff1-8947-f3cc5ce2406d"
   },
   "outputs": [
    {
     "data": {
      "image/png": "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\n",
      "text/plain": [
       "<Figure size 432x288 with 1 Axes>"
      ]
     },
     "metadata": {
      "needs_background": "light"
     },
     "output_type": "display_data"
    }
   ],
   "source": [
    "plt.plot(range(1440), temp[:1440])\n",
    "plt.show()"
   ]
  },
  {
   "cell_type": "markdown",
   "metadata": {
    "id": "EkfFwcEuHjSx"
   },
   "source": [
    "На этом графике вы можете увидеть ежедневную периодичность, особенно заметную за последние 4 дня. Мы также можем отметить, что этот десятидневный период должен быть\n",
    "взят из довольно холодного зимнего месяца.\n",
    "\n",
    "Если бы мы пытались предсказать среднюю температуру для следующего месяца, учитывая данные за несколько месяцев, проблема была бы легкой из-за\n",
    "достоверной годовой периодичности данных. Но, глядя на данные в масштабе дней, температура выглядит намного более хаотичной. \n"
   ]
  },
  {
   "cell_type": "code",
   "execution_count": 8,
   "metadata": {
    "executionInfo": {
     "elapsed": 261,
     "status": "ok",
     "timestamp": 1654745593444,
     "user": {
      "displayName": "Kirill N.",
      "userId": "16481738826806641256"
     },
     "user_tz": -180
    },
    "id": "agBqL3WEXsKi"
   },
   "outputs": [],
   "source": [
    "TRAIN_VAL_TH = 10000 #200000\n",
    "VAL_TEST_TH = 15000 #300000"
   ]
  },
  {
   "cell_type": "markdown",
   "metadata": {
    "id": "IVPblxD1ooI5"
   },
   "source": [
    "Нормализуем данные."
   ]
  },
  {
   "cell_type": "code",
   "execution_count": 9,
   "metadata": {
    "executionInfo": {
     "elapsed": 382,
     "status": "ok",
     "timestamp": 1654745595879,
     "user": {
      "displayName": "Kirill N.",
      "userId": "16481738826806641256"
     },
     "user_tz": -180
    },
    "id": "dw9kvdmTHjSy"
   },
   "outputs": [],
   "source": [
    "'''\n",
    "#Ошибочный вариант в исходном задании\n",
    "mean = float_data[:TRAIN_VAL_TH].mean(axis=0)\n",
    "float_data_norm -= mean\n",
    "std = float_data[:TRAIN_VAL_TH].std(axis=0)\n",
    "float_data_norm /= std\n",
    "'''\n",
    "\n",
    "mean = float_data[:VAL_TEST_TH].mean(axis=0)\n",
    "std = float_data[:VAL_TEST_TH].std(axis=0)\n",
    "float_data_norm = (float_data - mean) / std"
   ]
  },
  {
   "cell_type": "code",
   "execution_count": 10,
   "metadata": {
    "colab": {
     "base_uri": "https://localhost:8080/"
    },
    "executionInfo": {
     "elapsed": 320,
     "status": "ok",
     "timestamp": 1654745598121,
     "user": {
      "displayName": "Kirill N.",
      "userId": "16481738826806641256"
     },
     "user_tz": -180
    },
    "id": "3JA1iYlPhPnF",
    "outputId": "de386526-cb32-445b-a1d3-d7766c08dc6d"
   },
   "outputs": [
    {
     "data": {
      "text/plain": [
       "array([[ 0.82584132, -1.47092128, -1.51876664, ..., -0.68646104,\n",
       "        -0.73659009, -0.26378303],\n",
       "       [ 0.83022048, -1.52903285, -1.57439419, ..., -0.89425584,\n",
       "        -0.84616979, -0.45094064],\n",
       "       [ 0.82671715, -1.54393325, -1.58865767, ..., -1.2495179 ,\n",
       "        -1.22750716, -0.04081131],\n",
       "       ...,\n",
       "       [ 1.11486572, -0.7467617 , -0.86122036, ..., -0.65294575,\n",
       "        -0.62701039,  0.46289682],\n",
       "       [ 1.11398989, -0.90619601, -1.01383956, ..., -0.37812038,\n",
       "        -0.55687938,  0.58535798],\n",
       "       [ 1.11486572, -0.99410839, -1.09656772, ..., -0.55239989,\n",
       "        -0.64454314,  0.11284278]])"
      ]
     },
     "execution_count": 10,
     "metadata": {},
     "output_type": "execute_result"
    }
   ],
   "source": [
    "float_data_norm"
   ]
  },
  {
   "cell_type": "markdown",
   "metadata": {
    "id": "f91dQ6MAHjSz"
   },
   "source": [
    "Рассмотрим генератор данных, который мы будем использовать. Он возвращает кортеж `(samples, target)`, где `samples` - один батч данных, а\n",
    "`target` -  массив целевых температур. Требуются следующие аргументы:\n",
    "\n",
    "* `data`: исходный массив данных с плавающей запятой, который мы только что нормализовали в приведенном выше фрагменте кода.\n",
    "* `lookback`: Сколько временных шагов назад должны пройти наши входные данные. Выбираем значение, равное 1440 (в нашем случае это кол-во прошедших минут).\n",
    "* `delay`: через сколько шагов прогнозим\n",
    "* `min_index` и` max_index`: индексы в массиве `data`, которые разграничивают временные шаги для отрисовки. \n",
    "* `shuffle`: перетасовать наши батчи или нарисовать их в хронологическом порядке.\n",
    "* `batch_size`: количество данных на батч.\n",
    "* `step`: период во временных шагах, с каким мы производим выборку данных. Мы установим его на 6, чтобы рисовать одну точку данных каждый час. Тогда длина последовательности будет 1440:6= 240 (т.е. 240 10-ти минутных интервалов)"
   ]
  },
  {
   "cell_type": "code",
   "execution_count": 11,
   "metadata": {
    "executionInfo": {
     "elapsed": 260,
     "status": "ok",
     "timestamp": 1654745601458,
     "user": {
      "displayName": "Kirill N.",
      "userId": "16481738826806641256"
     },
     "user_tz": -180
    },
    "id": "tIZSLwM2HjSz"
   },
   "outputs": [],
   "source": [
    "def generator(data, lookback, delay, min_index, max_index,\n",
    "              shuffle=False, batch_size=128, step=6):\n",
    "    if max_index is None:\n",
    "        max_index = len(data) - delay - 1\n",
    "    i = min_index + lookback\n",
    "    while 1:\n",
    "        if shuffle:\n",
    "            rows = np.random.randint(\n",
    "                min_index + lookback, max_index, size=batch_size)\n",
    "        else:\n",
    "            if i + batch_size >= max_index:\n",
    "                i = min_index + lookback\n",
    "            rows = np.arange(i, min(i + batch_size, max_index))\n",
    "            i += len(rows)\n",
    "\n",
    "        samples = np.zeros((len(rows),       # batch size\n",
    "                           lookback // step, # seq_len\n",
    "                           data.shape[-1]))  # features number\n",
    "        targets = np.zeros((len(rows),))\n",
    "        for j, row in enumerate(rows):  # loop of batch size len\n",
    "            indices = range(row - lookback, row, step) # indices form a sequence (total number of sequences = batch size)\n",
    "            # print('indices', len(list(indices)), list(indices))\n",
    "            # print(row + delay - step, '\\n')\n",
    "            samples[j] = data[indices]\n",
    "            # [1] below means that temperature is being a target\n",
    "            targets[j] = data[row + delay - step][1]\n",
    "        yield samples, targets"
   ]
  },
  {
   "cell_type": "markdown",
   "metadata": {
    "id": "MIM47-PVHjS0"
   },
   "source": [
    "\n",
    "Теперь давайте использовать нашу функцию абстрактного генератора для создания трех генераторов, одного для обучения, одного для валидации и одного для тестирования.\n"
   ]
  },
  {
   "cell_type": "code",
   "execution_count": 12,
   "metadata": {
    "executionInfo": {
     "elapsed": 248,
     "status": "ok",
     "timestamp": 1654745607103,
     "user": {
      "displayName": "Kirill N.",
      "userId": "16481738826806641256"
     },
     "user_tz": -180
    },
    "id": "59Xdn_cPHjS0"
   },
   "outputs": [],
   "source": [
    "lookback = 1440 \n",
    "step = 6\n",
    "delay = 144\n",
    "batch_size = 128\n",
    "\n",
    "train_gen = generator(float_data_norm,\n",
    "                      lookback=lookback,\n",
    "                      delay=delay,\n",
    "                      min_index=0,\n",
    "                      max_index=TRAIN_VAL_TH,\n",
    "                      shuffle=True,\n",
    "                      step=step, \n",
    "                      batch_size=batch_size)\n",
    "val_gen = generator(float_data_norm,\n",
    "                    lookback=lookback,\n",
    "                    delay=delay,\n",
    "                    min_index=TRAIN_VAL_TH+1,\n",
    "                    max_index=VAL_TEST_TH,\n",
    "                    step=step,\n",
    "                    batch_size=batch_size)\n",
    "test_gen = generator(float_data_norm,\n",
    "                     lookback=lookback,\n",
    "                     delay=delay,\n",
    "                     min_index=VAL_TEST_TH+1,\n",
    "                     max_index=20000,\n",
    "                     step=step,\n",
    "                     batch_size=batch_size)\n",
    "\n",
    "# number of steps needed to cover the whole datasets\n",
    "train_steps = (TRAIN_VAL_TH - 0 - lookback) // batch_size\n",
    "val_steps = (VAL_TEST_TH - (TRAIN_VAL_TH+1) - lookback) // batch_size\n",
    "#test_steps = (len(float_data) - (VAL_TEST_TH+1) - lookback) // batch_size\n",
    "test_steps = (20000 - (VAL_TEST_TH+1) - lookback) // batch_size"
   ]
  },
  {
   "cell_type": "code",
   "execution_count": 13,
   "metadata": {
    "colab": {
     "base_uri": "https://localhost:8080/"
    },
    "executionInfo": {
     "elapsed": 247,
     "status": "ok",
     "timestamp": 1654745610958,
     "user": {
      "displayName": "Kirill N.",
      "userId": "16481738826806641256"
     },
     "user_tz": -180
    },
    "id": "a0y7Pu-lhPnH",
    "outputId": "f8a2208f-bcf0-4ccb-e238-360536c125d1"
   },
   "outputs": [
    {
     "name": "stdout",
     "output_type": "stream",
     "text": [
      "66 27 27\n"
     ]
    }
   ],
   "source": [
    "print(train_steps, val_steps, test_steps)"
   ]
  },
  {
   "cell_type": "code",
   "execution_count": 14,
   "metadata": {
    "colab": {
     "base_uri": "https://localhost:8080/"
    },
    "executionInfo": {
     "elapsed": 263,
     "status": "ok",
     "timestamp": 1654745612855,
     "user": {
      "displayName": "Kirill N.",
      "userId": "16481738826806641256"
     },
     "user_tz": -180
    },
    "id": "V7Yv5FL3Q68w",
    "outputId": "248e0894-b174-4a16-d7d7-25708f99715c"
   },
   "outputs": [
    {
     "data": {
      "text/plain": [
       "((128, 240, 14), (128,))"
      ]
     },
     "execution_count": 14,
     "metadata": {},
     "output_type": "execute_result"
    }
   ],
   "source": [
    "samples, targets = next(val_gen)\n",
    "\n",
    "samples.shape, targets.shape"
   ]
  },
  {
   "cell_type": "markdown",
   "metadata": {
    "id": "zlOP0eDN4Ny3"
   },
   "source": [
    "Немного разберемся с процедурой формирования батча.\n",
    "Создадим generator с небольшими значениями параметров, чтобы все можно было увидеть глазами."
   ]
  },
  {
   "cell_type": "code",
   "execution_count": 25,
   "metadata": {
    "executionInfo": {
     "elapsed": 275,
     "status": "ok",
     "timestamp": 1654746417929,
     "user": {
      "displayName": "Kirill N.",
      "userId": "16481738826806641256"
     },
     "user_tz": -180
    },
    "id": "9zTR4k4z4M2g"
   },
   "outputs": [],
   "source": [
    "tmp_gen = generator(float_data_norm,\n",
    "                      lookback=144*2,\n",
    "                      delay=144*2,\n",
    "                      min_index=0,\n",
    "                      max_index=2000,\n",
    "                      shuffle=False,\n",
    "                      step=6, \n",
    "                      batch_size=8)\n",
    "\n",
    "samples, targets = next(tmp_gen)"
   ]
  },
  {
   "cell_type": "markdown",
   "metadata": {
    "id": "Iz29yH-65JE8"
   },
   "source": [
    "Посмотрим на значения, которые вернул генератор, а именно на 0 и 6 элемент в батче (ВАЖНО: элементы в батче не перемешивались). 0 и 6 выбраны потому, что step=6, значит значения в `samples` под указанными индексами должны быть одинаковыми, только сдвинутыми на 1 относительно друг друга\n",
    "\n",
    "`samples` имеет вид $bs \\times SeqLen \\times \\#features$"
   ]
  },
  {
   "cell_type": "code",
   "execution_count": 26,
   "metadata": {
    "colab": {
     "base_uri": "https://localhost:8080/"
    },
    "executionInfo": {
     "elapsed": 334,
     "status": "ok",
     "timestamp": 1654746420418,
     "user": {
      "displayName": "Kirill N.",
      "userId": "16481738826806641256"
     },
     "user_tz": -180
    },
    "id": "qHPikmbX3rpk",
    "outputId": "7d74be85-10b7-4ed9-91de-8f3793172269"
   },
   "outputs": [
    {
     "name": "stdout",
     "output_type": "stream",
     "text": [
      "[-1.47092128 -1.41131966 -1.59459462 -1.59310458 -1.65121615]\n",
      "[-1.41131966 -1.59459462 -1.59310458 -1.65121615 -1.71677792]\n"
     ]
    }
   ],
   "source": [
    "idx1, idx2 = 0, 6\n",
    "seqlen = 5\n",
    "feature = 1\n",
    "\n",
    "print(samples[idx1, :seqlen, feature])\n",
    "print(samples[idx2, :seqlen, feature])"
   ]
  },
  {
   "cell_type": "code",
   "execution_count": 27,
   "metadata": {
    "colab": {
     "base_uri": "https://localhost:8080/"
    },
    "executionInfo": {
     "elapsed": 315,
     "status": "ok",
     "timestamp": 1654746423087,
     "user": {
      "displayName": "Kirill N.",
      "userId": "16481738826806641256"
     },
     "user_tz": -180
    },
    "id": "0nMQTkkz6ZxP",
    "outputId": "0c8237bd-ca32-4a30-e1c3-e63a20df0e77"
   },
   "outputs": [
    {
     "data": {
      "text/plain": [
       "array([-0.49047477, -0.48749469, -0.49047477, -0.49345485, -0.49941501])"
      ]
     },
     "execution_count": 27,
     "metadata": {},
     "output_type": "execute_result"
    }
   ],
   "source": [
    "targets[:seqlen]"
   ]
  },
  {
   "cell_type": "markdown",
   "metadata": {
    "id": "nxw92Mjw6wGl"
   },
   "source": [
    "### Вывод:\n",
    "В семинарском ноутбуке мы учили модель POS tagger, которая предсказывала для каждого слова (токена) в предложении его tag, т.е. часть речи. Поэтому в конструкции `nn.LSTM().forward()`, которая возвращает *`Outputs: output, (h_n, c_n)`*, нас интересовала только первая часть `output`. Она представляет собой последовательность выходов ячеек LSTM для каждого токена. \n",
    "\n",
    "Напротив, в рассматриваемой задаче нам нужно по временному ряду метеорологических показателей (например, температура) получить 1 число: прогноз температуры через 24 часа. Соответственно теперь нас будет интересовать h_n среди выходов слоя `nn.LSTM`.\n",
    "\n",
    "Перед тем как реализовать реккурентную архитектуру сделаем baseline-прогноз."
   ]
  },
  {
   "cell_type": "markdown",
   "metadata": {
    "id": "h9meg6YsHjS1"
   },
   "source": [
    "## Здравый смысл, baseline\n",
    "\n",
    "\n",
    "\n",
    "В нашем случае температурные временные ряды можно смело считать периодическими (завтра температура, вероятно, будет близка к\n",
    "температуре сегодня). Таким образом, подход здравого смысла будет всегда предсказывать, что температура через\n",
    "24 часа будет равна температуре прямо сейчас. Давайте оценим этот подход, используя метрику средней абсолютной ошибки (MAE).\n"
   ]
  },
  {
   "cell_type": "code",
   "execution_count": 15,
   "metadata": {
    "colab": {
     "base_uri": "https://localhost:8080/"
    },
    "executionInfo": {
     "elapsed": 262,
     "status": "ok",
     "timestamp": 1654745619231,
     "user": {
      "displayName": "Kirill N.",
      "userId": "16481738826806641256"
     },
     "user_tz": -180
    },
    "id": "qrOTJaNmHjS1",
    "outputId": "ddf0ace7-2cff-43ad-8dcd-eeb6ab77b12a"
   },
   "outputs": [
    {
     "name": "stderr",
     "output_type": "stream",
     "text": [
      "100%|██████████| 27/27 [00:00<00:00, 219.47it/s]"
     ]
    },
    {
     "name": "stdout",
     "output_type": "stream",
     "text": [
      "MAE = 0.3725\n"
     ]
    },
    {
     "name": "stderr",
     "output_type": "stream",
     "text": [
      "\n"
     ]
    }
   ],
   "source": [
    "from tqdm import tqdm\n",
    "\n",
    "def evaluate_naive_method():\n",
    "    batch_maes = []\n",
    "    for step in tqdm(range(val_steps)):\n",
    "        samples, targets = next(val_gen)\n",
    "        preds = samples[:, -1, 1] # (все объекты выборки; время, соотвествующее моменту \"сейчас\"; столбец температура)\n",
    "        mae = np.mean(np.abs(preds - targets))\n",
    "        batch_maes.append(mae)\n",
    "    print(f'MAE = {np.mean(batch_maes):.4f}')\n",
    "    \n",
    "evaluate_naive_method()"
   ]
  },
  {
   "cell_type": "markdown",
   "metadata": {
    "id": "exHIH-3OHjS1"
   },
   "source": [
    "## **Домашнее задание** \n",
    "Написать и обучить свою реккурентную сеть. Предлагается применить все возможные методы: bidirectional, num_layers ...\n",
    "\n",
    "Жестких критериев, по которым будет оцениваться работа, нет.\n",
    "- Необходимо обучить модель и получить достойное качество;\n",
    "- Необходимо реализовать сеть через класс;\n",
    "- Нужно выделить на данных как train, так и val датасеты;\n",
    "- При появлении симптомов переобучения воспользоваться техникой early stopping;\n",
    "- Нужно построить графики для качества модели и Loss;\n",
    "- Может помочь [Dropout](https://towardsdatascience.com/12-main-dropout-methods-mathematical-and-visual-explanation-58cdc2112293) (не факт).\n",
    "\n",
    "Для начала нам нужно предобработать данные:\n",
    "\n",
    "* Предварительная обработка данных до формата, который нейронная сеть может принять. Каждый временной ряд в данных имеет разный масштаб (например, температура обычно составляет от -20 до +30, но\n",
    "давление, измеренное в мбар, составляет около 1000). Поэтому нужно всё нормализовывать\n",
    "\n"
   ]
  },
  {
   "cell_type": "code",
   "execution_count": 16,
   "metadata": {
    "executionInfo": {
     "elapsed": 3106,
     "status": "ok",
     "timestamp": 1654745630109,
     "user": {
      "displayName": "Kirill N.",
      "userId": "16481738826806641256"
     },
     "user_tz": -180
    },
    "id": "j1A-zYOgrykO"
   },
   "outputs": [],
   "source": [
    "import torch\n",
    "import torch.nn as nn\n",
    "import torch.nn.functional as F\n",
    "import torch.optim as optim\n",
    "from torch.autograd import Variable\n",
    "from collections import defaultdict\n",
    "\n",
    "from IPython import display"
   ]
  },
  {
   "cell_type": "code",
   "execution_count": 17,
   "metadata": {
    "executionInfo": {
     "elapsed": 8,
     "status": "ok",
     "timestamp": 1654745631612,
     "user": {
      "displayName": "Kirill N.",
      "userId": "16481738826806641256"
     },
     "user_tz": -180
    },
    "id": "M5FCsJHPLNS4"
   },
   "outputs": [],
   "source": [
    "if torch.cuda.is_available():\n",
    "    from torch.cuda import FloatTensor, LongTensor\n",
    "else:\n",
    "    from torch import FloatTensor, LongTensor\n",
    "\n",
    "device = torch.device('cuda') if torch.cuda.is_available() else torch.device('cpu')\n",
    "\n",
    "np.random.seed(42)"
   ]
  },
  {
   "cell_type": "code",
   "execution_count": 18,
   "metadata": {
    "executionInfo": {
     "elapsed": 269,
     "status": "ok",
     "timestamp": 1654745634203,
     "user": {
      "displayName": "Kirill N.",
      "userId": "16481738826806641256"
     },
     "user_tz": -180
    },
    "id": "DtOQdxjw11KJ"
   },
   "outputs": [],
   "source": [
    "class LSTM(nn.Module):\n",
    "    def __init__(self, input_size=14, hidden_size=100, output_size=1, num_layers=1):\n",
    "        super(LSTM, self).__init__()\n",
    "        self.hidden_size = hidden_size\n",
    "        self.num_layers = num_layers\n",
    "        \n",
    "        self.lstm = nn.LSTM(input_size, hidden_size, num_layers=num_layers, batch_first=True)\n",
    "        self.fc = nn.Linear(hidden_size, output_size)\n",
    "            \n",
    "    def forward(self, x):\n",
    "        h_0 = Variable(torch.zeros(self.num_layers, x.shape[0], self.hidden_size)) \n",
    "        c_0 = Variable(torch.zeros(self.num_layers, x.shape[0], self.hidden_size))\n",
    "        \n",
    "        lstm_out, (h_n, c_n) = self.lstm(x, (h_0, c_0))\n",
    "        out = self.fc(h_n.view(self.num_layers, x.shape[0], self.hidden_size))\n",
    "        \n",
    "        return out"
   ]
  },
  {
   "cell_type": "code",
   "execution_count": null,
   "metadata": {
    "id": "lyhtW1_vmbZs"
   },
   "outputs": [],
   "source": [
    "class BidirLSTM(nn.Module):\n",
    "    def __init__(self, input_size=14, hidden_size=100, output_size=1, num_layers=1):\n",
    "        super(LSTM, self).__init__()\n",
    "        self.hidden_size = hidden_size\n",
    "        self.num_layers = num_layers\n",
    "        \n",
    "        self.lstm = nn.LSTM(input_size, hidden_size, num_layers=num_layers, batch_first=True)\n",
    "        self.fc = nn.Linear(2*hidden_size, output_size)\n",
    "            \n",
    "    def forward(self, x):\n",
    "        h_0 = Variable(torch.zeros(self.num_layers, x.shape[0], self.hidden_size)) \n",
    "        c_0 = Variable(torch.zeros(self.num_layers, x.shape[0], self.hidden_size))\n",
    "        \n",
    "        lstm_out, (h_n, c_n) = self.lstm(x, (h_0, c_0))\n",
    "        out = self.fc(h_n.view(self.num_layers, x.shape[0], self.hidden_size))\n",
    "        \n",
    "        return out"
   ]
  },
  {
   "cell_type": "code",
   "execution_count": 19,
   "metadata": {
    "colab": {
     "base_uri": "https://localhost:8080/"
    },
    "executionInfo": {
     "elapsed": 233,
     "status": "ok",
     "timestamp": 1654745638852,
     "user": {
      "displayName": "Kirill N.",
      "userId": "16481738826806641256"
     },
     "user_tz": -180
    },
    "id": "85rknkpCrym5",
    "outputId": "2dd556b1-3447-4faa-9095-304e904a7b58"
   },
   "outputs": [
    {
     "name": "stdout",
     "output_type": "stream",
     "text": [
      "LSTM(\n",
      "  (lstm): LSTM(14, 100, batch_first=True)\n",
      "  (fc): Linear(in_features=100, out_features=1, bias=True)\n",
      ")\n"
     ]
    }
   ],
   "source": [
    "model = LSTM() #.to(device)\n",
    "print(model)"
   ]
  },
  {
   "cell_type": "code",
   "execution_count": 20,
   "metadata": {
    "executionInfo": {
     "elapsed": 241,
     "status": "ok",
     "timestamp": 1654745641270,
     "user": {
      "displayName": "Kirill N.",
      "userId": "16481738826806641256"
     },
     "user_tz": -180
    },
    "id": "F6yHS4l2WffH"
   },
   "outputs": [],
   "source": [
    "criterion = torch.nn.L1Loss() #MAE\n",
    "optimizer = torch.optim.Adam(model.parameters(), lr=0.01)"
   ]
  },
  {
   "cell_type": "markdown",
   "metadata": {
    "id": "gSxIFIGZkRGU"
   },
   "source": [
    "Создадим класс для подсчета метрики."
   ]
  },
  {
   "cell_type": "code",
   "execution_count": 21,
   "metadata": {
    "executionInfo": {
     "elapsed": 9,
     "status": "ok",
     "timestamp": 1654745643625,
     "user": {
      "displayName": "Kirill N.",
      "userId": "16481738826806641256"
     },
     "user_tz": -180
    },
    "id": "te4xpbf7YL5S"
   },
   "outputs": [],
   "source": [
    "class AverageMeter(object):\n",
    "    \"\"\"\n",
    "    Computes and stores the average and current value\n",
    "    \"\"\"\n",
    "    \n",
    "    def __init__(self):\n",
    "        self.reset()\n",
    "\n",
    "    def reset(self):\n",
    "        self.val = 0\n",
    "        self.avg = 0\n",
    "        self.sum = 0\n",
    "        self.count = 0\n",
    "\n",
    "    def update(self, val, n=1):\n",
    "        self.val = val\n",
    "        self.sum += val * n\n",
    "        self.count += n\n",
    "        self.avg = self.sum / self.count\n"
   ]
  },
  {
   "cell_type": "code",
   "execution_count": 28,
   "metadata": {
    "colab": {
     "base_uri": "https://localhost:8080/"
    },
    "executionInfo": {
     "elapsed": 362162,
     "status": "ok",
     "timestamp": 1654746882190,
     "user": {
      "displayName": "Kirill N.",
      "userId": "16481738826806641256"
     },
     "user_tz": -180
    },
    "id": "hab7Kpp_rypd",
    "outputId": "15ba9112-539d-4065-bffc-05d4a350790f"
   },
   "outputs": [
    {
     "name": "stdout",
     "output_type": "stream",
     "text": [
      "Epoch: 0\n"
     ]
    },
    {
     "name": "stderr",
     "output_type": "stream",
     "text": [
      "Training..: 100%|██████████| 66/66 [00:20<00:00,  3.25it/s]\n",
      "Validation..: 100%|██████████| 27/27 [00:03<00:00,  8.97it/s]\n"
     ]
    },
    {
     "name": "stdout",
     "output_type": "stream",
     "text": [
      "Validation MAE: 0.7451\n",
      "Epoch: 1\n"
     ]
    },
    {
     "name": "stderr",
     "output_type": "stream",
     "text": [
      "Training..: 100%|██████████| 66/66 [00:19<00:00,  3.36it/s]\n",
      "Validation..: 100%|██████████| 27/27 [00:02<00:00,  9.09it/s]\n"
     ]
    },
    {
     "name": "stdout",
     "output_type": "stream",
     "text": [
      "Validation MAE: 0.6914\n",
      "Epoch: 2\n"
     ]
    },
    {
     "name": "stderr",
     "output_type": "stream",
     "text": [
      "Training..: 100%|██████████| 66/66 [00:19<00:00,  3.34it/s]\n",
      "Validation..: 100%|██████████| 27/27 [00:02<00:00,  9.13it/s]\n"
     ]
    },
    {
     "name": "stdout",
     "output_type": "stream",
     "text": [
      "Validation MAE: 0.6795\n",
      "Epoch: 3\n"
     ]
    },
    {
     "name": "stderr",
     "output_type": "stream",
     "text": [
      "Training..: 100%|██████████| 66/66 [00:19<00:00,  3.35it/s]\n",
      "Validation..: 100%|██████████| 27/27 [00:03<00:00,  8.99it/s]\n"
     ]
    },
    {
     "name": "stdout",
     "output_type": "stream",
     "text": [
      "Validation MAE: 0.7048\n",
      "Epoch: 4\n"
     ]
    },
    {
     "name": "stderr",
     "output_type": "stream",
     "text": [
      "Training..: 100%|██████████| 66/66 [00:20<00:00,  3.19it/s]\n",
      "Validation..: 100%|██████████| 27/27 [00:02<00:00,  9.16it/s]\n"
     ]
    },
    {
     "name": "stdout",
     "output_type": "stream",
     "text": [
      "Validation MAE: 0.7073\n",
      "Epoch: 5\n"
     ]
    },
    {
     "name": "stderr",
     "output_type": "stream",
     "text": [
      "Training..: 100%|██████████| 66/66 [00:19<00:00,  3.36it/s]\n",
      "Validation..: 100%|██████████| 27/27 [00:02<00:00,  9.05it/s]\n"
     ]
    },
    {
     "name": "stdout",
     "output_type": "stream",
     "text": [
      "Validation MAE: 0.7583\n",
      "Epoch: 6\n"
     ]
    },
    {
     "name": "stderr",
     "output_type": "stream",
     "text": [
      "Training..: 100%|██████████| 66/66 [00:19<00:00,  3.35it/s]\n",
      "Validation..: 100%|██████████| 27/27 [00:03<00:00,  8.89it/s]\n"
     ]
    },
    {
     "name": "stdout",
     "output_type": "stream",
     "text": [
      "Validation MAE: 0.6670\n",
      "Epoch: 7\n"
     ]
    },
    {
     "name": "stderr",
     "output_type": "stream",
     "text": [
      "Training..: 100%|██████████| 66/66 [00:19<00:00,  3.33it/s]\n",
      "Validation..: 100%|██████████| 27/27 [00:02<00:00,  9.06it/s]\n"
     ]
    },
    {
     "name": "stdout",
     "output_type": "stream",
     "text": [
      "Validation MAE: 0.6861\n",
      "Epoch: 8\n"
     ]
    },
    {
     "name": "stderr",
     "output_type": "stream",
     "text": [
      "Training..: 100%|██████████| 66/66 [00:19<00:00,  3.37it/s]\n",
      "Validation..: 100%|██████████| 27/27 [00:02<00:00,  9.10it/s]\n"
     ]
    },
    {
     "name": "stdout",
     "output_type": "stream",
     "text": [
      "Validation MAE: 0.6933\n",
      "Epoch: 9\n"
     ]
    },
    {
     "name": "stderr",
     "output_type": "stream",
     "text": [
      "Training..: 100%|██████████| 66/66 [00:19<00:00,  3.38it/s]\n",
      "Validation..: 100%|██████████| 27/27 [00:03<00:00,  8.78it/s]\n"
     ]
    },
    {
     "name": "stdout",
     "output_type": "stream",
     "text": [
      "Validation MAE: 0.7009\n",
      "Epoch: 10\n"
     ]
    },
    {
     "name": "stderr",
     "output_type": "stream",
     "text": [
      "Training..: 100%|██████████| 66/66 [00:30<00:00,  2.13it/s]\n",
      "Validation..: 100%|██████████| 27/27 [00:04<00:00,  6.61it/s]\n"
     ]
    },
    {
     "name": "stdout",
     "output_type": "stream",
     "text": [
      "Validation MAE: 0.7072\n",
      "Epoch: 11\n"
     ]
    },
    {
     "name": "stderr",
     "output_type": "stream",
     "text": [
      "Training..: 100%|██████████| 66/66 [00:21<00:00,  3.01it/s]\n",
      "Validation..: 100%|██████████| 27/27 [00:03<00:00,  8.99it/s]\n"
     ]
    },
    {
     "name": "stdout",
     "output_type": "stream",
     "text": [
      "Validation MAE: 0.7572\n",
      "Epoch: 12\n"
     ]
    },
    {
     "name": "stderr",
     "output_type": "stream",
     "text": [
      "Training..: 100%|██████████| 66/66 [00:21<00:00,  3.02it/s]\n",
      "Validation..: 100%|██████████| 27/27 [00:04<00:00,  6.19it/s]\n"
     ]
    },
    {
     "name": "stdout",
     "output_type": "stream",
     "text": [
      "Validation MAE: 0.7086\n",
      "Epoch: 13\n"
     ]
    },
    {
     "name": "stderr",
     "output_type": "stream",
     "text": [
      "Training..: 100%|██████████| 66/66 [00:20<00:00,  3.19it/s]\n",
      "Validation..: 100%|██████████| 27/27 [00:03<00:00,  8.59it/s]\n"
     ]
    },
    {
     "name": "stdout",
     "output_type": "stream",
     "text": [
      "Validation MAE: 0.7173\n",
      "Epoch: 14\n"
     ]
    },
    {
     "name": "stderr",
     "output_type": "stream",
     "text": [
      "Training..: 100%|██████████| 66/66 [00:19<00:00,  3.33it/s]\n",
      "Validation..: 100%|██████████| 27/27 [00:03<00:00,  8.01it/s]"
     ]
    },
    {
     "name": "stdout",
     "output_type": "stream",
     "text": [
      "Validation MAE: 0.7367\n"
     ]
    },
    {
     "name": "stderr",
     "output_type": "stream",
     "text": [
      "\n"
     ]
    }
   ],
   "source": [
    "epochs = 15\n",
    "storage = defaultdict(list)\n",
    "\n",
    "for epoch in range(epochs):     \n",
    "    print(f'Epoch: {epoch}')\n",
    "    train_loss_meter = AverageMeter()\n",
    "    model.train()\n",
    "    for step in tqdm(range(train_steps), desc='Training..'):\n",
    "        samples, targets = next(train_gen)\n",
    "                \n",
    "        samples = torch.Tensor(samples)#.cuda() \n",
    "        targets = torch.Tensor(targets)#.cuda() \n",
    "      \n",
    "        outputs = model(samples)\n",
    "        optimizer.zero_grad()\n",
    "        loss = criterion(outputs.squeeze(), targets)\n",
    "        loss.backward()\n",
    "        optimizer.step()\n",
    "\n",
    "    storage['train_loss'].append(train_loss_meter.avg)\n",
    "\n",
    "    val_loss_meter = AverageMeter()\n",
    "    model.eval()\n",
    "    for step in tqdm(range(val_steps), desc='Validation..'):\n",
    "        samples, targets = next(val_gen)\n",
    "      \n",
    "        samples = torch.Tensor(samples)#.cuda() \n",
    "        targets = torch.Tensor(targets)#.cuda() \n",
    "        \n",
    "        with torch.no_grad():\n",
    "            outputs = model(samples)\n",
    "            loss = criterion(outputs.squeeze(), targets)\n",
    "            val_loss_meter.update(loss.item())\n",
    "\n",
    "    storage['val_loss'].append(val_loss_meter.avg)\n",
    "    \n",
    "    print(f'Validation MAE: {val_loss_meter.avg:.4f}')\n",
    "    "
   ]
  },
  {
   "cell_type": "code",
   "execution_count": null,
   "metadata": {
    "id": "D2FEexxEhPnO"
   },
   "outputs": [],
   "source": [
    "#torch.save(model.state_dict(), f'{ROOT}/lstm_saved_model.pth')"
   ]
  },
  {
   "cell_type": "code",
   "execution_count": 29,
   "metadata": {
    "colab": {
     "base_uri": "https://localhost:8080/"
    },
    "executionInfo": {
     "elapsed": 3255,
     "status": "ok",
     "timestamp": 1654746927874,
     "user": {
      "displayName": "Kirill N.",
      "userId": "16481738826806641256"
     },
     "user_tz": -180
    },
    "id": "1w1cv_ov0BPv",
    "outputId": "072ddcca-ac7d-48b3-c03e-4c76928e9662"
   },
   "outputs": [
    {
     "name": "stderr",
     "output_type": "stream",
     "text": [
      "Testing..: 100%|██████████| 27/27 [00:02<00:00,  9.02it/s]"
     ]
    },
    {
     "name": "stdout",
     "output_type": "stream",
     "text": [
      "Test MAE: 0.8007\n"
     ]
    },
    {
     "name": "stderr",
     "output_type": "stream",
     "text": [
      "\n"
     ]
    }
   ],
   "source": [
    "test_loss_meter = AverageMeter()\n",
    "model.eval()\n",
    "\n",
    "for step in tqdm(range(test_steps), 'Testing..'):\n",
    "    samples, targets = next(test_gen)\n",
    "  \n",
    "    samples = torch.Tensor(samples)#.cuda() \n",
    "    targets = torch.Tensor(targets)#.cuda() \n",
    "        \n",
    "    with torch.no_grad():\n",
    "        outputs = model(samples)\n",
    "        \n",
    "        loss = criterion(outputs.squeeze(), targets)\n",
    "        test_loss_meter.update(loss.item())\n",
    "    \n",
    "    if step==0:\n",
    "        test_predict = outputs.flatten().data.numpy()*std[1] + mean[1]\n",
    "    else:\n",
    "        test_predict = np.concatenate((test_predict, outputs.flatten().data.numpy()*std[1] + mean[1]))\n",
    "    \n",
    "print(f'Test MAE: {test_loss_meter.avg:.4f}')\n"
   ]
  },
  {
   "cell_type": "code",
   "execution_count": 30,
   "metadata": {
    "colab": {
     "base_uri": "https://localhost:8080/",
     "height": 294
    },
    "executionInfo": {
     "elapsed": 21,
     "status": "ok",
     "timestamp": 1654746932230,
     "user": {
      "displayName": "Kirill N.",
      "userId": "16481738826806641256"
     },
     "user_tz": -180
    },
    "id": "D43dowcxoxnk",
    "outputId": "fa3d8614-69f7-4f49-de79-8f60fc0cd0f2"
   },
   "outputs": [
    {
     "data": {
      "image/png": "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\n",
      "text/plain": [
       "<Figure size 432x288 with 1 Axes>"
      ]
     },
     "metadata": {
      "needs_background": "light"
     },
     "output_type": "display_data"
    }
   ],
   "source": [
    "plt.plot(float_data[VAL_TEST_TH:VAL_TEST_TH+test_steps*batch_size, 1], label='Target')\n",
    "plt.plot(test_predict, label='Predicted')\n",
    "plt.legend()\n",
    "plt.suptitle('Time-Series Prediction')\n",
    "plt.show()"
   ]
  }
 ],
 "metadata": {
  "accelerator": "GPU",
  "colab": {
   "collapsed_sections": [],
   "name": "HSE_DL_HW03_KNosov_09-June-2022.ipynb",
   "provenance": []
  },
  "kernelspec": {
   "display_name": "Python 3",
   "language": "python",
   "name": "python3"
  },
  "language_info": {
   "codemirror_mode": {
    "name": "ipython",
    "version": 3
   },
   "file_extension": ".py",
   "mimetype": "text/x-python",
   "name": "python",
   "nbconvert_exporter": "python",
   "pygments_lexer": "ipython3",
   "version": "3.8.5"
  }
 },
 "nbformat": 4,
 "nbformat_minor": 1
}
