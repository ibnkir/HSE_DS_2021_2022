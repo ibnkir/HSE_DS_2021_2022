{
 "cells": [
  {
   "cell_type": "markdown",
   "metadata": {},
   "source": [
    "## ВШЭ, ФКН, Программа \"Специалист по DS\" (2021/2022)\n",
    "## Курс \"Прикладная статистика для ML\"\n",
    "### ДЗ №1: Критерии согласия\n",
    "#### *Выполнил: Кирилл Н., 29.11.2021 г.*"
   ]
  },
  {
   "cell_type": "code",
   "execution_count": 37,
   "metadata": {},
   "outputs": [],
   "source": [
    "import pandas as pd\n",
    "import numpy as np\n",
    "from scipy import stats\n",
    "import matplotlib.pyplot as plt\n",
    "from statsmodels.graphics.gofplots import qqplot"
   ]
  },
  {
   "cell_type": "markdown",
   "metadata": {},
   "source": [
    "**Упражнение 1 (30 баллов).** Для данных из файла employee.xls постройте гистограмму для переменной Salary. Похоже ли распределение зарплат на нормальный закон? Проверьте нормальность с помощью изученных критериев."
   ]
  },
  {
   "cell_type": "code",
   "execution_count": 38,
   "metadata": {},
   "outputs": [
    {
     "data": {
      "text/html": [
       "<div>\n",
       "<style scoped>\n",
       "    .dataframe tbody tr th:only-of-type {\n",
       "        vertical-align: middle;\n",
       "    }\n",
       "\n",
       "    .dataframe tbody tr th {\n",
       "        vertical-align: top;\n",
       "    }\n",
       "\n",
       "    .dataframe thead th {\n",
       "        text-align: right;\n",
       "    }\n",
       "</style>\n",
       "<table border=\"1\" class=\"dataframe\">\n",
       "  <thead>\n",
       "    <tr style=\"text-align: right;\">\n",
       "      <th></th>\n",
       "      <th>Unnamed: 0</th>\n",
       "      <th>GENDER</th>\n",
       "      <th>DEPART</th>\n",
       "      <th>EDUC</th>\n",
       "      <th>AGE</th>\n",
       "      <th>HEIGHT</th>\n",
       "      <th>SENIOR</th>\n",
       "      <th>SALARY</th>\n",
       "      <th>INI_PROF</th>\n",
       "      <th>CUR_PROF</th>\n",
       "    </tr>\n",
       "  </thead>\n",
       "  <tbody>\n",
       "    <tr>\n",
       "      <th>0</th>\n",
       "      <td>Alexander</td>\n",
       "      <td>Female</td>\n",
       "      <td>Ship</td>\n",
       "      <td>College</td>\n",
       "      <td>22</td>\n",
       "      <td>63</td>\n",
       "      <td>4</td>\n",
       "      <td>23400</td>\n",
       "      <td>82</td>\n",
       "      <td>90</td>\n",
       "    </tr>\n",
       "    <tr>\n",
       "      <th>1</th>\n",
       "      <td>Arcones</td>\n",
       "      <td>Male</td>\n",
       "      <td>Package</td>\n",
       "      <td>College</td>\n",
       "      <td>49</td>\n",
       "      <td>65</td>\n",
       "      <td>17</td>\n",
       "      <td>40400</td>\n",
       "      <td>89</td>\n",
       "      <td>123</td>\n",
       "    </tr>\n",
       "    <tr>\n",
       "      <th>2</th>\n",
       "      <td>Barber</td>\n",
       "      <td>Male</td>\n",
       "      <td>Bake</td>\n",
       "      <td>College</td>\n",
       "      <td>36</td>\n",
       "      <td>67</td>\n",
       "      <td>8</td>\n",
       "      <td>29400</td>\n",
       "      <td>77</td>\n",
       "      <td>93</td>\n",
       "    </tr>\n",
       "    <tr>\n",
       "      <th>3</th>\n",
       "      <td>Barrera</td>\n",
       "      <td>Male</td>\n",
       "      <td>Package</td>\n",
       "      <td>HS</td>\n",
       "      <td>37</td>\n",
       "      <td>67</td>\n",
       "      <td>3</td>\n",
       "      <td>24800</td>\n",
       "      <td>102</td>\n",
       "      <td>108</td>\n",
       "    </tr>\n",
       "    <tr>\n",
       "      <th>4</th>\n",
       "      <td>Bester</td>\n",
       "      <td>Male</td>\n",
       "      <td>Ship</td>\n",
       "      <td>Grad</td>\n",
       "      <td>43</td>\n",
       "      <td>66</td>\n",
       "      <td>11</td>\n",
       "      <td>31200</td>\n",
       "      <td>82</td>\n",
       "      <td>104</td>\n",
       "    </tr>\n",
       "  </tbody>\n",
       "</table>\n",
       "</div>"
      ],
      "text/plain": [
       "   Unnamed: 0  GENDER   DEPART     EDUC  AGE  HEIGHT  SENIOR  SALARY  \\\n",
       "0  Alexander   Female     Ship  College   22      63       4   23400   \n",
       "1  Arcones       Male  Package  College   49      65      17   40400   \n",
       "2  Barber        Male     Bake  College   36      67       8   29400   \n",
       "3  Barrera       Male  Package       HS   37      67       3   24800   \n",
       "4  Bester        Male     Ship     Grad   43      66      11   31200   \n",
       "\n",
       "   INI_PROF  CUR_PROF  \n",
       "0        82        90  \n",
       "1        89       123  \n",
       "2        77        93  \n",
       "3       102       108  \n",
       "4        82       104  "
      ]
     },
     "execution_count": 38,
     "metadata": {},
     "output_type": "execute_result"
    }
   ],
   "source": [
    "df_empl = pd.read_excel(\"employees.xls\")\n",
    "df_empl.head()"
   ]
  },
  {
   "cell_type": "code",
   "execution_count": 39,
   "metadata": {},
   "outputs": [
    {
     "data": {
      "text/html": [
       "<div>\n",
       "<style scoped>\n",
       "    .dataframe tbody tr th:only-of-type {\n",
       "        vertical-align: middle;\n",
       "    }\n",
       "\n",
       "    .dataframe tbody tr th {\n",
       "        vertical-align: top;\n",
       "    }\n",
       "\n",
       "    .dataframe thead th {\n",
       "        text-align: right;\n",
       "    }\n",
       "</style>\n",
       "<table border=\"1\" class=\"dataframe\">\n",
       "  <thead>\n",
       "    <tr style=\"text-align: right;\">\n",
       "      <th></th>\n",
       "      <th>AGE</th>\n",
       "      <th>HEIGHT</th>\n",
       "      <th>SENIOR</th>\n",
       "      <th>SALARY</th>\n",
       "      <th>INI_PROF</th>\n",
       "      <th>CUR_PROF</th>\n",
       "    </tr>\n",
       "  </thead>\n",
       "  <tbody>\n",
       "    <tr>\n",
       "      <th>count</th>\n",
       "      <td>100.000000</td>\n",
       "      <td>100.000000</td>\n",
       "      <td>100.000000</td>\n",
       "      <td>100.000000</td>\n",
       "      <td>100.000000</td>\n",
       "      <td>100.000000</td>\n",
       "    </tr>\n",
       "    <tr>\n",
       "      <th>mean</th>\n",
       "      <td>30.830000</td>\n",
       "      <td>66.210000</td>\n",
       "      <td>3.760000</td>\n",
       "      <td>24522.000000</td>\n",
       "      <td>99.470000</td>\n",
       "      <td>106.950000</td>\n",
       "    </tr>\n",
       "    <tr>\n",
       "      <th>std</th>\n",
       "      <td>7.150694</td>\n",
       "      <td>2.786312</td>\n",
       "      <td>3.928965</td>\n",
       "      <td>5105.801414</td>\n",
       "      <td>14.438623</td>\n",
       "      <td>15.828867</td>\n",
       "    </tr>\n",
       "    <tr>\n",
       "      <th>min</th>\n",
       "      <td>18.000000</td>\n",
       "      <td>60.000000</td>\n",
       "      <td>0.000000</td>\n",
       "      <td>16000.000000</td>\n",
       "      <td>66.000000</td>\n",
       "      <td>68.000000</td>\n",
       "    </tr>\n",
       "    <tr>\n",
       "      <th>25%</th>\n",
       "      <td>26.000000</td>\n",
       "      <td>64.000000</td>\n",
       "      <td>1.000000</td>\n",
       "      <td>21025.000000</td>\n",
       "      <td>89.000000</td>\n",
       "      <td>94.000000</td>\n",
       "    </tr>\n",
       "    <tr>\n",
       "      <th>50%</th>\n",
       "      <td>29.000000</td>\n",
       "      <td>67.000000</td>\n",
       "      <td>3.000000</td>\n",
       "      <td>23650.000000</td>\n",
       "      <td>98.000000</td>\n",
       "      <td>106.000000</td>\n",
       "    </tr>\n",
       "    <tr>\n",
       "      <th>75%</th>\n",
       "      <td>35.250000</td>\n",
       "      <td>68.000000</td>\n",
       "      <td>5.000000</td>\n",
       "      <td>26225.000000</td>\n",
       "      <td>108.250000</td>\n",
       "      <td>117.250000</td>\n",
       "    </tr>\n",
       "    <tr>\n",
       "      <th>max</th>\n",
       "      <td>54.000000</td>\n",
       "      <td>73.000000</td>\n",
       "      <td>17.000000</td>\n",
       "      <td>42400.000000</td>\n",
       "      <td>137.000000</td>\n",
       "      <td>142.000000</td>\n",
       "    </tr>\n",
       "  </tbody>\n",
       "</table>\n",
       "</div>"
      ],
      "text/plain": [
       "              AGE      HEIGHT      SENIOR        SALARY    INI_PROF  \\\n",
       "count  100.000000  100.000000  100.000000    100.000000  100.000000   \n",
       "mean    30.830000   66.210000    3.760000  24522.000000   99.470000   \n",
       "std      7.150694    2.786312    3.928965   5105.801414   14.438623   \n",
       "min     18.000000   60.000000    0.000000  16000.000000   66.000000   \n",
       "25%     26.000000   64.000000    1.000000  21025.000000   89.000000   \n",
       "50%     29.000000   67.000000    3.000000  23650.000000   98.000000   \n",
       "75%     35.250000   68.000000    5.000000  26225.000000  108.250000   \n",
       "max     54.000000   73.000000   17.000000  42400.000000  137.000000   \n",
       "\n",
       "         CUR_PROF  \n",
       "count  100.000000  \n",
       "mean   106.950000  \n",
       "std     15.828867  \n",
       "min     68.000000  \n",
       "25%     94.000000  \n",
       "50%    106.000000  \n",
       "75%    117.250000  \n",
       "max    142.000000  "
      ]
     },
     "execution_count": 39,
     "metadata": {},
     "output_type": "execute_result"
    }
   ],
   "source": [
    "df_empl.describe()"
   ]
  },
  {
   "cell_type": "code",
   "execution_count": 40,
   "metadata": {},
   "outputs": [
    {
     "data": {
      "image/png": "[encoded data removed]",
      "text/plain": [
       "<Figure size 1152x288 with 2 Axes>"
      ]
     },
     "metadata": {
      "needs_background": "light"
     },
     "output_type": "display_data"
    }
   ],
   "source": [
    "fig, (ax1, ax2) = plt.subplots(ncols=2, figsize=(16,4)) \n",
    "\n",
    "ax1.set_title('Salary histogram')\n",
    "ax1.hist(df_empl['SALARY'], bins=20)\n",
    "\n",
    "ax2.set_title('Probability plot for Salary normality check')\n",
    "qqplot(df_empl['SALARY'], line='r', ax=ax2)\n",
    "\n",
    "plt.show()"
   ]
  },
  {
   "cell_type": "markdown",
   "metadata": {},
   "source": [
    "<span style=\"color:blue\">\n",
    "Вывод: распределение зарплат не похоже на нормальный закон, т.к. у гистограммы имеется тяжелый хвост справа. Кроме того, на квантильном графике точки сильно отклоняются от прямой.\n",
    "</span>"
   ]
  },
  {
   "cell_type": "code",
   "execution_count": 41,
   "metadata": {},
   "outputs": [
    {
     "name": "stdout",
     "output_type": "stream",
     "text": [
      "P-value для критериев Колмогорова-Смирнова, Шапиро-Уилка и Харке-Бера:\n",
      "\n",
      "[0.01698505923931981, 1.6645467439957429e-06, 4.011000820369759e-08]\n"
     ]
    }
   ],
   "source": [
    "# Критерии Колмогорова-Смирнова, Шапиро-Уилка и Харке-Бера для проверки на соответствие нормальному распределению\n",
    "pvalues = [stats.kstest(df_empl['SALARY'], stats.norm(*stats.norm.fit(df_empl['SALARY'])).cdf)[1],\n",
    "            stats.shapiro(df_empl['SALARY'])[1],\n",
    "            stats.jarque_bera(df_empl['SALARY'])[1]]\n",
    "\n",
    "print('P-value для критериев Колмогорова-Смирнова, Шапиро-Уилка и Харке-Бера:\\n')\n",
    "print(pvalues)"
   ]
  },
  {
   "cell_type": "code",
   "execution_count": 42,
   "metadata": {},
   "outputs": [
    {
     "data": {
      "text/plain": [
       "AndersonResult(statistic=3.0036985166536283, critical_values=array([0.555, 0.632, 0.759, 0.885, 1.053]), significance_level=array([15. , 10. ,  5. ,  2.5,  1. ]))"
      ]
     },
     "execution_count": 42,
     "metadata": {},
     "output_type": "execute_result"
    }
   ],
   "source": [
    "# Критерий Андерсона-Дарлинга для проверки на соответствие нормальному распределению\n",
    "stats.anderson(df_empl['SALARY'], dist='norm')"
   ]
  },
  {
   "cell_type": "markdown",
   "metadata": {},
   "source": [
    "<span style=\"color:blue\">\n",
    "Вывод: в критериях Колмогорова-Смирнова, Шапиро-Уилка и Харке-Бера p-value < 5%, а в критерии Андерсона-Дарлинга statistic > critical_value при том же уровне значимости. Таким образом, нулевая гипотеза о соответствии нормальному распределению отвергается при данном уровне значимости.\n",
    "</span>"
   ]
  },
  {
   "cell_type": "markdown",
   "metadata": {},
   "source": [
    "**Упражнение 2 (30 баллов).** Раньше люди часто пользовались табицами случайных чисел (например, когда у них не было доступа к компьютеру с нужным статистическим софтом). Такие таблицы есть почти в любом учебнике по статистике. В книге М. Кадырова \"Таблицы случайных чисел\"  (Ташкент, 1936) приведены 2000 4-х значных псевдослучайных чисел. 1-я цифра оказалась нулем у 160, тройкой - у 247, шестеркой - у 191, девяткой - у 185 (остальные 1217 чисел начинались с других цифр). Стоит ли пользоваться такой таблицей?"
   ]
  },
  {
   "cell_type": "code",
   "execution_count": 43,
   "metadata": {},
   "outputs": [
    {
     "data": {
      "text/plain": [
       "Power_divergenceResult(statistic=20.815833333333337, pvalue=0.0003444336417994683)"
      ]
     },
     "execution_count": 43,
     "metadata": {},
     "output_type": "execute_result"
    }
   ],
   "source": [
    "obs = np.array([160/2000, 247/2000, 191/2000, 185/2000, 1217/2000])\n",
    "exp = np.array([1/10, 1/10, 1/10, 1/10, 6/10])\n",
    "\n",
    "obs = obs*2000\n",
    "exp = exp*2000\n",
    "\n",
    "# Критерий хи-квадрат\n",
    "stats.chisquare(obs, exp)"
   ]
  },
  {
   "cell_type": "markdown",
   "metadata": {},
   "source": [
    "<span style=\"color:blue\">\n",
    "Вывод: p-value < 5%, поэтому нулевая гипотеза о соответствии теоретическому распределению отвергается при данном уровне значимости, и значит такой таблицей пользоваться нельзя. \n",
    "</span>"
   ]
  },
  {
   "cell_type": "markdown",
   "metadata": {},
   "source": [
    "**Упражнение 3 (40 баллов).** Методом перебора найдите наиболее подходящий тип распределения для выборки, содержащейся в файле sample.csv. Сначала постройте гистограмму, чтобы получить представление о форме плотности распределения. Затем изучите квантильные графики для разных распределений. Если будет такая возможность, порпобуйте применить какие-то критерии согласия."
   ]
  },
  {
   "cell_type": "code",
   "execution_count": 44,
   "metadata": {},
   "outputs": [
    {
     "data": {
      "text/html": [
       "<div>\n",
       "<style scoped>\n",
       "    .dataframe tbody tr th:only-of-type {\n",
       "        vertical-align: middle;\n",
       "    }\n",
       "\n",
       "    .dataframe tbody tr th {\n",
       "        vertical-align: top;\n",
       "    }\n",
       "\n",
       "    .dataframe thead th {\n",
       "        text-align: right;\n",
       "    }\n",
       "</style>\n",
       "<table border=\"1\" class=\"dataframe\">\n",
       "  <thead>\n",
       "    <tr style=\"text-align: right;\">\n",
       "      <th></th>\n",
       "      <th>Sample</th>\n",
       "    </tr>\n",
       "  </thead>\n",
       "  <tbody>\n",
       "    <tr>\n",
       "      <th>0</th>\n",
       "      <td>0.416099</td>\n",
       "    </tr>\n",
       "    <tr>\n",
       "      <th>1</th>\n",
       "      <td>10.767169</td>\n",
       "    </tr>\n",
       "    <tr>\n",
       "      <th>2</th>\n",
       "      <td>7.598518</td>\n",
       "    </tr>\n",
       "    <tr>\n",
       "      <th>3</th>\n",
       "      <td>4.407626</td>\n",
       "    </tr>\n",
       "    <tr>\n",
       "      <th>4</th>\n",
       "      <td>3.381943</td>\n",
       "    </tr>\n",
       "  </tbody>\n",
       "</table>\n",
       "</div>"
      ],
      "text/plain": [
       "      Sample\n",
       "0   0.416099\n",
       "1  10.767169\n",
       "2   7.598518\n",
       "3   4.407626\n",
       "4   3.381943"
      ]
     },
     "execution_count": 44,
     "metadata": {},
     "output_type": "execute_result"
    }
   ],
   "source": [
    "df_sample = pd.read_csv('sample.csv')\n",
    "df_sample.head()"
   ]
  },
  {
   "cell_type": "code",
   "execution_count": 45,
   "metadata": {},
   "outputs": [
    {
     "data": {
      "text/html": [
       "<div>\n",
       "<style scoped>\n",
       "    .dataframe tbody tr th:only-of-type {\n",
       "        vertical-align: middle;\n",
       "    }\n",
       "\n",
       "    .dataframe tbody tr th {\n",
       "        vertical-align: top;\n",
       "    }\n",
       "\n",
       "    .dataframe thead th {\n",
       "        text-align: right;\n",
       "    }\n",
       "</style>\n",
       "<table border=\"1\" class=\"dataframe\">\n",
       "  <thead>\n",
       "    <tr style=\"text-align: right;\">\n",
       "      <th></th>\n",
       "      <th>Sample</th>\n",
       "    </tr>\n",
       "  </thead>\n",
       "  <tbody>\n",
       "    <tr>\n",
       "      <th>count</th>\n",
       "      <td>100.000000</td>\n",
       "    </tr>\n",
       "    <tr>\n",
       "      <th>mean</th>\n",
       "      <td>3.825389</td>\n",
       "    </tr>\n",
       "    <tr>\n",
       "      <th>std</th>\n",
       "      <td>3.255657</td>\n",
       "    </tr>\n",
       "    <tr>\n",
       "      <th>min</th>\n",
       "      <td>0.003851</td>\n",
       "    </tr>\n",
       "    <tr>\n",
       "      <th>25%</th>\n",
       "      <td>1.498980</td>\n",
       "    </tr>\n",
       "    <tr>\n",
       "      <th>50%</th>\n",
       "      <td>3.342138</td>\n",
       "    </tr>\n",
       "    <tr>\n",
       "      <th>75%</th>\n",
       "      <td>4.814318</td>\n",
       "    </tr>\n",
       "    <tr>\n",
       "      <th>max</th>\n",
       "      <td>14.578639</td>\n",
       "    </tr>\n",
       "  </tbody>\n",
       "</table>\n",
       "</div>"
      ],
      "text/plain": [
       "           Sample\n",
       "count  100.000000\n",
       "mean     3.825389\n",
       "std      3.255657\n",
       "min      0.003851\n",
       "25%      1.498980\n",
       "50%      3.342138\n",
       "75%      4.814318\n",
       "max     14.578639"
      ]
     },
     "execution_count": 45,
     "metadata": {},
     "output_type": "execute_result"
    }
   ],
   "source": [
    "df_sample.describe()"
   ]
  },
  {
   "cell_type": "code",
   "execution_count": 46,
   "metadata": {},
   "outputs": [
    {
     "data": {
      "text/plain": [
       "<AxesSubplot:title={'center':'Sample histogram'}, ylabel='Frequency'>"
      ]
     },
     "execution_count": 46,
     "metadata": {},
     "output_type": "execute_result"
    },
    {
     "data": {
      "image/png": "[encoded data removed]",
      "text/plain": [
       "<Figure size 432x288 with 1 Axes>"
      ]
     },
     "metadata": {
      "needs_background": "light"
     },
     "output_type": "display_data"
    }
   ],
   "source": [
    "df_sample['Sample'].plot.hist(title = 'Sample histogram')"
   ]
  },
  {
   "cell_type": "markdown",
   "metadata": {},
   "source": [
    "<span style=\"color:blue\">\n",
    "Вывод: гистограмма не соответствует, как минимум, равномерному распределению, поэтому его можно сразу отбросить.\n",
    "</span>"
   ]
  },
  {
   "cell_type": "markdown",
   "metadata": {},
   "source": [
    "### 1. Проверка на соответствие нормальному распределению"
   ]
  },
  {
   "cell_type": "code",
   "execution_count": 47,
   "metadata": {},
   "outputs": [
    {
     "data": {
      "image/png": "[encoded data removed]",
      "text/plain": [
       "<Figure size 432x288 with 1 Axes>"
      ]
     },
     "metadata": {
      "needs_background": "light"
     },
     "output_type": "display_data"
    }
   ],
   "source": [
    "# Квантальный график для проверки на соответствие нормальному распределению\n",
    "ax = plt.subplot()\n",
    "plt.title('Probability plot for Sample normality check')\n",
    "qqplot(df_sample['Sample'], line='r', ax=ax)\n",
    "plt.show()"
   ]
  },
  {
   "cell_type": "code",
   "execution_count": 48,
   "metadata": {},
   "outputs": [
    {
     "name": "stdout",
     "output_type": "stream",
     "text": [
      "P-value для критериев Колмогорова-Смирнова, Шапиро-Уилка и Харке-Бера:\n",
      "\n",
      "[0.04585040476240576, 3.6403054792799594e-08, 3.732014697277464e-12]\n"
     ]
    }
   ],
   "source": [
    "# Критерии Колмогорова-Смирнова, Шапиро-Уилка и Харке-Бера для проверки на соответствие нормальному распределению\n",
    "pvalues = [stats.kstest(df_sample['Sample'], stats.norm(*stats.norm.fit(df_sample['Sample'])).cdf)[1],\n",
    "            stats.shapiro(df_sample['Sample'])[1],\n",
    "            stats.jarque_bera(df_sample['Sample'])[1]]\n",
    "\n",
    "print('P-value для критериев Колмогорова-Смирнова, Шапиро-Уилка и Харке-Бера:\\n')\n",
    "print(pvalues)"
   ]
  },
  {
   "cell_type": "code",
   "execution_count": 49,
   "metadata": {},
   "outputs": [
    {
     "data": {
      "text/plain": [
       "AndersonResult(statistic=3.5696770756482152, critical_values=array([0.555, 0.632, 0.759, 0.885, 1.053]), significance_level=array([15. , 10. ,  5. ,  2.5,  1. ]))"
      ]
     },
     "execution_count": 49,
     "metadata": {},
     "output_type": "execute_result"
    }
   ],
   "source": [
    "# Критерий Андерсона-Дарлинга для проверки на соответствие нормальному распределению\n",
    "stats.anderson(df_sample['Sample'], dist='norm')"
   ]
  },
  {
   "cell_type": "markdown",
   "metadata": {},
   "source": [
    "<span style=\"color:blue\">\n",
    "Вывод: в критериях Колмогорова-Смирнова, Шапиро-Уилка и Харке-Бера p-value < 5%, а в критерии Андерсона-Дарлинга statistic > critical_value при том же уровне значимости. Таким образом, нулевая гипотеза о соответствии нормальному распределению отвергается при данном уровне значимости.\n",
    "</span>"
   ]
  },
  {
   "cell_type": "markdown",
   "metadata": {},
   "source": [
    "### 2. Проверка на соответствие распределению Лапласа"
   ]
  },
  {
   "cell_type": "code",
   "execution_count": 50,
   "metadata": {},
   "outputs": [
    {
     "data": {
      "image/png": "[encoded data removed]",
      "text/plain": [
       "<Figure size 432x288 with 1 Axes>"
      ]
     },
     "metadata": {
      "needs_background": "light"
     },
     "output_type": "display_data"
    }
   ],
   "source": [
    "# Квантальный график для проверки на соответствие распределению Лапласа\n",
    "ax = plt.subplot()\n",
    "plt.title('Probability plot for Sample laplacianity check')\n",
    "qqplot(df_sample['Sample'], dist=stats.laplace, line='r', ax=ax)\n",
    "plt.show()"
   ]
  },
  {
   "cell_type": "code",
   "execution_count": 51,
   "metadata": {},
   "outputs": [
    {
     "data": {
      "text/plain": [
       "KstestResult(statistic=0.11988712942638292, pvalue=0.1038747426806107)"
      ]
     },
     "execution_count": 51,
     "metadata": {},
     "output_type": "execute_result"
    }
   ],
   "source": [
    "# Критерий Колмогорова-Смирнова для проверки на соответствие распределению Лапласа\n",
    "stats.kstest(df_sample['Sample'], stats.laplace(*stats.laplace.fit(df_sample['Sample'])).cdf)"
   ]
  },
  {
   "cell_type": "markdown",
   "metadata": {},
   "source": [
    "<span style=\"color:blue\">\n",
    "Вывод: p-value > 5%, однако точки на квантильном графике сильно отклоняются от прямой, поэтому нулевая гипотеза о соответствии распределению Лапласа отвергается.\n",
    "</span>"
   ]
  },
  {
   "cell_type": "markdown",
   "metadata": {},
   "source": [
    "### 3. Проверка на соответствие экспоненциальному распределению"
   ]
  },
  {
   "cell_type": "code",
   "execution_count": 52,
   "metadata": {},
   "outputs": [
    {
     "data": {
      "image/png": "[encoded data removed]",
      "text/plain": [
       "<Figure size 432x288 with 1 Axes>"
      ]
     },
     "metadata": {
      "needs_background": "light"
     },
     "output_type": "display_data"
    }
   ],
   "source": [
    "# Квантильный график для проверки на соответствие экспоненциальному распределению\n",
    "ax = plt.subplot()\n",
    "plt.title('Probability plot for Sample exponentiality check')\n",
    "qqplot(df_sample['Sample'], dist=stats.expon, line='r', ax=ax)\n",
    "plt.show()"
   ]
  },
  {
   "cell_type": "code",
   "execution_count": 53,
   "metadata": {},
   "outputs": [
    {
     "data": {
      "text/plain": [
       "KstestResult(statistic=0.09771189068891123, pvalue=0.2769270773863072)"
      ]
     },
     "execution_count": 53,
     "metadata": {},
     "output_type": "execute_result"
    }
   ],
   "source": [
    "# Критерий Колмогорова-Смирнова для проверки на соответствие экспоненциальному распределению\n",
    "stats.kstest(df_sample['Sample'], stats.expon(*stats.expon.fit(df_sample['Sample'])).cdf)"
   ]
  },
  {
   "cell_type": "code",
   "execution_count": 54,
   "metadata": {},
   "outputs": [
    {
     "data": {
      "text/plain": [
       "AndersonResult(statistic=1.2524656314059257, critical_values=array([0.917, 1.072, 1.333, 1.596, 1.945]), significance_level=array([15. , 10. ,  5. ,  2.5,  1. ]))"
      ]
     },
     "execution_count": 54,
     "metadata": {},
     "output_type": "execute_result"
    }
   ],
   "source": [
    "# Критерий Андерсона-Дарлинга для проверки на соответствие экспоненциальному распределению\n",
    "stats.anderson(df_sample['Sample'], dist='expon')"
   ]
  },
  {
   "cell_type": "markdown",
   "metadata": {},
   "source": [
    "<span style=\"color:blue\">\n",
    "Вывод: в критерии Колмогорова-Смирнова p-value > 5%, а в критерии Андерсона-Дарлинга statistic < critical_value при том же уровне значимости. Кроме того, почти все точки на квантильном графике лежат на одной прямой. Таким образом, нулевая гипотеза о соответствии экспоненциальному распределению не отвергается при данном уровне значимости.\n",
    "</span>"
   ]
  }
 ],
 "metadata": {
  "kernelspec": {
   "display_name": "Python 3",
   "language": "python",
   "name": "python3"
  },
  "language_info": {
   "codemirror_mode": {
    "name": "ipython",
    "version": 3
   },
   "file_extension": ".py",
   "mimetype": "text/x-python",
   "name": "python",
   "nbconvert_exporter": "python",
   "pygments_lexer": "ipython3",
   "version": "3.8.5"
  }
 },
 "nbformat": 4,
 "nbformat_minor": 2
}
