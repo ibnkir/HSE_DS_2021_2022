{
 "cells": [
  {
   "cell_type": "markdown",
   "metadata": {},
   "source": [
    "## ВШЭ, ФКН, Программа \"Специалист по DS\", Курс \"Прикладная статистика для ML\"\n",
    "### ДЗ №2: Критерии однородности\n",
    "    \n",
    "#### *Выполнил: Кирилл Н., 15.12.2021 г.*"
   ]
  },
  {
   "cell_type": "code",
   "execution_count": 1,
   "metadata": {},
   "outputs": [],
   "source": [
    "import pandas as pd\n",
    "import numpy as np\n",
    "from scipy import stats\n",
    "import matplotlib.pyplot as plt\n",
    "from statsmodels.graphics.gofplots import qqplot,qqplot_2samples\n",
    "from statsmodels.stats.descriptivestats import sign_test"
   ]
  },
  {
   "cell_type": "markdown",
   "metadata": {},
   "source": [
    "### Упражнение 1 (25 баллов).\n",
    "\n",
    "В файле anorexia.txt записан вес пациентов до начала терапии анорексии и после ее окончания. Была ли терапия эффективна?"
   ]
  },
  {
   "cell_type": "code",
   "execution_count": 2,
   "metadata": {
    "scrolled": true
   },
   "outputs": [
    {
     "data": {
      "text/html": [
       "<div>\n",
       "<style scoped>\n",
       "    .dataframe tbody tr th:only-of-type {\n",
       "        vertical-align: middle;\n",
       "    }\n",
       "\n",
       "    .dataframe tbody tr th {\n",
       "        vertical-align: top;\n",
       "    }\n",
       "\n",
       "    .dataframe thead th {\n",
       "        text-align: right;\n",
       "    }\n",
       "</style>\n",
       "<table border=\"1\" class=\"dataframe\">\n",
       "  <thead>\n",
       "    <tr style=\"text-align: right;\">\n",
       "      <th></th>\n",
       "      <th>Before</th>\n",
       "      <th>After</th>\n",
       "    </tr>\n",
       "  </thead>\n",
       "  <tbody>\n",
       "    <tr>\n",
       "      <th>0</th>\n",
       "      <td>80.5</td>\n",
       "      <td>82.2</td>\n",
       "    </tr>\n",
       "    <tr>\n",
       "      <th>1</th>\n",
       "      <td>84.9</td>\n",
       "      <td>85.6</td>\n",
       "    </tr>\n",
       "    <tr>\n",
       "      <th>2</th>\n",
       "      <td>81.5</td>\n",
       "      <td>81.4</td>\n",
       "    </tr>\n",
       "    <tr>\n",
       "      <th>3</th>\n",
       "      <td>82.6</td>\n",
       "      <td>81.9</td>\n",
       "    </tr>\n",
       "    <tr>\n",
       "      <th>4</th>\n",
       "      <td>79.9</td>\n",
       "      <td>76.4</td>\n",
       "    </tr>\n",
       "  </tbody>\n",
       "</table>\n",
       "</div>"
      ],
      "text/plain": [
       "   Before  After\n",
       "0    80.5   82.2\n",
       "1    84.9   85.6\n",
       "2    81.5   81.4\n",
       "3    82.6   81.9\n",
       "4    79.9   76.4"
      ]
     },
     "execution_count": 2,
     "metadata": {},
     "output_type": "execute_result"
    }
   ],
   "source": [
    "df_anor = pd.read_csv('HW2_Data/anorexia.txt', sep='\\t', header=0, names=['Before', 'After'])\n",
    "df_anor.head()"
   ]
  },
  {
   "cell_type": "code",
   "execution_count": 3,
   "metadata": {},
   "outputs": [
    {
     "data": {
      "text/html": [
       "<div>\n",
       "<style scoped>\n",
       "    .dataframe tbody tr th:only-of-type {\n",
       "        vertical-align: middle;\n",
       "    }\n",
       "\n",
       "    .dataframe tbody tr th {\n",
       "        vertical-align: top;\n",
       "    }\n",
       "\n",
       "    .dataframe thead th {\n",
       "        text-align: right;\n",
       "    }\n",
       "</style>\n",
       "<table border=\"1\" class=\"dataframe\">\n",
       "  <thead>\n",
       "    <tr style=\"text-align: right;\">\n",
       "      <th></th>\n",
       "      <th>Before</th>\n",
       "      <th>After</th>\n",
       "    </tr>\n",
       "  </thead>\n",
       "  <tbody>\n",
       "    <tr>\n",
       "      <th>count</th>\n",
       "      <td>29.000000</td>\n",
       "      <td>29.000000</td>\n",
       "    </tr>\n",
       "    <tr>\n",
       "      <th>mean</th>\n",
       "      <td>82.689655</td>\n",
       "      <td>85.696552</td>\n",
       "    </tr>\n",
       "    <tr>\n",
       "      <th>std</th>\n",
       "      <td>4.845495</td>\n",
       "      <td>8.351924</td>\n",
       "    </tr>\n",
       "    <tr>\n",
       "      <th>min</th>\n",
       "      <td>70.000000</td>\n",
       "      <td>71.300000</td>\n",
       "    </tr>\n",
       "    <tr>\n",
       "      <th>25%</th>\n",
       "      <td>80.400000</td>\n",
       "      <td>81.900000</td>\n",
       "    </tr>\n",
       "    <tr>\n",
       "      <th>50%</th>\n",
       "      <td>82.600000</td>\n",
       "      <td>83.900000</td>\n",
       "    </tr>\n",
       "    <tr>\n",
       "      <th>75%</th>\n",
       "      <td>85.000000</td>\n",
       "      <td>90.900000</td>\n",
       "    </tr>\n",
       "    <tr>\n",
       "      <th>max</th>\n",
       "      <td>94.900000</td>\n",
       "      <td>103.600000</td>\n",
       "    </tr>\n",
       "  </tbody>\n",
       "</table>\n",
       "</div>"
      ],
      "text/plain": [
       "          Before       After\n",
       "count  29.000000   29.000000\n",
       "mean   82.689655   85.696552\n",
       "std     4.845495    8.351924\n",
       "min    70.000000   71.300000\n",
       "25%    80.400000   81.900000\n",
       "50%    82.600000   83.900000\n",
       "75%    85.000000   90.900000\n",
       "max    94.900000  103.600000"
      ]
     },
     "execution_count": 3,
     "metadata": {},
     "output_type": "execute_result"
    }
   ],
   "source": [
    "df_anor.describe()"
   ]
  },
  {
   "cell_type": "code",
   "execution_count": 4,
   "metadata": {},
   "outputs": [],
   "source": [
    "sample_before = df_anor['Before']\n",
    "sample_after = df_anor['After']\n",
    "sample_ba_diff = sample_before - sample_after"
   ]
  },
  {
   "cell_type": "code",
   "execution_count": 47,
   "metadata": {},
   "outputs": [
    {
     "data": {
      "image/png": "[encoded data removed]",
      "text/plain": [
       "<Figure size 864x288 with 2 Axes>"
      ]
     },
     "metadata": {
      "needs_background": "light"
     },
     "output_type": "display_data"
    }
   ],
   "source": [
    "# Boxplot and qqplot\n",
    "fig, (ax1, ax2) = plt.subplots(ncols=2, figsize=(12,4)) \n",
    "\n",
    "df_anor.boxplot(ax=ax1)\n",
    "qqplot_2samples(sample_before, sample_after, line='r', ax=ax2)\n",
    "\n",
    "plt.suptitle('Сравнение веса пациентов до и после терапии')\n",
    "plt.show()"
   ]
  },
  {
   "cell_type": "code",
   "execution_count": 68,
   "metadata": {},
   "outputs": [
    {
     "data": {
      "image/png": "[encoded data removed]",
      "text/plain": [
       "<Figure size 432x288 with 1 Axes>"
      ]
     },
     "metadata": {
      "needs_background": "light"
     },
     "output_type": "display_data"
    }
   ],
   "source": [
    "# Гистограммы\n",
    "fig, ax = plt.subplots(ncols=1, figsize=(6,4)) \n",
    "\n",
    "plt.hist(sample_ba_diff, bins=5, density=True)\n",
    "ax.set_xlabel(\"Weight\")\n",
    "ax.set_ylabel(\"Proportion of people\")\n",
    "ax.grid(True)\n",
    "\n",
    "plt.suptitle('Гистограмма разности между выборками до и после приема терапии')\n",
    "plt.show()"
   ]
  },
  {
   "cell_type": "code",
   "execution_count": 8,
   "metadata": {},
   "outputs": [
    {
     "data": {
      "image/png": "[encoded data removed]",
      "text/plain": [
       "<Figure size 432x288 with 1 Axes>"
      ]
     },
     "metadata": {
      "needs_background": "light"
     },
     "output_type": "display_data"
    }
   ],
   "source": [
    "# Квантильный график\n",
    "ax = plt.subplot()\n",
    "plt.title('Квантильный график для разности между весами до и после терапии')\n",
    "qqplot(sample_ba_diff, line='s', ax=ax)\n",
    "plt.show()"
   ]
  },
  {
   "cell_type": "code",
   "execution_count": 9,
   "metadata": {},
   "outputs": [
    {
     "name": "stdout",
     "output_type": "stream",
     "text": [
      "Медиана разности наблюдений до и после терапии: -1.40\n"
     ]
    }
   ],
   "source": [
    "print('Медиана разности наблюдений до и после терапии: {:.2f}'.format(np.median(sample_ba_diff)))"
   ]
  },
  {
   "cell_type": "markdown",
   "metadata": {},
   "source": [
    "<span style=\"color:blue\">\n",
    "Предварительные выводы: \n",
    "<li> Из приведенных данных и графиков следует, что вес после терапии вырос незначительно, \n",
    "т.е. лечение вряд ли было эффективным.</li>\n",
    "<li> Распределение разности между выборками внешне далеко от нормального и симметричного.</li>\n",
    "<li> Будем использовать критерии однородности для зависимых выборок.</li>\n",
    "</span>"
   ]
  },
  {
   "cell_type": "markdown",
   "metadata": {},
   "source": [
    "**1. Критерий знаков**"
   ]
  },
  {
   "cell_type": "code",
   "execution_count": 62,
   "metadata": {},
   "outputs": [
    {
     "data": {
      "text/plain": [
       "(-3.5, 0.26493089646101)"
      ]
     },
     "execution_count": 62,
     "metadata": {},
     "output_type": "execute_result"
    }
   ],
   "source": [
    "# Критерий знаков\n",
    "sign_test(sample_ba_diff)"
   ]
  },
  {
   "cell_type": "markdown",
   "metadata": {},
   "source": [
    "<span style=\"color:blue\">\n",
    "Вывод: двусторонний критерий знаков не отвергает нулевую гипотезу о равенстве нулю параметра сдвига.\n",
    "</span>"
   ]
  },
  {
   "cell_type": "markdown",
   "metadata": {},
   "source": [
    "**2. Критерий знаковых рангов Уилкоксона**"
   ]
  },
  {
   "cell_type": "code",
   "execution_count": 240,
   "metadata": {},
   "outputs": [
    {
     "data": {
      "text/plain": [
       "WilcoxonResult(statistic=131.5, pvalue=0.9685401386869866)"
      ]
     },
     "execution_count": 240,
     "metadata": {},
     "output_type": "execute_result"
    }
   ],
   "source": [
    "# Критерий знаковых рангов Уилкоксона\n",
    "# The one-sided test has the null hypothesis that the median is negative against the alternative that it is positive\n",
    "stats.wilcoxon(sample_before, sample_after, alternative='greater')"
   ]
  },
  {
   "cell_type": "markdown",
   "metadata": {},
   "source": [
    "<span style=\"color:blue\">\n",
    "Вывод: односторонний критерий знаковых рангов Уилкоксона не отвергает нулевую гипотезу об отрицательности параметра сдвига \n",
    "до и после терапии при условии симметричности распределения остатков.\n",
    "</span>"
   ]
  },
  {
   "cell_type": "markdown",
   "metadata": {},
   "source": [
    "**3. Критерий Стьюдента ($t$-тест)**"
   ]
  },
  {
   "cell_type": "code",
   "execution_count": 242,
   "metadata": {},
   "outputs": [
    {
     "name": "stdout",
     "output_type": "stream",
     "text": [
      "P-values для критериев Колмогорова-Смирнова, Шапиро-Уилка и Харке-Бера:\n",
      "\n",
      "[0.09437088443968988, 0.007945147342979908, 0.15358887634143104]\n"
     ]
    }
   ],
   "source": [
    "# Проверка на нормальность с помощью критериев Колмогорова-Смирнова, Шапиро-Уилка и Харке-Бера\n",
    "pvalues = [stats.kstest(sample_ba_diff, stats.norm(*stats.norm.fit(sample_ba_diff)).cdf)[1],\n",
    "            stats.shapiro(sample_ba_diff)[1],\n",
    "            stats.jarque_bera(sample_ba_diff)[1]]\n",
    "\n",
    "print('P-values для критериев Колмогорова-Смирнова, Шапиро-Уилка и Харке-Бера:\\n')\n",
    "print(pvalues)"
   ]
  },
  {
   "cell_type": "markdown",
   "metadata": {},
   "source": [
    "<span style=\"color:blue\">\n",
    "Вывод: cудя по графикам и критерию Шапиро-Уилка, предположение о нормальности не выполняется. \n",
    "В то же время критерии Колмогорова-Смирнова и Харке-Бера не отвергают эту гипотезу. \n",
    "Такой разброс может быть связан с небольшим объемом выборки. \n",
    "В любом случае, применим критерий Стьюдента.\n",
    "</span>"
   ]
  },
  {
   "cell_type": "code",
   "execution_count": 243,
   "metadata": {},
   "outputs": [
    {
     "data": {
      "text/plain": [
       "Ttest_relResult(statistic=-2.215587843931166, pvalue=0.03502259756218883)"
      ]
     },
     "execution_count": 243,
     "metadata": {},
     "output_type": "execute_result"
    }
   ],
   "source": [
    "# Критерий Стьюдента\n",
    "stats.ttest_rel(sample_before, sample_after)"
   ]
  },
  {
   "cell_type": "markdown",
   "metadata": {},
   "source": [
    "<span style=\"color:blue\">\n",
    "Вывод: двусторонний критерий Стьюдента отвергает нулевую гипотезу о равенстве нулю параметра сдвига при уровне значимости 5%, \n",
    "однако условие нормальности вряд ли выполняется, как следует из сказанного выше. \n",
    "</span>"
   ]
  },
  {
   "cell_type": "markdown",
   "metadata": {},
   "source": [
    "<span style=\"color:blue\">\n",
    "ИТОГОВЫЙ ВЫВОД: в целом, наиболее корректным в данном случае является применение критерия знаков и визуальный анализ\n",
    "графиков, из которых следует, что гипотеза о равенстве нулю параметра сдвига не отвергается. \n",
    "Таким образом, эффект от данной терапии можно считать незначительным.\n",
    "</span>"
   ]
  },
  {
   "cell_type": "markdown",
   "metadata": {},
   "source": [
    "### Упражнение 2 (25 баллов).\n",
    "\n",
    "В файле weights.txt записан вес пациентов мужского и женского пола. Есть ли значимые различия в весе мужчин и женщин?"
   ]
  },
  {
   "cell_type": "code",
   "execution_count": 11,
   "metadata": {},
   "outputs": [
    {
     "data": {
      "text/html": [
       "<div>\n",
       "<style scoped>\n",
       "    .dataframe tbody tr th:only-of-type {\n",
       "        vertical-align: middle;\n",
       "    }\n",
       "\n",
       "    .dataframe tbody tr th {\n",
       "        vertical-align: top;\n",
       "    }\n",
       "\n",
       "    .dataframe thead th {\n",
       "        text-align: right;\n",
       "    }\n",
       "</style>\n",
       "<table border=\"1\" class=\"dataframe\">\n",
       "  <thead>\n",
       "    <tr style=\"text-align: right;\">\n",
       "      <th></th>\n",
       "      <th>Group</th>\n",
       "      <th>Weight</th>\n",
       "    </tr>\n",
       "  </thead>\n",
       "  <tbody>\n",
       "    <tr>\n",
       "      <th>0</th>\n",
       "      <td>Woman</td>\n",
       "      <td>38.9</td>\n",
       "    </tr>\n",
       "    <tr>\n",
       "      <th>1</th>\n",
       "      <td>Woman</td>\n",
       "      <td>61.2</td>\n",
       "    </tr>\n",
       "    <tr>\n",
       "      <th>2</th>\n",
       "      <td>Woman</td>\n",
       "      <td>73.3</td>\n",
       "    </tr>\n",
       "    <tr>\n",
       "      <th>3</th>\n",
       "      <td>Woman</td>\n",
       "      <td>21.8</td>\n",
       "    </tr>\n",
       "    <tr>\n",
       "      <th>4</th>\n",
       "      <td>Woman</td>\n",
       "      <td>63.4</td>\n",
       "    </tr>\n",
       "    <tr>\n",
       "      <th>5</th>\n",
       "      <td>Woman</td>\n",
       "      <td>64.6</td>\n",
       "    </tr>\n",
       "    <tr>\n",
       "      <th>6</th>\n",
       "      <td>Woman</td>\n",
       "      <td>48.4</td>\n",
       "    </tr>\n",
       "    <tr>\n",
       "      <th>7</th>\n",
       "      <td>Woman</td>\n",
       "      <td>48.8</td>\n",
       "    </tr>\n",
       "    <tr>\n",
       "      <th>8</th>\n",
       "      <td>Woman</td>\n",
       "      <td>48.5</td>\n",
       "    </tr>\n",
       "    <tr>\n",
       "      <th>9</th>\n",
       "      <td>Woman</td>\n",
       "      <td>50.1</td>\n",
       "    </tr>\n",
       "    <tr>\n",
       "      <th>10</th>\n",
       "      <td>Man</td>\n",
       "      <td>60.0</td>\n",
       "    </tr>\n",
       "    <tr>\n",
       "      <th>11</th>\n",
       "      <td>Man</td>\n",
       "      <td>63.4</td>\n",
       "    </tr>\n",
       "    <tr>\n",
       "      <th>12</th>\n",
       "      <td>Man</td>\n",
       "      <td>76.0</td>\n",
       "    </tr>\n",
       "    <tr>\n",
       "      <th>13</th>\n",
       "      <td>Man</td>\n",
       "      <td>89.4</td>\n",
       "    </tr>\n",
       "    <tr>\n",
       "      <th>14</th>\n",
       "      <td>Man</td>\n",
       "      <td>73.3</td>\n",
       "    </tr>\n",
       "    <tr>\n",
       "      <th>15</th>\n",
       "      <td>Man</td>\n",
       "      <td>67.3</td>\n",
       "    </tr>\n",
       "    <tr>\n",
       "      <th>16</th>\n",
       "      <td>Man</td>\n",
       "      <td>61.3</td>\n",
       "    </tr>\n",
       "    <tr>\n",
       "      <th>17</th>\n",
       "      <td>Man</td>\n",
       "      <td>62.4</td>\n",
       "    </tr>\n",
       "    <tr>\n",
       "      <th>18</th>\n",
       "      <td>Man</td>\n",
       "      <td>64.3</td>\n",
       "    </tr>\n",
       "    <tr>\n",
       "      <th>19</th>\n",
       "      <td>Man</td>\n",
       "      <td>72.2</td>\n",
       "    </tr>\n",
       "  </tbody>\n",
       "</table>\n",
       "</div>"
      ],
      "text/plain": [
       "    Group  Weight\n",
       "0   Woman    38.9\n",
       "1   Woman    61.2\n",
       "2   Woman    73.3\n",
       "3   Woman    21.8\n",
       "4   Woman    63.4\n",
       "5   Woman    64.6\n",
       "6   Woman    48.4\n",
       "7   Woman    48.8\n",
       "8   Woman    48.5\n",
       "9   Woman    50.1\n",
       "10    Man    60.0\n",
       "11    Man    63.4\n",
       "12    Man    76.0\n",
       "13    Man    89.4\n",
       "14    Man    73.3\n",
       "15    Man    67.3\n",
       "16    Man    61.3\n",
       "17    Man    62.4\n",
       "18    Man    64.3\n",
       "19    Man    72.2"
      ]
     },
     "execution_count": 11,
     "metadata": {},
     "output_type": "execute_result"
    }
   ],
   "source": [
    "df_weights = pd.read_csv('HW2_Data/weights.txt', sep='\\t', header=0, names=['Group', 'Weight'])\n",
    "df_weights"
   ]
  },
  {
   "cell_type": "code",
   "execution_count": 12,
   "metadata": {},
   "outputs": [],
   "source": [
    "sample_m = df_weights[df_weights['Group']=='Man']['Weight']\n",
    "sample_f = df_weights[df_weights['Group']=='Woman']['Weight']"
   ]
  },
  {
   "cell_type": "code",
   "execution_count": 13,
   "metadata": {},
   "outputs": [
    {
     "data": {
      "image/png": "[encoded data removed]",
      "text/plain": [
       "<Figure size 864x288 with 2 Axes>"
      ]
     },
     "metadata": {
      "needs_background": "light"
     },
     "output_type": "display_data"
    }
   ],
   "source": [
    "# Boxplot and qqplot\n",
    "fig, (ax1, ax2) = plt.subplots(ncols=2, figsize=(12,4)) \n",
    "\n",
    "df_weights.boxplot(column='Weight', by='Group', ax=ax1)\n",
    "qqplot_2samples(sample_m.values, sample_f.values, line='r', ax=ax2)\n",
    "\n",
    "plt.suptitle('Сравнение мужчин и женщин по весу')\n",
    "plt.show()"
   ]
  },
  {
   "cell_type": "code",
   "execution_count": 14,
   "metadata": {},
   "outputs": [
    {
     "data": {
      "image/png": "[encoded data removed]",
      "text/plain": [
       "<Figure size 864x288 with 2 Axes>"
      ]
     },
     "metadata": {
      "needs_background": "light"
     },
     "output_type": "display_data"
    }
   ],
   "source": [
    "# Гистограммы\n",
    "fig, (ax1, ax2) = plt.subplots(ncols=2, figsize=(12,4), sharey=True, sharex=True) \n",
    "\n",
    "sample_m.plot.hist(ax=ax1, title = 'Men', density=True)\n",
    "ax1.set_xlabel(\"Weight\")\n",
    "ax1.set_ylabel(\"Proportion of people\")\n",
    "ax1.grid(True)\n",
    "\n",
    "sample_f.plot.hist(ax=ax2, title = 'Women', density=True)\n",
    "ax2.set_xlabel(\"Weight\")\n",
    "ax2.grid(True)\n",
    "\n",
    "plt.suptitle('Распределение мужчин и женщин по весу')\n",
    "plt.show()"
   ]
  },
  {
   "cell_type": "code",
   "execution_count": 48,
   "metadata": {},
   "outputs": [
    {
     "data": {
      "image/png": "[encoded data removed]",
      "text/plain": [
       "<Figure size 864x288 with 2 Axes>"
      ]
     },
     "metadata": {
      "needs_background": "light"
     },
     "output_type": "display_data"
    }
   ],
   "source": [
    "# Квантильный график\n",
    "fig, (ax1, ax2) = plt.subplots(ncols=2, figsize=(12,4)) \n",
    "\n",
    "qqplot(sample_m.values, line='r', ax=ax1)\n",
    "ax1.set_title('Men')\n",
    "\n",
    "qqplot(sample_f.values, line='r', ax=ax2)\n",
    "ax2.set_title('Women')\n",
    "\n",
    "plt.suptitle('Квантильные графики для веса мужчин и женщин')\n",
    "plt.show()"
   ]
  },
  {
   "cell_type": "code",
   "execution_count": 18,
   "metadata": {},
   "outputs": [
    {
     "name": "stdout",
     "output_type": "stream",
     "text": [
      "Медиана попарных разностей между весами мужчин и женщин: 14.70\n"
     ]
    }
   ],
   "source": [
    "# Посчитаем медиану попарных разностей\n",
    "print('Медиана попарных разностей между весами мужчин и женщин: {:.2f}'.\\\n",
    "      format(np.median(np.subtract.outer(sample_m.values, sample_f.values))))"
   ]
  },
  {
   "cell_type": "markdown",
   "metadata": {},
   "source": [
    "<span style=\"color:blue\">\n",
    "Предварительные вывоы: \n",
    "<li>Из приведенных данных и графиков следует, что вес у мужчин и женщин заметно отличается.</li>\n",
    "<li>Учитывая относительно небольшой объем выборки, по графикам трудно сделать однозначный вывод о \n",
    "нормальности распределения.</li>\n",
    "<li>Используем критерии однородности для независимых выборок.</li>\n",
    "</span>"
   ]
  },
  {
   "cell_type": "markdown",
   "metadata": {},
   "source": [
    "**1. Критерий Колмогорова-Смирнова**"
   ]
  },
  {
   "cell_type": "code",
   "execution_count": 58,
   "metadata": {},
   "outputs": [
    {
     "data": {
      "text/plain": [
       "KstestResult(statistic=0.6, pvalue=0.05244755244755244)"
      ]
     },
     "execution_count": 58,
     "metadata": {},
     "output_type": "execute_result"
    }
   ],
   "source": [
    "# Критерий Колмогорова-Смирнова\n",
    "stats.ks_2samp(sample_m, sample_f)"
   ]
  },
  {
   "cell_type": "markdown",
   "metadata": {},
   "source": [
    "<span style=\"color:blue\">\n",
    "Вывод: согласно критерию Колмогорова-Смирнова нулевая гипотеза о равенстве двух непрерывных функций распределения \n",
    "не отвергается при уровне значимости 5%. Тем не менее, такой результат нельзя считать значимым из-за небольшого \n",
    "объема выборок (нужно, как минимум, 20 наблюдений).\n",
    "</span>"
   ]
  },
  {
   "cell_type": "markdown",
   "metadata": {},
   "source": [
    "**2. Критерий Манна-Уитни**"
   ]
  },
  {
   "cell_type": "code",
   "execution_count": 20,
   "metadata": {},
   "outputs": [
    {
     "data": {
      "text/plain": [
       "MannwhitneyuResult(statistic=83.0, pvalue=0.013947279555790499)"
      ]
     },
     "execution_count": 20,
     "metadata": {},
     "output_type": "execute_result"
    }
   ],
   "source": [
    "# Критерий Манна-Уитни\n",
    "stats.mannwhitneyu(sample_m, sample_f, alternative='two-sided')"
   ]
  },
  {
   "cell_type": "markdown",
   "metadata": {},
   "source": [
    "<span style=\"color:blue\">\n",
    "Вывод: согласно критерию Манна-Уитни нулевая гипотеза о равенстве двух функций распределения отвергается \n",
    "при уровне значимости 5%.\n",
    "</span>"
   ]
  },
  {
   "cell_type": "markdown",
   "metadata": {},
   "source": [
    "**3. Критерий Стьюдента ($t$-тест)**"
   ]
  },
  {
   "cell_type": "code",
   "execution_count": 21,
   "metadata": {},
   "outputs": [
    {
     "data": {
      "text/plain": [
       "(0.7135707403341931, 0.7433777039796527)"
      ]
     },
     "execution_count": 21,
     "metadata": {},
     "output_type": "execute_result"
    }
   ],
   "source": [
    "# Проверка на нормальность с помощью критерия Колмогорова-Смрнова\n",
    "stats.kstest(sample_m, stats.norm(*stats.norm.fit(sample_m)).cdf)[1], \\\n",
    "stats.kstest(sample_f, stats.norm(*stats.norm.fit(sample_f)).cdf)[1]"
   ]
  },
  {
   "cell_type": "code",
   "execution_count": 22,
   "metadata": {},
   "outputs": [
    {
     "data": {
      "text/plain": [
       "(ShapiroResult(statistic=0.8678708672523499, pvalue=0.09440553188323975),\n",
       " ShapiroResult(statistic=0.9407824277877808, pvalue=0.5617526769638062))"
      ]
     },
     "execution_count": 22,
     "metadata": {},
     "output_type": "execute_result"
    }
   ],
   "source": [
    "# Проверка на нормальность с помощью критерия Шапиро-Уилка\n",
    "stats.shapiro(sample_m), stats.shapiro(sample_f)"
   ]
  },
  {
   "cell_type": "code",
   "execution_count": 23,
   "metadata": {},
   "outputs": [
    {
     "data": {
      "text/plain": [
       "(Jarque_beraResult(statistic=2.3510592791412637, pvalue=0.30865546024322177),\n",
       " Jarque_beraResult(statistic=0.5367327289648527, pvalue=0.7646275973873512))"
      ]
     },
     "execution_count": 23,
     "metadata": {},
     "output_type": "execute_result"
    }
   ],
   "source": [
    "# Проверка на нормальность с помощью критерия Харке-Бера\n",
    "stats.jarque_bera(sample_m), stats.jarque_bera(sample_f)"
   ]
  },
  {
   "cell_type": "markdown",
   "metadata": {},
   "source": [
    "<span style=\"color:blue\">\n",
    "Вывод: cудя по графикам и критериям, гипотеза о нормальности не отвергается, хотя нужно учитывать,\n",
    "что этот результат получен на выборках сравнительно небольшого объема. \n",
    "Далее попробуем применить критерий Стьюдента.\n",
    "</span>"
   ]
  },
  {
   "cell_type": "code",
   "execution_count": 56,
   "metadata": {},
   "outputs": [
    {
     "data": {
      "text/plain": [
       "Ttest_indResult(statistic=3.124146252379086, pvalue=0.006994671118290716)"
      ]
     },
     "execution_count": 56,
     "metadata": {},
     "output_type": "execute_result"
    }
   ],
   "source": [
    "# Критерий Стьюдента\n",
    "stats.ttest_ind(sample_m, sample_f, equal_var=False)"
   ]
  },
  {
   "cell_type": "markdown",
   "metadata": {},
   "source": [
    "<span style=\"color:blue\">\n",
    "Вывод: Критерий Стьюдента отвергает нулевую гипотезу о равенстве МО при условии нормальности выборок. \n",
    "</span>"
   ]
  },
  {
   "cell_type": "markdown",
   "metadata": {},
   "source": [
    "<span style=\"color:blue\">\n",
    "ИТОГОВЫЙ ВЫВОД: большинство рассмотренных критериев отвергает гипотезу о равенстве распределений и МО,\n",
    "из чего можно сделать вывод о наличии значимых различий по весу между мужчинами и женщинами.\n",
    "</span>"
   ]
  },
  {
   "cell_type": "markdown",
   "metadata": {},
   "source": [
    "### Упражнение 3 (25 баллов).\n",
    "\n",
    "В файле seattle.txt записаны цены на недвижимость в одном из районов Сиэтла в 2001 и 2002 гг. (объекты недвижимости выбирались случайно). Изменились ли в среднем цены в этом районе за год?"
   ]
  },
  {
   "cell_type": "code",
   "execution_count": 25,
   "metadata": {},
   "outputs": [
    {
     "data": {
      "text/html": [
       "<div>\n",
       "<style scoped>\n",
       "    .dataframe tbody tr th:only-of-type {\n",
       "        vertical-align: middle;\n",
       "    }\n",
       "\n",
       "    .dataframe tbody tr th {\n",
       "        vertical-align: top;\n",
       "    }\n",
       "\n",
       "    .dataframe thead th {\n",
       "        text-align: right;\n",
       "    }\n",
       "</style>\n",
       "<table border=\"1\" class=\"dataframe\">\n",
       "  <thead>\n",
       "    <tr style=\"text-align: right;\">\n",
       "      <th></th>\n",
       "      <th>Price</th>\n",
       "      <th>Year</th>\n",
       "    </tr>\n",
       "  </thead>\n",
       "  <tbody>\n",
       "    <tr>\n",
       "      <th>0</th>\n",
       "      <td>142.0</td>\n",
       "      <td>2002</td>\n",
       "    </tr>\n",
       "    <tr>\n",
       "      <th>1</th>\n",
       "      <td>232.0</td>\n",
       "      <td>2002</td>\n",
       "    </tr>\n",
       "    <tr>\n",
       "      <th>2</th>\n",
       "      <td>132.5</td>\n",
       "      <td>2002</td>\n",
       "    </tr>\n",
       "    <tr>\n",
       "      <th>3</th>\n",
       "      <td>200.0</td>\n",
       "      <td>2002</td>\n",
       "    </tr>\n",
       "    <tr>\n",
       "      <th>4</th>\n",
       "      <td>362.0</td>\n",
       "      <td>2002</td>\n",
       "    </tr>\n",
       "  </tbody>\n",
       "</table>\n",
       "</div>"
      ],
      "text/plain": [
       "   Price  Year\n",
       "0  142.0  2002\n",
       "1  232.0  2002\n",
       "2  132.5  2002\n",
       "3  200.0  2002\n",
       "4  362.0  2002"
      ]
     },
     "execution_count": 25,
     "metadata": {},
     "output_type": "execute_result"
    }
   ],
   "source": [
    "df_seattle = pd.read_csv('HW2_Data/seattle.txt', sep='\\t', header=0, names=['Price', 'Year'])\n",
    "df_seattle.head()"
   ]
  },
  {
   "cell_type": "code",
   "execution_count": 26,
   "metadata": {},
   "outputs": [
    {
     "data": {
      "text/html": [
       "<div>\n",
       "<style scoped>\n",
       "    .dataframe tbody tr th:only-of-type {\n",
       "        vertical-align: middle;\n",
       "    }\n",
       "\n",
       "    .dataframe tbody tr th {\n",
       "        vertical-align: top;\n",
       "    }\n",
       "\n",
       "    .dataframe thead th {\n",
       "        text-align: right;\n",
       "    }\n",
       "</style>\n",
       "<table border=\"1\" class=\"dataframe\">\n",
       "  <thead>\n",
       "    <tr style=\"text-align: right;\">\n",
       "      <th></th>\n",
       "      <th>Price</th>\n",
       "      <th>Year</th>\n",
       "    </tr>\n",
       "  </thead>\n",
       "  <tbody>\n",
       "    <tr>\n",
       "      <th>count</th>\n",
       "      <td>100.00000</td>\n",
       "      <td>100.000000</td>\n",
       "    </tr>\n",
       "    <tr>\n",
       "      <th>mean</th>\n",
       "      <td>309.09184</td>\n",
       "      <td>2001.500000</td>\n",
       "    </tr>\n",
       "    <tr>\n",
       "      <th>std</th>\n",
       "      <td>249.83113</td>\n",
       "      <td>0.502519</td>\n",
       "    </tr>\n",
       "    <tr>\n",
       "      <th>min</th>\n",
       "      <td>50.00000</td>\n",
       "      <td>2001.000000</td>\n",
       "    </tr>\n",
       "    <tr>\n",
       "      <th>25%</th>\n",
       "      <td>178.60000</td>\n",
       "      <td>2001.000000</td>\n",
       "    </tr>\n",
       "    <tr>\n",
       "      <th>50%</th>\n",
       "      <td>248.95000</td>\n",
       "      <td>2001.500000</td>\n",
       "    </tr>\n",
       "    <tr>\n",
       "      <th>75%</th>\n",
       "      <td>337.75000</td>\n",
       "      <td>2002.000000</td>\n",
       "    </tr>\n",
       "    <tr>\n",
       "      <th>max</th>\n",
       "      <td>1850.00000</td>\n",
       "      <td>2002.000000</td>\n",
       "    </tr>\n",
       "  </tbody>\n",
       "</table>\n",
       "</div>"
      ],
      "text/plain": [
       "            Price         Year\n",
       "count   100.00000   100.000000\n",
       "mean    309.09184  2001.500000\n",
       "std     249.83113     0.502519\n",
       "min      50.00000  2001.000000\n",
       "25%     178.60000  2001.000000\n",
       "50%     248.95000  2001.500000\n",
       "75%     337.75000  2002.000000\n",
       "max    1850.00000  2002.000000"
      ]
     },
     "execution_count": 26,
     "metadata": {},
     "output_type": "execute_result"
    }
   ],
   "source": [
    "df_seattle.describe()"
   ]
  },
  {
   "cell_type": "code",
   "execution_count": 27,
   "metadata": {},
   "outputs": [],
   "source": [
    "sample_2001 = df_seattle[df_seattle['Year']==2001]['Price']\n",
    "sample_2002 = df_seattle[df_seattle['Year']==2002]['Price']"
   ]
  },
  {
   "cell_type": "code",
   "execution_count": 28,
   "metadata": {},
   "outputs": [
    {
     "data": {
      "image/png": "[encoded data removed]",
      "text/plain": [
       "<Figure size 864x288 with 2 Axes>"
      ]
     },
     "metadata": {
      "needs_background": "light"
     },
     "output_type": "display_data"
    }
   ],
   "source": [
    "# Boxplot and qqplot\n",
    "fig, (ax1, ax2) = plt.subplots(ncols=2, figsize=(12,4)) \n",
    "\n",
    "df_seattle.boxplot(column='Price', by='Year', ax=ax1)\n",
    "qqplot_2samples(sample_2001.values, sample_2002.values, line='r', ax=ax2)\n",
    "\n",
    "plt.suptitle('Сравнение цен в 2001 и 2002 гг.')\n",
    "plt.show()"
   ]
  },
  {
   "cell_type": "code",
   "execution_count": 29,
   "metadata": {},
   "outputs": [
    {
     "data": {
      "image/png": "[encoded data removed]",
      "text/plain": [
       "<Figure size 864x288 with 2 Axes>"
      ]
     },
     "metadata": {
      "needs_background": "light"
     },
     "output_type": "display_data"
    }
   ],
   "source": [
    "# Гистограммы\n",
    "fig, (ax1, ax2) = plt.subplots(ncols=2, figsize=(12,4), sharey=True, sharex=True) \n",
    "\n",
    "sample_2001.plot.hist(ax=ax1, title = '2001', density=True)\n",
    "ax1.set_xlabel(\"Price\")\n",
    "ax1.set_ylabel(\"Proportion of houses\")\n",
    "ax1.grid(True)\n",
    "\n",
    "sample_2002.plot.hist(ax=ax2, title = '2002', density=True)\n",
    "ax2.set_xlabel(\"Price\")\n",
    "ax2.grid(True)\n",
    "\n",
    "plt.suptitle('Распределение цен в 2001 и 2002 гг.')\n",
    "plt.show()"
   ]
  },
  {
   "cell_type": "code",
   "execution_count": 30,
   "metadata": {},
   "outputs": [
    {
     "data": {
      "image/png": "[encoded data removed]",
      "text/plain": [
       "<Figure size 864x288 with 2 Axes>"
      ]
     },
     "metadata": {
      "needs_background": "light"
     },
     "output_type": "display_data"
    }
   ],
   "source": [
    "# Квантильные графики\n",
    "fig, (ax1, ax2) = plt.subplots(ncols=2, figsize=(12,4)) \n",
    "\n",
    "qqplot(sample_2001.values, line='r', ax=ax1)\n",
    "ax1.set_title('2001')\n",
    "\n",
    "qqplot(sample_2002.values, line='r', ax=ax2)\n",
    "ax2.set_title('2002')\n",
    "\n",
    "plt.suptitle('Квантильные графики цен в 2001 и 2002 гг.')\n",
    "plt.show()"
   ]
  },
  {
   "cell_type": "code",
   "execution_count": 31,
   "metadata": {},
   "outputs": [
    {
     "name": "stdout",
     "output_type": "stream",
     "text": [
      "Медиана попарных разностей между ценами в 2001 и 2002 гг.: 8.15\n"
     ]
    }
   ],
   "source": [
    "# Посчитаем медиану попарных разностей\n",
    "print('Медиана попарных разностей между ценами в 2001 и 2002 гг.: {:.2f}'.\\\n",
    "      format(np.median(np.subtract.outer(sample_2001.values, sample_2002.values))))"
   ]
  },
  {
   "cell_type": "markdown",
   "metadata": {},
   "source": [
    "<span style=\"color:blue\">\n",
    "Предварительные выводы: \n",
    "<li>Из приведенных данных и графиков следует, что цены в 2001 и 2002 гг. в среднем мало отличаются.</li>\n",
    "<li>Распределения далеки от нормального, причем в данном случае мы имеем выборки достаточно большого объема.</li>\n",
    "<li>Будем использовать критерии однородности для независимых выборок, за исключением критерия Стьюдента, \n",
    "который требует нормальности распределений.</li>\n",
    "</span>"
   ]
  },
  {
   "cell_type": "markdown",
   "metadata": {},
   "source": [
    "**1. Критерий Колмогорова-Смирнова**"
   ]
  },
  {
   "cell_type": "code",
   "execution_count": 32,
   "metadata": {},
   "outputs": [
    {
     "data": {
      "text/plain": [
       "KstestResult(statistic=0.14, pvalue=0.7166468440414822)"
      ]
     },
     "execution_count": 32,
     "metadata": {},
     "output_type": "execute_result"
    }
   ],
   "source": [
    "stats.ks_2samp(sample_2001, sample_2002)"
   ]
  },
  {
   "cell_type": "markdown",
   "metadata": {},
   "source": [
    "<span style=\"color:blue\">\n",
    "Вывод: согласно критерию Колмогорова-Смирнова нулевая гипотеза о равенстве двух непрерывных функций распределения \n",
    "не отвергается.\n",
    "</span>"
   ]
  },
  {
   "cell_type": "markdown",
   "metadata": {},
   "source": [
    "**2. Критерий Манна-Уитни**"
   ]
  },
  {
   "cell_type": "code",
   "execution_count": 33,
   "metadata": {},
   "outputs": [
    {
     "data": {
      "text/plain": [
       "MannwhitneyuResult(statistic=1295.5, pvalue=0.7563872675701748)"
      ]
     },
     "execution_count": 33,
     "metadata": {},
     "output_type": "execute_result"
    }
   ],
   "source": [
    "stats.mannwhitneyu(sample_2001, sample_2002, alternative='two-sided')"
   ]
  },
  {
   "cell_type": "markdown",
   "metadata": {},
   "source": [
    "<span style=\"color:blue\">\n",
    "Вывод: согласно критерию Манна-Уитни нулевая гипотеза о равенстве двух функций распределения не отвергается.\n",
    "</span>"
   ]
  },
  {
   "cell_type": "markdown",
   "metadata": {},
   "source": [
    "<span style=\"color:blue\">\n",
    "ИТОГОВЫЙ ВЫВОД: из приведенных критериев следует, что в среднем цены за год не изменились.\n",
    "</span>"
   ]
  },
  {
   "cell_type": "markdown",
   "metadata": {},
   "source": [
    "### Упражнение 4 (25 баллов).\n",
    "\n",
    "В рамках исследования эффективности препарата метилфенидат пациенты с синдромом дефицита внимания и гиперактивности \n",
    "в течение недели принимали либо метилфенидат, либо плацебо. В конце недели каждый пациент проходил тест на способность \n",
    "к подавлению импульсивных поведенческих реакций. На втором этапе плацебо и препарат менялись, и после недельного курса \n",
    "каждый испытуемый проходил второй тест. Был ли эффект от применения препарата? Данные находятся в файле methylphenidate.txt."
   ]
  },
  {
   "cell_type": "code",
   "execution_count": 34,
   "metadata": {},
   "outputs": [
    {
     "data": {
      "text/html": [
       "<div>\n",
       "<style scoped>\n",
       "    .dataframe tbody tr th:only-of-type {\n",
       "        vertical-align: middle;\n",
       "    }\n",
       "\n",
       "    .dataframe tbody tr th {\n",
       "        vertical-align: top;\n",
       "    }\n",
       "\n",
       "    .dataframe thead th {\n",
       "        text-align: right;\n",
       "    }\n",
       "</style>\n",
       "<table border=\"1\" class=\"dataframe\">\n",
       "  <thead>\n",
       "    <tr style=\"text-align: right;\">\n",
       "      <th></th>\n",
       "      <th>Placebo</th>\n",
       "      <th>Methylphenidate</th>\n",
       "    </tr>\n",
       "  </thead>\n",
       "  <tbody>\n",
       "    <tr>\n",
       "      <th>0</th>\n",
       "      <td>57</td>\n",
       "      <td>62</td>\n",
       "    </tr>\n",
       "    <tr>\n",
       "      <th>1</th>\n",
       "      <td>27</td>\n",
       "      <td>49</td>\n",
       "    </tr>\n",
       "    <tr>\n",
       "      <th>2</th>\n",
       "      <td>32</td>\n",
       "      <td>30</td>\n",
       "    </tr>\n",
       "    <tr>\n",
       "      <th>3</th>\n",
       "      <td>31</td>\n",
       "      <td>34</td>\n",
       "    </tr>\n",
       "    <tr>\n",
       "      <th>4</th>\n",
       "      <td>34</td>\n",
       "      <td>38</td>\n",
       "    </tr>\n",
       "  </tbody>\n",
       "</table>\n",
       "</div>"
      ],
      "text/plain": [
       "   Placebo  Methylphenidate\n",
       "0       57               62\n",
       "1       27               49\n",
       "2       32               30\n",
       "3       31               34\n",
       "4       34               38"
      ]
     },
     "execution_count": 34,
     "metadata": {},
     "output_type": "execute_result"
    }
   ],
   "source": [
    "df_methyl = pd.read_csv('HW2_Data/methylphenidate.txt', sep=' ', header=0, names=['Placebo', 'Methylphenidate'])\n",
    "df_methyl.head()"
   ]
  },
  {
   "cell_type": "code",
   "execution_count": 35,
   "metadata": {},
   "outputs": [
    {
     "data": {
      "text/html": [
       "<div>\n",
       "<style scoped>\n",
       "    .dataframe tbody tr th:only-of-type {\n",
       "        vertical-align: middle;\n",
       "    }\n",
       "\n",
       "    .dataframe tbody tr th {\n",
       "        vertical-align: top;\n",
       "    }\n",
       "\n",
       "    .dataframe thead th {\n",
       "        text-align: right;\n",
       "    }\n",
       "</style>\n",
       "<table border=\"1\" class=\"dataframe\">\n",
       "  <thead>\n",
       "    <tr style=\"text-align: right;\">\n",
       "      <th></th>\n",
       "      <th>Placebo</th>\n",
       "      <th>Methylphenidate</th>\n",
       "    </tr>\n",
       "  </thead>\n",
       "  <tbody>\n",
       "    <tr>\n",
       "      <th>count</th>\n",
       "      <td>24.000000</td>\n",
       "      <td>24.000000</td>\n",
       "    </tr>\n",
       "    <tr>\n",
       "      <th>mean</th>\n",
       "      <td>39.750000</td>\n",
       "      <td>44.708333</td>\n",
       "    </tr>\n",
       "    <tr>\n",
       "      <th>std</th>\n",
       "      <td>11.314669</td>\n",
       "      <td>12.319935</td>\n",
       "    </tr>\n",
       "    <tr>\n",
       "      <th>min</th>\n",
       "      <td>26.000000</td>\n",
       "      <td>29.000000</td>\n",
       "    </tr>\n",
       "    <tr>\n",
       "      <th>25%</th>\n",
       "      <td>33.000000</td>\n",
       "      <td>35.000000</td>\n",
       "    </tr>\n",
       "    <tr>\n",
       "      <th>50%</th>\n",
       "      <td>36.000000</td>\n",
       "      <td>42.500000</td>\n",
       "    </tr>\n",
       "    <tr>\n",
       "      <th>75%</th>\n",
       "      <td>44.500000</td>\n",
       "      <td>52.500000</td>\n",
       "    </tr>\n",
       "    <tr>\n",
       "      <th>max</th>\n",
       "      <td>71.000000</td>\n",
       "      <td>77.000000</td>\n",
       "    </tr>\n",
       "  </tbody>\n",
       "</table>\n",
       "</div>"
      ],
      "text/plain": [
       "         Placebo  Methylphenidate\n",
       "count  24.000000        24.000000\n",
       "mean   39.750000        44.708333\n",
       "std    11.314669        12.319935\n",
       "min    26.000000        29.000000\n",
       "25%    33.000000        35.000000\n",
       "50%    36.000000        42.500000\n",
       "75%    44.500000        52.500000\n",
       "max    71.000000        77.000000"
      ]
     },
     "execution_count": 35,
     "metadata": {},
     "output_type": "execute_result"
    }
   ],
   "source": [
    "df_methyl.describe()"
   ]
  },
  {
   "cell_type": "code",
   "execution_count": 36,
   "metadata": {},
   "outputs": [],
   "source": [
    "sample_plac = df_methyl['Placebo']\n",
    "sample_methyl = df_methyl['Methylphenidate']\n",
    "sample_pm_diff = sample_plac - sample_methyl"
   ]
  },
  {
   "cell_type": "code",
   "execution_count": 37,
   "metadata": {},
   "outputs": [
    {
     "data": {
      "image/png": "[encoded data removed]",
      "text/plain": [
       "<Figure size 864x288 with 2 Axes>"
      ]
     },
     "metadata": {
      "needs_background": "light"
     },
     "output_type": "display_data"
    }
   ],
   "source": [
    "# Boxplot and qqplot\n",
    "fig, (ax1, ax2) = plt.subplots(ncols=2, figsize=(12,4)) \n",
    "\n",
    "df_methyl.boxplot(ax=ax1)\n",
    "qqplot_2samples(sample_plac, sample_methyl, line='r', ax=ax2)\n",
    "\n",
    "plt.suptitle('Сравнение индекса до и после приема лекарства')\n",
    "plt.show()"
   ]
  },
  {
   "cell_type": "code",
   "execution_count": 66,
   "metadata": {},
   "outputs": [
    {
     "data": {
      "image/png": "[encoded data removed]",
      "text/plain": [
       "<Figure size 432x288 with 1 Axes>"
      ]
     },
     "metadata": {
      "needs_background": "light"
     },
     "output_type": "display_data"
    }
   ],
   "source": [
    "# Гистограммы\n",
    "fig, ax = plt.subplots(ncols=1, figsize=(6,4)) \n",
    "\n",
    "plt.hist(sample_pm_diff, bins=5, density=True)\n",
    "ax.set_xlabel(\"Index\")\n",
    "ax.set_ylabel(\"Proportion of people\")\n",
    "ax.grid(True)\n",
    "\n",
    "plt.suptitle('Гистограмма разности между выборками до и после приема лекарства')\n",
    "plt.show()"
   ]
  },
  {
   "cell_type": "code",
   "execution_count": 39,
   "metadata": {},
   "outputs": [
    {
     "data": {
      "image/png": "[encoded data removed]",
      "text/plain": [
       "<Figure size 432x288 with 1 Axes>"
      ]
     },
     "metadata": {
      "needs_background": "light"
     },
     "output_type": "display_data"
    }
   ],
   "source": [
    "# Квантильный график\n",
    "ax = plt.subplot()\n",
    "plt.title('Квантильный график для разности между выборками до и после приема лекарства')\n",
    "qqplot(sample_pm_diff, line='s', ax=ax)\n",
    "plt.show()"
   ]
  },
  {
   "cell_type": "code",
   "execution_count": 40,
   "metadata": {},
   "outputs": [
    {
     "name": "stdout",
     "output_type": "stream",
     "text": [
      "Медиана разности наблюдений до и после приема лекарства: -5\n"
     ]
    }
   ],
   "source": [
    "print('Медиана разности наблюдений до и после приема лекарства: {:.0f}'.format(np.median(sample_pm_diff)))"
   ]
  },
  {
   "cell_type": "markdown",
   "metadata": {},
   "source": [
    "<span style=\"color:blue\">\n",
    "Предварительные выводы: \n",
    "<li>Из приведенных данных и графиков следует, что индекс после приема лекарства заметно вырос, \n",
    "т.е. лекарство может быть эффективным.</li>\n",
    "<li>Распределение разности между выборками внешне близко к нормальному.</li>\n",
    "<li>Будем использовать критерии однородности для зависимых выборок.</li>\n",
    "</span>"
   ]
  },
  {
   "cell_type": "markdown",
   "metadata": {},
   "source": [
    "**1. Критерий знаков**"
   ]
  },
  {
   "cell_type": "code",
   "execution_count": 41,
   "metadata": {},
   "outputs": [
    {
     "data": {
      "text/plain": [
       "(-5.0, 0.06391465663909912)"
      ]
     },
     "execution_count": 41,
     "metadata": {},
     "output_type": "execute_result"
    }
   ],
   "source": [
    "# Критерий знаков\n",
    "sign_test(sample_pm_diff)"
   ]
  },
  {
   "cell_type": "markdown",
   "metadata": {},
   "source": [
    "<span style=\"color:blue\">\n",
    "Вывод: двусторонний критерий знаков не отвергает нулевую гипотезу о равенстве нулю параметра сдвига.\n",
    "</span>"
   ]
  },
  {
   "cell_type": "markdown",
   "metadata": {},
   "source": [
    "**2. Критерий знаковых рангов Уилкоксона**"
   ]
  },
  {
   "cell_type": "code",
   "execution_count": 61,
   "metadata": {},
   "outputs": [
    {
     "data": {
      "text/plain": [
       "WilcoxonResult(statistic=48.5, pvalue=0.9988771080970764)"
      ]
     },
     "execution_count": 61,
     "metadata": {},
     "output_type": "execute_result"
    }
   ],
   "source": [
    "# Критерий знаковых рангов Уилкоксона\n",
    "# The one-sided test has the null hypothesis that the median is negative against the alternative that it is positive\n",
    "stats.wilcoxon(sample_plac, sample_methyl, alternative='greater')"
   ]
  },
  {
   "cell_type": "markdown",
   "metadata": {},
   "source": [
    "<span style=\"color:blue\">\n",
    "Вывод: односторонний критерий знаковых рангов Уилкоксона не отвергает нулевую гипотезу об отрицательности параметра сдвига \n",
    "до и после приема лекарства при условии симметричности распределения остатков.\n",
    "</span>"
   ]
  },
  {
   "cell_type": "markdown",
   "metadata": {},
   "source": [
    "**3. Критерий Стьюдента ($t$-тест)**"
   ]
  },
  {
   "cell_type": "code",
   "execution_count": 43,
   "metadata": {},
   "outputs": [
    {
     "data": {
      "text/plain": [
       "(ShapiroResult(statistic=0.9798052906990051, pvalue=0.8922504186630249),\n",
       " Jarque_beraResult(statistic=0.20405627787855618, pvalue=0.9030041417326621))"
      ]
     },
     "execution_count": 43,
     "metadata": {},
     "output_type": "execute_result"
    }
   ],
   "source": [
    "# Проверка на нормальность с помощью критериев Шапиро-Уилка и Харке-Бера\n",
    "stats.shapiro(sample_pm_diff), stats.jarque_bera(sample_pm_diff)"
   ]
  },
  {
   "cell_type": "code",
   "execution_count": 44,
   "metadata": {},
   "outputs": [
    {
     "name": "stdout",
     "output_type": "stream",
     "text": [
      "P-values для критериев Колмогорова-Смирнова, Шапиро-Уилка и Харке-Бера:\n",
      "\n",
      "[0.9530764298191562, 0.8922504186630249, 0.9030041417326621]\n"
     ]
    }
   ],
   "source": [
    "# Проверка на нормальность с помощью критериев Колмогорова-Смирнова, Шапиро-Уилка и Харке-Бера\n",
    "pvalues = [stats.kstest(sample_pm_diff, stats.norm(*stats.norm.fit(sample_pm_diff)).cdf)[1],\n",
    "            stats.shapiro(sample_pm_diff)[1],\n",
    "            stats.jarque_bera(sample_pm_diff)[1]]\n",
    "\n",
    "print('P-values для критериев Колмогорова-Смирнова, Шапиро-Уилка и Харке-Бера:\\n')\n",
    "print(pvalues)"
   ]
  },
  {
   "cell_type": "markdown",
   "metadata": {},
   "source": [
    "<span style=\"color:blue\">\n",
    "Вывод: приведенные выше критерии не отвергают гипотезу о нормальности, хотя нужно помнить о сравнительно небольшом объеме\n",
    "выборки. Далее применим критерий Стьюдента.\n",
    "</span>"
   ]
  },
  {
   "cell_type": "code",
   "execution_count": 45,
   "metadata": {},
   "outputs": [
    {
     "data": {
      "text/plain": [
       "Ttest_relResult(statistic=-3.2223624451230406, pvalue=0.003771488176381471)"
      ]
     },
     "execution_count": 45,
     "metadata": {},
     "output_type": "execute_result"
    }
   ],
   "source": [
    "# Критерий Стьюдента\n",
    "stats.ttest_rel(sample_plac, sample_methyl)"
   ]
  },
  {
   "cell_type": "markdown",
   "metadata": {},
   "source": [
    "<span style=\"color:blue\">\n",
    "Вывод: двусторонний критерий Стьюдента отвергает нулевую гипотезу о равенстве нулю параметра сдвига при уровне значимости 5% и \n",
    "при условии нормальности распределения. \n",
    "</span>"
   ]
  },
  {
   "cell_type": "markdown",
   "metadata": {},
   "source": [
    "<span style=\"color:blue\">\n",
    "ИТОГОВЫЙ ВЫВОД: в целом, большинство критериев при тех или иных условиях отвергают гипотезу о нулевом значении параметра сдвига.\n",
    "Кроме того, один из них - односторонний критерий знаковых рангов Уилкоксона - не отвергает гипотезу об увеличении индекса \n",
    "после применения лекарства. Таким образом, данный препарат можно считать эффективным с достаточным уровнем значимости.\n",
    "</span>"
   ]
  }
 ],
 "metadata": {
  "kernelspec": {
   "display_name": "Python 3",
   "language": "python",
   "name": "python3"
  },
  "language_info": {
   "codemirror_mode": {
    "name": "ipython",
    "version": 3
   },
   "file_extension": ".py",
   "mimetype": "text/x-python",
   "name": "python",
   "nbconvert_exporter": "python",
   "pygments_lexer": "ipython3",
   "version": "3.8.5"
  }
 },
 "nbformat": 4,
 "nbformat_minor": 2
}
